{
 "cells": [
  {
   "cell_type": "markdown",
   "metadata": {},
   "source": [
    "# Exercises\n",
    "###### Create a file named function_exercises.py for this exercise. After creating each function specified below, write the necessary code in order to test your function.\n",
    "\n",
    "1. Define a function named `is_two`. It should accept one input and return `True` if the passed input is either the number or the string 2, `False` otherwise."
   ]
  },
  {
   "cell_type": "code",
   "execution_count": 1,
   "metadata": {},
   "outputs": [
    {
     "data": {
      "text/plain": [
       "True"
      ]
     },
     "execution_count": 1,
     "metadata": {},
     "output_type": "execute_result"
    }
   ],
   "source": [
    "# is_two(n: int/string) -> int\n",
    "\n",
    "def is_two(n):\n",
    "    return n == 2 or n == '2'\n",
    "    \n",
    "is_two(2)"
   ]
  },
  {
   "cell_type": "markdown",
   "metadata": {},
   "source": [
    "2. Define a function named `is_vowel`. It should return `True` if the passed string is a vowel, `False` otherwise."
   ]
  },
  {
   "cell_type": "code",
   "execution_count": 2,
   "metadata": {},
   "outputs": [
    {
     "data": {
      "text/plain": [
       "True"
      ]
     },
     "execution_count": 2,
     "metadata": {},
     "output_type": "execute_result"
    }
   ],
   "source": [
    "def is_vowel(n):\n",
    "    vowels = ['a', 'e', 'i', 'o', 'u']\n",
    "    return n.lower() in vowels\n",
    "\n",
    "is_vowel('U')"
   ]
  },
  {
   "cell_type": "markdown",
   "metadata": {},
   "source": [
    "3. Define a function named `is_consonant`. It should return `True` if the passed string is a consonant, `False` otherwise. Use your `is_vowel` function to accomplish this."
   ]
  },
  {
   "cell_type": "code",
   "execution_count": 33,
   "metadata": {},
   "outputs": [
    {
     "data": {
      "text/plain": [
       "False"
      ]
     },
     "execution_count": 33,
     "metadata": {},
     "output_type": "execute_result"
    }
   ],
   "source": [
    "def is_consonant(n):\n",
    "    if is_vowel(n.lower()):\n",
    "        return False\n",
    "    else: \n",
    "        return True\n",
    "\n",
    "is_consonant('A')"
   ]
  },
  {
   "cell_type": "markdown",
   "metadata": {},
   "source": [
    "4. Define a function that accepts a string that is a word. The function should capitalize the first letter of the word if the word starts with a consonant."
   ]
  },
  {
   "cell_type": "code",
   "execution_count": 38,
   "metadata": {},
   "outputs": [
    {
     "data": {
      "text/plain": [
       "'York'"
      ]
     },
     "execution_count": 38,
     "metadata": {},
     "output_type": "execute_result"
    }
   ],
   "source": [
    "def word(n):\n",
    "    for char in n[0]:\n",
    "        if is_consonant(char):\n",
    "            return n.capitalize()\n",
    "        else:\n",
    "            return n\n",
    "        \n",
    "        \n",
    "word('york')"
   ]
  },
  {
   "cell_type": "markdown",
   "metadata": {},
   "source": [
    "5. Define a function named `calculate_tip`. It should accept a tip percentage (a number between 0 and 1) and the bill total, and return the amount to tip."
   ]
  },
  {
   "cell_type": "code",
   "execution_count": 40,
   "metadata": {},
   "outputs": [
    {
     "data": {
      "text/plain": [
       "'If your bill total is $ 25.26, with a 15% tip, your total payment will be $ 29.05'"
      ]
     },
     "execution_count": 40,
     "metadata": {},
     "output_type": "execute_result"
    }
   ],
   "source": [
    "def calculate_tip(bill_total, tip_percentage):\n",
    "    return (f\"If your bill total is $ {bill_total}, with a {tip_percentage}% tip, your total payment will be $ {bill_total * ((tip_percentage*.01) +1):.2f}\")\n",
    "    \n",
    "    \n",
    "calculate_tip(25.26, 15)    "
   ]
  },
  {
   "cell_type": "markdown",
   "metadata": {},
   "source": [
    "6. Define a function named `apply_discount`. It should accept a original price, and a discount percentage, and return the price after the discount is applied."
   ]
  },
  {
   "cell_type": "code",
   "execution_count": 45,
   "metadata": {},
   "outputs": [
    {
     "data": {
      "text/plain": [
       "\"If the original price was $66.98, with a 35% discount, you'll only pay $43.54!\""
      ]
     },
     "execution_count": 45,
     "metadata": {},
     "output_type": "execute_result"
    }
   ],
   "source": [
    "def apply_discount(original_price, discount_percentage):\n",
    "    return (f\"If the original price was ${original_price}, with a {discount_percentage}% discount, you'll only pay ${original_price * (1 - (discount_percentage * .01)):.2f}!\")\n",
    "\n",
    "apply_discount(66.98, 35)\n",
    "    "
   ]
  },
  {
   "cell_type": "markdown",
   "metadata": {},
   "source": [
    "7. Define a function named `handle_commas`. It should accept a string that is a number that contains commas in it as input, and return a number as output."
   ]
  },
  {
   "cell_type": "code",
   "execution_count": 47,
   "metadata": {},
   "outputs": [
    {
     "data": {
      "text/plain": [
       "1538456"
      ]
     },
     "execution_count": 47,
     "metadata": {},
     "output_type": "execute_result"
    }
   ],
   "source": [
    "def handle_commas(n):\n",
    "    return int(n.replace(',', ''))\n",
    "    \n",
    "    \n",
    "handle_commas('1,538,456')    "
   ]
  },
  {
   "cell_type": "markdown",
   "metadata": {},
   "source": [
    "8. Define a function named `get_letter_grade`. It should accept a number and return the letter grade associated with that number (A-F)."
   ]
  },
  {
   "cell_type": "code",
   "execution_count": 53,
   "metadata": {},
   "outputs": [
    {
     "data": {
      "text/plain": [
       "'Go to tutoring, you have an F!'"
      ]
     },
     "execution_count": 53,
     "metadata": {},
     "output_type": "execute_result"
    }
   ],
   "source": [
    "def get_letter_grade(g):\n",
    "    if g >= 90:\n",
    "        return (\"You have an A!\")\n",
    "    elif g >= 80:\n",
    "        return (\"You have an B!\")\n",
    "    elif g >= 70:\n",
    "        return (\"You have an C!\")\n",
    "    elif g >= 60:\n",
    "        return (\"Go to tutoring, you have an D!\")\n",
    "    else:\n",
    "        return (\"Go to tutoring, you have an F!\")\n",
    "    \n",
    "get_letter_grade(23)"
   ]
  },
  {
   "cell_type": "markdown",
   "metadata": {},
   "source": [
    "9. Define a function named `remove_vowels` that accepts a string and returns a string with all the vowels removed."
   ]
  },
  {
   "cell_type": "code",
   "execution_count": 74,
   "metadata": {},
   "outputs": [
    {
     "data": {
      "text/plain": [
       "'mnd'"
      ]
     },
     "execution_count": 74,
     "metadata": {},
     "output_type": "execute_result"
    }
   ],
   "source": [
    "def remove_vowels(s):\n",
    "    s = s.lower()\n",
    "    for char in s:\n",
    "        if is_vowel(char):\n",
    "            return str(s.replace(char, ''))\n",
    "        \n",
    "        \n",
    "remove_vowels(\"amanda\")\n",
    "\n",
    "\n",
    "#def word(n):\n",
    "#    for char in n[0]:\n",
    "#        if is_consonant(char):\n",
    "#            return n.capitalize()\n",
    "#        else:\n",
    "#            return n"
   ]
  },
  {
   "cell_type": "markdown",
   "metadata": {},
   "source": [
    "10. Define a function named `normalize_name`. It should accept a string and return a valid python identifier, that is:\n",
    "- anything that is not a valid python identifier should be removed\n",
    "- leading and trailing whitespace should be removed\n",
    "- everything should be lowercase\n",
    "- spaces should be replaced with underscores\n",
    "for example:\n",
    "    - Name will become name\n",
    "    - First Name will become first_name\n",
    "    - % Completed will become completed"
   ]
  },
  {
   "cell_type": "code",
   "execution_count": 99,
   "metadata": {},
   "outputs": [
    {
     "data": {
      "text/plain": [
       "'_'"
      ]
     },
     "execution_count": 99,
     "metadata": {},
     "output_type": "execute_result"
    }
   ],
   "source": [
    "def normalize_name(intake):\n",
    "    #intake = intake.encode(\"ascii\", errors = \"ignore\").decode()\n",
    "    intake = intake.lower()\n",
    "    intake = intake.replace(\" \", \"_\")\n",
    "    intake = intake.strip()\n",
    "    \n",
    "    if intake.isidentifier() == False:\n",
    "        return (f\"{intake}: This does not pass the Python Identifiers\")\n",
    "    else:\n",
    "        return intake\n",
    "    \n",
    "    \n",
    "normalize_name(\" John %doe\")    \n",
    "    "
   ]
  },
  {
   "cell_type": "code",
   "execution_count": 101,
   "metadata": {},
   "outputs": [
    {
     "data": {
      "text/plain": [
       "'_'"
      ]
     },
     "execution_count": 101,
     "metadata": {},
     "output_type": "execute_result"
    }
   ],
   "source": [
    "def normalize_name(intake):\n",
    "    #intake = intake.encode(\"ascii\", errors = \"ignore\").decode()\n",
    "    intake = intake.lower()\n",
    "    intake = intake.replace(\" \", \"_\")\n",
    "    intake = intake.strip()\n",
    "    \n",
    "    for char in intake:\n",
    "        if char.isascii():\n",
    "            return (\"\" + char)\n",
    "    #    elif intake.isidentifier() == False:\n",
    "    #        return (f\"{intake}: This does not pass the Python Identifiers\")\n",
    "    #    else:\n",
    "    #        return intake\n",
    "        \n",
    "    \n",
    "normalize_name(\" John √do$e\")    "
   ]
  },
  {
   "cell_type": "code",
   "execution_count": 114,
   "metadata": {},
   "outputs": [
    {
     "data": {
      "text/plain": [
       "'_john_doe'"
      ]
     },
     "execution_count": 114,
     "metadata": {},
     "output_type": "execute_result"
    }
   ],
   "source": [
    "def normalize_name(intake):\n",
    "    #intake = intake.encode(\"ascii\", errors = \"ignore\").decode()\n",
    "    intake = intake.lower()\n",
    "    intake = intake.replace(\" \", \"_\")\n",
    "    intake = intake.strip()\n",
    "    invalids  = ['~', '!','@','#','$','%','^','&','*','(',')','-','.','+'] #[ \"!\", \"@\", \"#\", \"$\", \"%\", \"^\", \"&\", \"*\", \"(\", \")\", \"-\", \"=\", \"+\", \"/\", \"\\\", |, /, ?, ., >, <, `, ~, ]\n",
    "    intake = ''.join((filter(lambda x: x not in invalids, intake)))\n",
    "    \n",
    "    if intake.isidentifier() == False:\n",
    "        return ''.join([i if ord(i) < 128 else '' for i in intake]) #(f\"{intake}: This does not pass the Python Identifiers\")|\n",
    "    else:\n",
    "        return intake\n",
    "    \n",
    "    \n",
    "normalize_name(\" Joh^n √do$e\") "
   ]
  },
  {
   "cell_type": "markdown",
   "metadata": {},
   "source": [
    "11. Write a function named `cumulative_sum` that accepts a list of numbers and returns a list that is the cumulative sum of the numbers in the list."
   ]
  },
  {
   "cell_type": "code",
   "execution_count": 117,
   "metadata": {},
   "outputs": [
    {
     "data": {
      "text/plain": [
       "[1, 3, 6, 10]"
      ]
     },
     "execution_count": 117,
     "metadata": {},
     "output_type": "execute_result"
    }
   ],
   "source": [
    "def cumulative_sum(lst):\n",
    "    return [sum(lst[:n+1]) for n in range(len(lst))]\n",
    " \n",
    "#cumulative_sum([1, 1, 1])\n",
    "cumulative_sum([1, 2, 3, 4])"
   ]
  },
  {
   "cell_type": "code",
   "execution_count": 121,
   "metadata": {},
   "outputs": [],
   "source": [
    "#def cumulative_sum(lst):\n",
    "#    x = 0\n",
    "#    for s in range(0, len(lst)):\n",
    "#        x += lst[s]\n",
    "#        list.append(x)\n",
    "# \n",
    "#cumulative_sum([1, 1, 1])\n",
    "#cumulative_sum([1, 2, 3, 4])"
   ]
  },
  {
   "cell_type": "code",
   "execution_count": null,
   "metadata": {},
   "outputs": [],
   "source": []
  }
 ],
 "metadata": {
  "kernelspec": {
   "display_name": "Python 3",
   "language": "python",
   "name": "python3"
  },
  "language_info": {
   "codemirror_mode": {
    "name": "ipython",
    "version": 3
   },
   "file_extension": ".py",
   "mimetype": "text/x-python",
   "name": "python",
   "nbconvert_exporter": "python",
   "pygments_lexer": "ipython3",
   "version": "3.8.5"
  }
 },
 "nbformat": 4,
 "nbformat_minor": 4
}
