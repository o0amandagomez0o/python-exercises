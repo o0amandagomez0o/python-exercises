{
 "cells": [
  {
   "cell_type": "markdown",
   "metadata": {},
   "source": [
    "# Exercises\n",
    "###### Create a file named function_exercises.py for this exercise. After creating each function specified below, write the necessary code in order to test your function.\n",
    "\n",
    "1. Define a function named `is_two`. It should accept one input and return `True` if the passed input is either the number or the string 2, `False` otherwise."
   ]
  },
  {
   "cell_type": "code",
   "execution_count": 1,
   "metadata": {},
   "outputs": [
    {
     "data": {
      "text/plain": [
       "True"
      ]
     },
     "execution_count": 1,
     "metadata": {},
     "output_type": "execute_result"
    }
   ],
   "source": [
    "# is_two(n: int/string/anything) -> bool\n",
    "\n",
    "def is_two(n):\n",
    "    return n == 2 or n == '2'\n",
    "    \n",
    "is_two(2)"
   ]
  },
  {
   "cell_type": "markdown",
   "metadata": {},
   "source": [
    "2. Define a function named `is_vowel`. It should return `True` if the passed string is a vowel, `False` otherwise."
   ]
  },
  {
   "cell_type": "code",
   "execution_count": 179,
   "metadata": {},
   "outputs": [
    {
     "data": {
      "text/plain": [
       "False"
      ]
     },
     "execution_count": 179,
     "metadata": {},
     "output_type": "execute_result"
    }
   ],
   "source": [
    "#in this ex vowels is a list\n",
    "def is_vowel(n):\n",
    "    vowels = ['a', 'e', 'i', 'o', 'u']\n",
    "    return n in vowels\n",
    "\n",
    "is_vowel('U')"
   ]
  },
  {
   "cell_type": "code",
   "execution_count": 182,
   "metadata": {},
   "outputs": [
    {
     "data": {
      "text/plain": [
       "True"
      ]
     },
     "execution_count": 182,
     "metadata": {},
     "output_type": "execute_result"
    }
   ],
   "source": [
    "def is_vowel(n):\n",
    "    \n",
    "    return n.lower() in 'aeiou'\n",
    "\n",
    "is_vowel('a')"
   ]
  },
  {
   "cell_type": "code",
   "execution_count": null,
   "metadata": {},
   "outputs": [],
   "source": [
    "#in this ex vowels is a str\n",
    "def is_vowel(n):\n",
    "    vowels = 'aeiou'\n",
    "    return n in vowels\n",
    "\n",
    "is_vowel('U')"
   ]
  },
  {
   "cell_type": "markdown",
   "metadata": {},
   "source": [
    "3. Define a function named `is_consonant`. It should return `True` if the passed string is a consonant, `False` otherwise. Use your `is_vowel` function to accomplish this."
   ]
  },
  {
   "cell_type": "code",
   "execution_count": 184,
   "metadata": {},
   "outputs": [
    {
     "data": {
      "text/plain": [
       "False"
      ]
     },
     "execution_count": 184,
     "metadata": {},
     "output_type": "execute_result"
    }
   ],
   "source": [
    "# is_consonant(character:str)-> bool\n",
    "def is_consonant(n):\n",
    "    if is_vowel(n.lower()):\n",
    "        return False\n",
    "    else: \n",
    "        return True\n",
    "\n",
    "is_consonant('A')"
   ]
  },
  {
   "cell_type": "code",
   "execution_count": 187,
   "metadata": {},
   "outputs": [
    {
     "data": {
      "text/plain": [
       "True"
      ]
     },
     "execution_count": 187,
     "metadata": {},
     "output_type": "execute_result"
    }
   ],
   "source": [
    "def is_consonant(n):\n",
    "    return n.isalpha() and not is_vowel(n)\n",
    "\n",
    "is_consonant('B')"
   ]
  },
  {
   "cell_type": "markdown",
   "metadata": {},
   "source": [
    "4. Define a function that accepts a string that is a word. The function should capitalize the first letter of the word if the word starts with a consonant."
   ]
  },
  {
   "cell_type": "code",
   "execution_count": 38,
   "metadata": {},
   "outputs": [
    {
     "data": {
      "text/plain": [
       "'York'"
      ]
     },
     "execution_count": 38,
     "metadata": {},
     "output_type": "execute_result"
    }
   ],
   "source": [
    "#word(str)->str\n",
    "\n",
    "def word(n):\n",
    "    for char in n[0]:\n",
    "        if is_consonant(char):\n",
    "            return n.capitalize()\n",
    "        else:\n",
    "            return n\n",
    "        \n",
    "        \n",
    "word('york')"
   ]
  },
  {
   "cell_type": "code",
   "execution_count": 190,
   "metadata": {},
   "outputs": [
    {
     "data": {
      "text/plain": [
       "'easley'"
      ]
     },
     "execution_count": 190,
     "metadata": {},
     "output_type": "execute_result"
    }
   ],
   "source": [
    "def capitalize_if_consonant(word):\n",
    "    first_letter = word[0]\n",
    "    if is_consonant(first_letter):\n",
    "        return word.capitalize()\n",
    "    else:\n",
    "        return word\n",
    "    \n",
    "#capitalize_if_consonant('codeup')    \n",
    "capitalize_if_consonant('easley')   "
   ]
  },
  {
   "cell_type": "markdown",
   "metadata": {},
   "source": [
    "5. Define a function named `calculate_tip`. It should accept a tip percentage (a number between 0 and 1) and the bill total, and return the amount to tip."
   ]
  },
  {
   "cell_type": "code",
   "execution_count": 40,
   "metadata": {},
   "outputs": [
    {
     "data": {
      "text/plain": [
       "'If your bill total is $ 25.26, with a 15% tip, your total payment will be $ 29.05'"
      ]
     },
     "execution_count": 40,
     "metadata": {},
     "output_type": "execute_result"
    }
   ],
   "source": [
    "#calculate_tip(percentage:float, bil: float)->float\n",
    "\n",
    "def calculate_tip(bill_total, tip_percentage):\n",
    "    return (f\"If your bill total is $ {bill_total}, with a {tip_percentage}% tip, your total payment will be $ {bill_total * ((tip_percentage*.01) +1):.2f}\")\n",
    "    \n",
    "    \n",
    "calculate_tip(25.26, 15)    "
   ]
  },
  {
   "cell_type": "code",
   "execution_count": 191,
   "metadata": {},
   "outputs": [
    {
     "data": {
      "text/plain": [
       "12.5"
      ]
     },
     "execution_count": 191,
     "metadata": {},
     "output_type": "execute_result"
    }
   ],
   "source": [
    "def calculate_tip(percentage, bill):\n",
    "    tip_amt = percentage * bill\n",
    "    return tip_amt\n",
    "\n",
    "calculate_tip(.25, 50)"
   ]
  },
  {
   "cell_type": "code",
   "execution_count": 194,
   "metadata": {},
   "outputs": [
    {
     "data": {
      "text/plain": [
       "12.5"
      ]
     },
     "execution_count": 194,
     "metadata": {},
     "output_type": "execute_result"
    }
   ],
   "source": [
    "def calculate_tip(percentage, bill):\n",
    "    #if the user input is a whole number for the tip\n",
    "    if percentage > 1:\n",
    "        percentage /= 100\n",
    "    tip_amt = percentage * bill\n",
    "    return round(tip_amt, 2)\n",
    "\n",
    "calculate_tip(25, 50)"
   ]
  },
  {
   "cell_type": "code",
   "execution_count": 193,
   "metadata": {},
   "outputs": [
    {
     "ename": "SyntaxError",
     "evalue": "invalid syntax (<ipython-input-193-b4c147a66f0b>, line 4)",
     "output_type": "error",
     "traceback": [
      "\u001b[0;36m  File \u001b[0;32m\"<ipython-input-193-b4c147a66f0b>\"\u001b[0;36m, line \u001b[0;32m4\u001b[0m\n\u001b[0;31m    raise Exception{'percentage must be between 0 and 1'}\u001b[0m\n\u001b[0m                   ^\u001b[0m\n\u001b[0;31mSyntaxError\u001b[0m\u001b[0;31m:\u001b[0m invalid syntax\n"
     ]
    }
   ],
   "source": [
    "def calculate_tip(percentage, bill):\n",
    "    #\n",
    "    if 0 > percentage > 1:\n",
    "        raise Exception{'percentage must be between 0 and 1'}\n",
    "    tip_amt = percentage * bill\n",
    "    return tip_amt\n",
    "\n",
    "calculate_tip(25, 50)"
   ]
  },
  {
   "cell_type": "markdown",
   "metadata": {},
   "source": [
    "6. Define a function named `apply_discount`. It should accept a original price, and a discount percentage, and return the price after the discount is applied."
   ]
  },
  {
   "cell_type": "code",
   "execution_count": 45,
   "metadata": {},
   "outputs": [
    {
     "data": {
      "text/plain": [
       "\"If the original price was $66.98, with a 35% discount, you'll only pay $43.54!\""
      ]
     },
     "execution_count": 45,
     "metadata": {},
     "output_type": "execute_result"
    }
   ],
   "source": [
    "# apply_discount(price: float, discount: float)-> float\n",
    "\n",
    "def apply_discount(original_price, discount_percentage):\n",
    "    return (f\"If the original price was ${original_price}, with a {discount_percentage}% discount, you'll only pay ${original_price * (1 - (discount_percentage * .01)):.2f}!\")\n",
    "\n",
    "apply_discount(66.98, 35)\n",
    "    "
   ]
  },
  {
   "cell_type": "code",
   "execution_count": 196,
   "metadata": {},
   "outputs": [
    {
     "data": {
      "text/plain": [
       "43.537000000000006"
      ]
     },
     "execution_count": 196,
     "metadata": {},
     "output_type": "execute_result"
    }
   ],
   "source": [
    "def apply_discount(price, discount):\n",
    "    discount_amt = price * discount\n",
    "    return price - discount_amt\n",
    "\n",
    "apply_discount(66.98, .35)"
   ]
  },
  {
   "cell_type": "markdown",
   "metadata": {},
   "source": [
    "7. Define a function named `handle_commas`. It should accept a string that is a number that contains commas in it as input, and return a number as output."
   ]
  },
  {
   "cell_type": "code",
   "execution_count": 47,
   "metadata": {},
   "outputs": [
    {
     "data": {
      "text/plain": [
       "1538456"
      ]
     },
     "execution_count": 47,
     "metadata": {},
     "output_type": "execute_result"
    }
   ],
   "source": [
    "# handle_commas(n:str)->float\n",
    "\n",
    "def handle_commas(n):\n",
    "    return int(n.replace(',', ''))\n",
    "    \n",
    "    \n",
    "handle_commas('1,538,456')    "
   ]
  },
  {
   "cell_type": "code",
   "execution_count": 198,
   "metadata": {},
   "outputs": [
    {
     "data": {
      "text/plain": [
       "1538456.65"
      ]
     },
     "execution_count": 198,
     "metadata": {},
     "output_type": "execute_result"
    }
   ],
   "source": [
    "#by casting as a float, we can handle decimals as well\n",
    "def handle_commas(n):\n",
    "    return float(n.replace(',', ''))\n",
    "    \n",
    "    \n",
    "handle_commas('1,538,456.65')  "
   ]
  },
  {
   "cell_type": "markdown",
   "metadata": {},
   "source": [
    "8. Define a function named `get_letter_grade`. It should accept a number and return the letter grade associated with that number (A-F)."
   ]
  },
  {
   "cell_type": "code",
   "execution_count": 53,
   "metadata": {},
   "outputs": [
    {
     "data": {
      "text/plain": [
       "'Go to tutoring, you have an F!'"
      ]
     },
     "execution_count": 53,
     "metadata": {},
     "output_type": "execute_result"
    }
   ],
   "source": [
    "#get_letter_grade(numeric_grade: float)->str\n",
    "\n",
    "def get_letter_grade(g):\n",
    "    if g >= 90:\n",
    "        return (\"You have an A!\")\n",
    "    elif g >= 80:\n",
    "        return (\"You have an B!\")\n",
    "    elif g >= 70:\n",
    "        return (\"You have an C!\")\n",
    "    elif g >= 60:\n",
    "        return (\"Go to tutoring, you have an D!\")\n",
    "    else:\n",
    "        return (\"Go to tutoring, you have an F!\")\n",
    "    \n",
    "get_letter_grade(23)\n",
    "\n",
    "# Parenthesis are NOT necessary with returns. \n",
    "# python MAY think () = tuple"
   ]
  },
  {
   "cell_type": "markdown",
   "metadata": {},
   "source": [
    "9. Define a function named `remove_vowels` that accepts a string and returns a string with all the vowels removed."
   ]
  },
  {
   "cell_type": "code",
   "execution_count": 74,
   "metadata": {},
   "outputs": [
    {
     "data": {
      "text/plain": [
       "'mnd'"
      ]
     },
     "execution_count": 74,
     "metadata": {},
     "output_type": "execute_result"
    }
   ],
   "source": [
    "#remove_vowels(s:str)->str\n",
    "\n",
    "def remove_vowels(s):\n",
    "    s = s.lower()\n",
    "    for char in s:\n",
    "        if is_vowel(char):\n",
    "            return str(s.replace(char, ''))\n",
    "        \n",
    "        \n",
    "remove_vowels(\"amanda\")\n",
    "\n",
    "\n",
    "#def word(n):\n",
    "#    for char in n[0]:\n",
    "#        if is_consonant(char):\n",
    "#            return n.capitalize()\n",
    "#        else:\n",
    "#            return n"
   ]
  },
  {
   "cell_type": "code",
   "execution_count": 200,
   "metadata": {},
   "outputs": [
    {
     "data": {
      "text/plain": [
       "'mnd'"
      ]
     },
     "execution_count": 200,
     "metadata": {},
     "output_type": "execute_result"
    }
   ],
   "source": [
    "def remove_vowels(string):\n",
    "    #look ast each letter in the str\n",
    "    #if a vowel, remove from str\n",
    "    new_string = []\n",
    "    for char in string:\n",
    "        #char is the argument being called by the is_vowel function\n",
    "        if not is_vowel(char):\n",
    "            new_string.append(char)\n",
    "    #empty str and squish the list together \n",
    "    #usually returns should be 'top' level NOT IN THE LOOP\n",
    "    #If in the loop, the return would break the loop\n",
    "    return ''.join(new_string)\n",
    "        \n",
    "remove_vowels(\"amanda\")    "
   ]
  },
  {
   "cell_type": "markdown",
   "metadata": {},
   "source": [
    "### General rule of thumb:\n",
    "   ### `return` 's go at the top-level of a function"
   ]
  },
  {
   "cell_type": "markdown",
   "metadata": {},
   "source": [
    "#### `print` stmts can help you develop/visualize your code:"
   ]
  },
  {
   "cell_type": "code",
   "execution_count": 206,
   "metadata": {},
   "outputs": [
    {
     "name": "stdout",
     "output_type": "stream",
     "text": [
      "  remove_vowels called! Processing: Amanda\n",
      "- Start of for loop. Processing: A\n",
      "  End of for loop. new_string: []\n",
      "- Start of for loop. Processing: m\n",
      "  Inside if. Adding m to new_string \n",
      "  End of for loop. new_string: ['m']\n",
      "- Start of for loop. Processing: a\n",
      "  End of for loop. new_string: ['m']\n",
      "- Start of for loop. Processing: n\n",
      "  Inside if. Adding n to new_string \n",
      "  End of for loop. new_string: ['m', 'n']\n",
      "- Start of for loop. Processing: d\n",
      "  Inside if. Adding d to new_string \n",
      "  End of for loop. new_string: ['m', 'n', 'd']\n",
      "- Start of for loop. Processing: a\n",
      "  End of for loop. new_string: ['m', 'n', 'd']\n"
     ]
    },
    {
     "data": {
      "text/plain": [
       "'mnd'"
      ]
     },
     "execution_count": 206,
     "metadata": {},
     "output_type": "execute_result"
    }
   ],
   "source": [
    "def remove_vowels(string):\n",
    "    new_string = []\n",
    "    print(f\"  remove_vowels called! Processing: {string}\")\n",
    "    for char in string:\n",
    "        print(f\"- Start of for loop. Processing: {char}\")\n",
    "        if not is_vowel(char):\n",
    "            print(f\"  Inside if. Adding {char} to new_string \")\n",
    "            new_string.append(char)\n",
    "        print(f\"  End of for loop. new_string: {new_string}\")\n",
    "    return ''.join(new_string)\n",
    "        \n",
    "remove_vowels(\"Amanda\")  "
   ]
  },
  {
   "cell_type": "code",
   "execution_count": null,
   "metadata": {},
   "outputs": [],
   "source": [
    "def remove_vowels(string):\n",
    "    #[]'s are used to state that the stmt is creating a list\n",
    "    #similar to the str we created above: new_string\n",
    "    return''.join([c for c in string if not is_vowel(c)])\n",
    "\n",
    "remove_vowels(\"Amanda\") "
   ]
  },
  {
   "cell_type": "markdown",
   "metadata": {},
   "source": [
    "10. Define a function named `normalize_name`. It should accept a string and return a valid python identifier, that is:\n",
    "- anything that is not a valid python identifier should be removed\n",
    "- leading and trailing whitespace should be removed\n",
    "- everything should be lowercase\n",
    "- spaces should be replaced with underscores\n",
    "for example:\n",
    "    - Name will become name\n",
    "    - First Name will become first_name\n",
    "    - % Completed will become completed"
   ]
  },
  {
   "cell_type": "code",
   "execution_count": 99,
   "metadata": {},
   "outputs": [
    {
     "data": {
      "text/plain": [
       "'_'"
      ]
     },
     "execution_count": 99,
     "metadata": {},
     "output_type": "execute_result"
    }
   ],
   "source": [
    "#def normalize_name(intake):\n",
    "#    #intake = intake.encode(\"ascii\", errors = \"ignore\").decode()\n",
    "#    intake = intake.lower()\n",
    "#    intake = intake.replace(\" \", \"_\")\n",
    "#    intake = intake.strip()\n",
    "#    \n",
    "#    if intake.isidentifier() == False:\n",
    "#        return (f\"{intake}: This does not pass the Python Identifiers\")\n",
    "#    else:\n",
    "#        return intake\n",
    "#    \n",
    "#    \n",
    "#normalize_name(\" John %doe\")    \n",
    "    "
   ]
  },
  {
   "cell_type": "code",
   "execution_count": 165,
   "metadata": {},
   "outputs": [
    {
     "data": {
      "text/plain": [
       "'joh_n_doe'"
      ]
     },
     "execution_count": 165,
     "metadata": {},
     "output_type": "execute_result"
    }
   ],
   "source": [
    "# Winner Winner chicken dinner!\n",
    "#normalize_name(s:str)->str\n",
    "def normalize_name(intake):\n",
    "    intake = ''.join([s for s in intake if s.isalnum() or s == ' ' or s == '_'])\n",
    "    intake = intake.strip()\n",
    "    intake = intake.lower().replace(\" \", \"_\")\n",
    "    \n",
    "    if intake.isidentifier() == False:\n",
    "        return ''.join([i if ord(i) < 128 else '' for i in intake]) \n",
    "    else:\n",
    "        return intake\n",
    "\n",
    "    \n",
    "normalize_name(\" Jo^h_n √do$e  \")    "
   ]
  },
  {
   "cell_type": "code",
   "execution_count": 114,
   "metadata": {},
   "outputs": [
    {
     "data": {
      "text/plain": [
       "'_john_doe'"
      ]
     },
     "execution_count": 114,
     "metadata": {},
     "output_type": "execute_result"
    }
   ],
   "source": [
    "#def normalize_name(intake):\n",
    "#    #intake = intake.encode(\"ascii\", errors = \"ignore\").decode()\n",
    "#    intake = intake.lower()\n",
    "#    intake = intake.replace(\" \", \"_\")\n",
    "#    intake = intake.strip()\n",
    "#    invalids  = ['~', '!','@','#','$','%','^','&','*','(',')','-','.','+'] #[ \"!\", \"@\", \"#\", \"$\", \"%\", \"^\", \"&\", \"*\", \"(\", \")\", \"-\", \"=\", \"+\", \"/\", \"\\\", |, /, ?, ., >, <, `, ~, ]\n",
    "#    intake = ''.join((filter(lambda x: x not in invalids, intake)))\n",
    "#    \n",
    "#    if intake.isidentifier() == False:\n",
    "#        return ''.join([i if ord(i) < 128 else '' for i in intake]) #(f\"{intake}: This does not pass the Python Identifiers\")|\n",
    "#    else:\n",
    "#        return intake\n",
    "#    \n",
    "#    \n",
    "#normalize_name(\" Joh^n √do$e\") "
   ]
  },
  {
   "cell_type": "code",
   "execution_count": 132,
   "metadata": {},
   "outputs": [
    {
     "data": {
      "text/plain": [
       "'john_doe'"
      ]
     },
     "execution_count": 132,
     "metadata": {},
     "output_type": "execute_result"
    }
   ],
   "source": [
    "#hard codes unicode as invalids to weed out\n",
    "\n",
    "def normalize_name(intake):\n",
    "    #intake = intake.encode(\"ascii\", errors = \"ignore\").decode()\n",
    "    intake = intake.lower()\n",
    "    intake = intake.strip()\n",
    "    intake = intake.replace(\" \", \"_\")\n",
    "\n",
    "    invalids  = ['~', '!','@','#','$','%','^','&','*','(',')','-','.','+','=','`','|','/','?','<','>',',','.'] #[ \"!\", \"@\", \"#\", \"$\", \"%\", \"^\", \"&\", \"*\", \"(\", \")\", \"-\", \"=\", \"+\", \"/\", \"\\\", |, /, ?, ., >, <, `, ~, ]\n",
    "    intake = ''.join((filter(lambda x: x not in invalids, intake)))\n",
    "    \n",
    "    for char in range(len(intake)):\n",
    "        char = str(char)\n",
    "        if char.isidentifier() == False:\n",
    "            return ''.join([i if ord(i) < 128 else '' for i in intake]) #(f\"{intake}: This does not pass the Python Identifiers\")|\n",
    "                \n",
    "        else:\n",
    "            return intake\n",
    "    \n",
    "    \n",
    "#normalize_name(\" Joh^n √do$e\") \n",
    "normalize_name(\" Jo…h^n √d-=o$e\") "
   ]
  },
  {
   "cell_type": "code",
   "execution_count": 216,
   "metadata": {},
   "outputs": [
    {
     "name": "stdout",
     "output_type": "stream",
     "text": [
      " removing non-whitespace or alnum\n",
      " inside for loop. Processing  \n",
      " adding   to list...\n",
      "   valid_identifier:  [' ']\n",
      " inside for loop. Processing F\n",
      " adding F to list...\n",
      "   valid_identifier:  [' ', 'F']\n",
      " inside for loop. Processing i\n",
      " adding i to list...\n",
      "   valid_identifier:  [' ', 'F', 'i']\n",
      " inside for loop. Processing %\n",
      "   valid_identifier:  [' ', 'F', 'i']\n",
      " inside for loop. Processing r\n",
      " adding r to list...\n",
      "   valid_identifier:  [' ', 'F', 'i', 'r']\n",
      " inside for loop. Processing s\n",
      " adding s to list...\n",
      "   valid_identifier:  [' ', 'F', 'i', 'r', 's']\n",
      " inside for loop. Processing t\n",
      " adding t to list...\n",
      "   valid_identifier:  [' ', 'F', 'i', 'r', 's', 't']\n",
      " inside for loop. Processing  \n",
      " adding   to list...\n",
      "   valid_identifier:  [' ', 'F', 'i', 'r', 's', 't', ' ']\n",
      " inside for loop. Processing N\n",
      " adding N to list...\n",
      "   valid_identifier:  [' ', 'F', 'i', 'r', 's', 't', ' ', 'N']\n",
      " inside for loop. Processing a\n",
      " adding a to list...\n",
      "   valid_identifier:  [' ', 'F', 'i', 'r', 's', 't', ' ', 'N', 'a']\n",
      " inside for loop. Processing m\n",
      " adding m to list...\n",
      "   valid_identifier:  [' ', 'F', 'i', 'r', 's', 't', ' ', 'N', 'a', 'm']\n",
      " inside for loop. Processing e\n",
      " adding e to list...\n",
      "   valid_identifier:  [' ', 'F', 'i', 'r', 's', 't', ' ', 'N', 'a', 'm', 'e']\n",
      "Lowercased and converted to a str\n",
      "- valid_identifier:   first name\n",
      "first name\n",
      "first_name\n"
     ]
    },
    {
     "data": {
      "text/plain": [
       "'first_name'"
      ]
     },
     "execution_count": 216,
     "metadata": {},
     "output_type": "execute_result"
    }
   ],
   "source": [
    "def normalize_name(s):\n",
    "    valid_identifier = []\n",
    "    print(\" removing non-whitespace or alnum\")\n",
    "    for char in s:\n",
    "        print(f\" inside for loop. Processing {char}\")\n",
    "        if char.isidentifier() or char == ' ':\n",
    "            print(f\" adding {char} to list...\")\n",
    "            valid_identifier.append(char)\n",
    "        print(f\"   valid_identifier:  {valid_identifier}\")\n",
    "    valid_identifier = \"\".join(valid_identifier)\n",
    "    valid_identifier = valid_identifier.lower()\n",
    "    print(f\"Lowercased and converted to a str\")\n",
    "    print(f\"- valid_identifier:  {valid_identifier}\")\n",
    "    valid_identifier = valid_identifier.strip()\n",
    "    print(valid_identifier)\n",
    "    valid_identifier = valid_identifier.replace(\" \", \"_\")\n",
    "    print(valid_identifier)\n",
    "    \n",
    "    return valid_identifier\n",
    "    \n",
    "normalize_name(\" Fi%rst Name\")    "
   ]
  },
  {
   "cell_type": "code",
   "execution_count": null,
   "metadata": {},
   "outputs": [],
   "source": [
    "# ZACH'S CODE\n",
    "\n",
    "def normalize_name(s):\n",
    "    valid_identifier = []\n",
    "\n",
    "    for char in s:\n",
    "        if char.isidentifier() or char == ' ':\n",
    "            valid_identifier.append(char)\n",
    "            \n",
    "    #convert to string        \n",
    "    valid_identifier = \"\".join(valid_identifier)\n",
    "    #lowercase, remove leading and trailing whitespace\n",
    "    valid_identifier = valid_identifier.lower()\n",
    "    valid_identifier = valid_identifier.strip()\n",
    "    #replace spaces with _\n",
    "    valid_identifier = valid_identifier.replace(\" \", \"_\")\n",
    "    \n",
    "    return valid_identifier\n",
    "    \n",
    "normalize_name(\" Fi%rst Name\")    "
   ]
  },
  {
   "cell_type": "code",
   "execution_count": 152,
   "metadata": {},
   "outputs": [
    {
     "data": {
      "text/plain": [
       "'joh^n_d-=o$e'"
      ]
     },
     "execution_count": 152,
     "metadata": {},
     "output_type": "execute_result"
    }
   ],
   "source": [
    "#def normalize_name(intake):\n",
    "#    #intake = intake.encode(\"ascii\", errors = \"ignore\").decode()\n",
    "#    intake = intake.lower()\n",
    "#    intake = intake.strip()\n",
    "#    intake = intake.replace(\" \", \"_\")\n",
    "#\n",
    "#    #invalids  = ['~', '!','@','#','$','%','^','&','*','(',')','-','.','+','=','`','|','/','?','<','>',',','.'] #[ \"!\", \"@\", \"#\", \"$\", \"%\", \"^\", \"&\", \"*\", \"(\", \")\", \"-\", \"=\", \"+\", \"/\", \"\\\", |, /, ?, ., >, <, `, ~, ]\n",
    "#    #intake = ''.join((filter(lambda x: x not in invalids, intake)))\n",
    "#    \n",
    "#    for char in range(len(intake)):\n",
    "#        char = str(char)\n",
    "#        if char.isidentifier() == False:\n",
    "#            return ''.join([i if ord(i) < 128 else '' for i in intake]) #(f\"{intake}: This does not pass the Python Identifiers\")|\n",
    "#                \n",
    "#        else:\n",
    "#            return intake\n",
    "#    \n",
    "#    \n",
    "##normalize_name(\" Joh^n √do$e\") \n",
    "#normalize_name(\" Jo…h^n √d-=o$e\") "
   ]
  },
  {
   "cell_type": "code",
   "execution_count": 159,
   "metadata": {},
   "outputs": [
    {
     "data": {
      "text/plain": [
       "'joh^nd-=o$e'"
      ]
     },
     "execution_count": 159,
     "metadata": {},
     "output_type": "execute_result"
    }
   ],
   "source": [
    "#def normalize_name(intake):\n",
    "#    intake = str(intake)\n",
    "#    intake = intake.lower()\n",
    "#    intake = intake.strip()\n",
    "#    \n",
    "#    intake = intake.replace(\" \", \"_\")\n",
    "#\n",
    "#    #invalids  = ['~', '!','@','#','$','%','^','&','*','(',')','-','.','+','=','`','|','/','?','<','>',',','.'] #[ \"!\", \"@\", \"#\", \"$\", \"%\", \"^\", \"&\", \"*\", \"(\", \")\", \"-\", \"=\", \"+\", \"/\", \"\\\", |, /, ?, ., >, <, `, ~, ]\n",
    "#    #intake = ''.join((filter(lambda x: x not in invalids, intake)))\n",
    "#    \n",
    "#    for char in range(len(intake)):\n",
    "#        char = str(char)\n",
    "#        if char.isidentifier() == False:\n",
    "#            return ''.join([i if (ord(i) < 128)   else '' for i in intake]) #(f\"{intake}: This does not pass the Python Identifiers\")|\n",
    "#                \n",
    "#        else:\n",
    "#            return intake\n",
    "#\n",
    "#    \n",
    "#    \n",
    "##normalize_name(\" Joh^n √do$e\") \n",
    "#normalize_name(\" Jo…h^n √d-=o$_e\") "
   ]
  },
  {
   "cell_type": "markdown",
   "metadata": {},
   "source": [
    "11. Write a function named `cumulative_sum` that accepts a list of numbers and returns a list that is the cumulative sum of the numbers in the list."
   ]
  },
  {
   "cell_type": "code",
   "execution_count": 117,
   "metadata": {},
   "outputs": [
    {
     "data": {
      "text/plain": [
       "[1, 3, 6, 10]"
      ]
     },
     "execution_count": 117,
     "metadata": {},
     "output_type": "execute_result"
    }
   ],
   "source": [
    "# cumulative_sum(list_of_numbers: list[int])-> list[int]\n",
    "\n",
    "def cumulative_sum(lst):\n",
    "    return [sum(lst[:n+1]) for n in range(len(lst))]\n",
    " \n",
    "#cumulative_sum([1, 1, 1])\n",
    "cumulative_sum([1, 2, 3, 4])"
   ]
  },
  {
   "cell_type": "code",
   "execution_count": 121,
   "metadata": {},
   "outputs": [],
   "source": [
    "#def cumulative_sum(lst):\n",
    "#    x = 0\n",
    "#    for s in range(0, len(lst)):\n",
    "#        x += lst[s]\n",
    "#        list.append(x)\n",
    "# \n",
    "#cumulative_sum([1, 1, 1])\n",
    "#cumulative_sum([1, 2, 3, 4])"
   ]
  },
  {
   "cell_type": "code",
   "execution_count": 224,
   "metadata": {},
   "outputs": [
    {
     "name": "stdout",
     "output_type": "stream",
     "text": [
      "Starting out. sums: [1]\n",
      "- start of for loop. Processing 1\n",
      " End of for loop.  sums: [1, 2]\n",
      "- start of for loop. Processing 1\n",
      " End of for loop.  sums: [1, 2, 3]\n"
     ]
    },
    {
     "data": {
      "text/plain": [
       "[1, 2, 3]"
      ]
     },
     "execution_count": 224,
     "metadata": {},
     "output_type": "execute_result"
    }
   ],
   "source": [
    "#cumulative_sum([1,1,1]) == [1, 2, 3]\n",
    "#[1, 1+1, 1+2]\n",
    "\n",
    "def cumulative_sum(lst):\n",
    "    sums = [lst[0]]\n",
    "    print(f\"Starting out. sums: {sums}\")\n",
    "    #for ea number in the list, add it to the prev total\n",
    "    for n in lst[1:]:\n",
    "        print(f\"- start of for loop. Processing {n}\")\n",
    "        prev_total = sums[-1]\n",
    "        sums.append(prev_total + n)\n",
    "        print(f\" End of for loop.  sums: {sums}\")\n",
    "    return sums\n",
    "    \n",
    "cumulative_sum([1, 1, 1])"
   ]
  },
  {
   "cell_type": "code",
   "execution_count": null,
   "metadata": {},
   "outputs": [],
   "source": [
    "def cumulative_sum(lst):\n",
    "    \n",
    "    #the 1st number is a special case\n",
    "    sums = [lst[0]]\n",
    "    #for ea number in the list, add it to the prev total\n",
    "    \n",
    "    #[1:] means take the 2nd element until the end\n",
    "    #loop through remaining numbers\n",
    "    for n in lst[1:]:\n",
    "        #\n",
    "        prev_total = sums[-1]\n",
    "        sums.append(prev_total + n)\n",
    "    return sums\n",
    "    \n",
    "cumulative_sum([1, 1, 1])"
   ]
  },
  {
   "cell_type": "markdown",
   "metadata": {},
   "source": [
    "## Bonus\n",
    "\n",
    "### 1. \n",
    "Create a function named `twelveto24`. It should accept a string in the format 10:45am or 4:30pm and return a string that is the representation of the time in a 24-hour format. \n",
    "\n",
    "    Bonus write a function that does the opposite."
   ]
  },
  {
   "cell_type": "code",
   "execution_count": 172,
   "metadata": {},
   "outputs": [],
   "source": [
    "def twelveto24(time):\n",
    "    \n",
    "    for x in range(len(time)):\n",
    "        if x == \"a\":\n",
    "            return time[:4]\n",
    "        \n",
    "        if x == \"p\":\n",
    "            return str(int(time[:2]) + 12) + time[2:5]\n",
    "        \n",
    "twelveto24(\"09:45 am\")"
   ]
  },
  {
   "cell_type": "code",
   "execution_count": 245,
   "metadata": {},
   "outputs": [
    {
     "data": {
      "text/plain": [
       "'09:45 '"
      ]
     },
     "execution_count": 245,
     "metadata": {},
     "output_type": "execute_result"
    }
   ],
   "source": [
    "def twelveto24(time):\n",
    "    time = time.lower()\n",
    "\n",
    "     #checking for midnight\n",
    "    if time[-2:] == \"am\" and time[:2] == \"12\":\n",
    "        return \"00\" + time[2:5]\n",
    "    #checking if am, return the reg time\n",
    "    elif time[-2:] == \"am\":\n",
    "        return time[0:-2]\n",
    "    #checking for noon\n",
    "    elif time[-2:] == \"pm\" and time[:2] == \"12\":\n",
    "        return time[:-2]\n",
    "    #if it isn't midnight, noon, and am hrs, add 12\n",
    "    else:\n",
    "        return str(int(time[:2]) + 12) + time[2:5]\n",
    "\n",
    "    \n",
    "twelveto24(\"09:45 AM\")    "
   ]
  },
  {
   "cell_type": "code",
   "execution_count": 248,
   "metadata": {},
   "outputs": [
    {
     "data": {
      "text/plain": [
       "'13:45'"
      ]
     },
     "execution_count": 248,
     "metadata": {},
     "output_type": "execute_result"
    }
   ],
   "source": [
    "twelveto24(\"01:45 PM\") "
   ]
  },
  {
   "cell_type": "markdown",
   "metadata": {},
   "source": [
    "### 2. \n",
    "Create a function named col_index. It should accept a spreadsheet column name, and return the index number of the column.\n",
    "\n",
    "- `col_index('A')` returns 1\n",
    "\n",
    "- `col_index('B')` returns 2\n",
    "\n",
    "- `col_index('AA')` returns 27\n",
    "    \n"
   ]
  },
  {
   "cell_type": "code",
   "execution_count": null,
   "metadata": {},
   "outputs": [],
   "source": []
  }
 ],
 "metadata": {
  "kernelspec": {
   "display_name": "Python 3",
   "language": "python",
   "name": "python3"
  },
  "language_info": {
   "codemirror_mode": {
    "name": "ipython",
    "version": 3
   },
   "file_extension": ".py",
   "mimetype": "text/x-python",
   "name": "python",
   "nbconvert_exporter": "python",
   "pygments_lexer": "ipython3",
   "version": "3.8.5"
  }
 },
 "nbformat": 4,
 "nbformat_minor": 4
}
