{
 "cells": [
  {
   "cell_type": "markdown",
   "metadata": {},
   "source": [
    "# Exercises\n",
    "\n",
    "### 1.\n",
    "Import and test 3 of the functions from your functions exercise file.\n",
    "\n",
    "Import each function in a different way:\n",
    "\n",
    "- import the module and refer to the function with the `.` syntax\n",
    "- use `from` to import the function directly\n",
    "- use `from` and give the function a different name"
   ]
  },
  {
   "cell_type": "code",
   "execution_count": 1,
   "metadata": {},
   "outputs": [],
   "source": [
    "from function_exercises import is_two\n",
    "\n",
    "is_two(2)"
   ]
  },
  {
   "cell_type": "code",
   "execution_count": 2,
   "metadata": {},
   "outputs": [],
   "source": [
    "import function_exercises\n",
    "\n",
    "function_exercises.is_vowel('b')"
   ]
  },
  {
   "cell_type": "code",
   "execution_count": 3,
   "metadata": {},
   "outputs": [],
   "source": [
    "import function_exercises as fe\n",
    "\n",
    "fe.word('like')"
   ]
  },
  {
   "cell_type": "markdown",
   "metadata": {},
   "source": [
    "#### For the following exercises, read about and use the itertools module from the standard library to help you solve the problem.\n",
    "\n",
    "https://docs.python.org/3/library/itertools.html\n",
    "\n",
    "### 1. \n",
    "### How many different ways can you combine the letters from \"abc\" with the numbers 1, 2, and 3?"
   ]
  },
  {
   "cell_type": "code",
   "execution_count": 228,
   "metadata": {},
   "outputs": [],
   "source": [
    "#from itertools import product\n",
    "#\n",
    "#p = 'abc'\n",
    "#\n",
    "#q = '123'\n",
    "#\n",
    "#def prod(p, q):\n",
    "#    return list(product(p, q))\n",
    "#\n",
    "#prod(p, q)\n",
    "#\n",
    "##print len(prod)\n",
    "#"
   ]
  },
  {
   "cell_type": "code",
   "execution_count": 226,
   "metadata": {},
   "outputs": [
    {
     "data": {
      "text/plain": [
       "[('a', '1'),\n",
       " ('a', '2'),\n",
       " ('a', '3'),\n",
       " ('b', '1'),\n",
       " ('b', '2'),\n",
       " ('b', '3'),\n",
       " ('c', '1'),\n",
       " ('c', '2'),\n",
       " ('c', '3')]"
      ]
     },
     "execution_count": 226,
     "metadata": {},
     "output_type": "execute_result"
    }
   ],
   "source": [
    "#create a list of ways to compbine abd & 123\n",
    "from itertools import product\n",
    "\n",
    "p = 'abc'\n",
    "\n",
    "q = '123'\n",
    "\n",
    "prod = list(product(p, q))\n",
    "\n",
    "prod"
   ]
  },
  {
   "cell_type": "code",
   "execution_count": 256,
   "metadata": {},
   "outputs": [
    {
     "data": {
      "text/plain": [
       "9"
      ]
     },
     "execution_count": 256,
     "metadata": {},
     "output_type": "execute_result"
    }
   ],
   "source": [
    "#count the prod list\n",
    "len(list(product(p, q)))"
   ]
  },
  {
   "cell_type": "markdown",
   "metadata": {},
   "source": [
    "### 2. \n",
    "### How many different ways can you combine two of the letters from \"abcd\"?"
   ]
  },
  {
   "cell_type": "code",
   "execution_count": 231,
   "metadata": {},
   "outputs": [
    {
     "name": "stdout",
     "output_type": "stream",
     "text": [
      "[('a', 'b'), ('a', 'c'), ('a', 'd'), ('b', 'c'), ('b', 'd'), ('c', 'd')]\n"
     ]
    }
   ],
   "source": [
    "from itertools import combinations\n",
    "\n",
    "print (list(combinations('abcd', 2)))\n",
    "\n"
   ]
  },
  {
   "cell_type": "code",
   "execution_count": 254,
   "metadata": {},
   "outputs": [
    {
     "name": "stdout",
     "output_type": "stream",
     "text": [
      "('a', 'b')\n",
      "('a', 'c')\n",
      "('a', 'd')\n",
      "('b', 'c')\n",
      "('b', 'd')\n",
      "('c', 'd')\n"
     ]
    }
   ],
   "source": [
    "#from itertools import combinations\n",
    "#def alpha_combo():\n",
    "#    combos = list(combinations(['a', 'b', 'c', 'd'], 2))\n",
    "#    for i in list(combos):\n",
    "#        print(i)\n",
    "#        \n",
    "#alpha_combo()"
   ]
  },
  {
   "cell_type": "code",
   "execution_count": 255,
   "metadata": {},
   "outputs": [
    {
     "data": {
      "text/plain": [
       "6"
      ]
     },
     "execution_count": 255,
     "metadata": {},
     "output_type": "execute_result"
    }
   ],
   "source": [
    "len(list(combinations('abcd', 2)))"
   ]
  },
  {
   "cell_type": "markdown",
   "metadata": {},
   "source": [
    "Save this file as `profiles.json` inside of your exercises directory. Use the `load` function from the `json` module to open this file, it will produce a list of dictionaries. Using this data, write some code that calculates and outputs the following information:\n",
    "\n",
    "- Total number of users\n",
    "- Number of active users\n",
    "- Number of inactive users\n",
    "- Grand total of balances for all users\n",
    "- Average balance per user\n",
    "- User with the lowest balance\n",
    "- User with the highest balance\n",
    "- Most common favorite fruit\n",
    "- Least most common favorite fruit\n",
    "- Total number of unread messages for all users"
   ]
  },
  {
   "cell_type": "code",
   "execution_count": 7,
   "metadata": {},
   "outputs": [
    {
     "name": "stdout",
     "output_type": "stream",
     "text": [
      "[{'_id': '54e23c3e46ab53a440b580e8', 'index': 0, 'guid': '9962b468-ef3e-4993-b677-617469bc3008', 'isActive': False, 'balance': '$2,097.02', 'picture': 'http://placehold.it/32x32', 'age': 39, 'eyeColor': 'blue', 'name': 'Hebert Estes', 'gender': 'male', 'company': 'ANDRYX', 'email': 'hebertestes@andryx.com', 'phone': '+1 (866) 456-2268', 'address': '121 Emmons Avenue, Klondike, Kentucky, 5975', 'about': 'Sit cillum deserunt irure laboris tempor fugiat laboris. Amet commodo amet est incididunt. Dolore qui fugiat cillum pariatur dolore excepteur elit ipsum.\\r\\n', 'registered': '2014-11-10T01:44:03 +06:00', 'latitude': -80.157843, 'longitude': 161.93016, 'tags': ['sit', 'occaecat', 'non', 'ea', 'sit', 'laboris', 'exercitation'], 'friends': [{'id': 0, 'name': 'Tanisha Leonard'}, {'id': 1, 'name': 'Dennis Wilson'}, {'id': 2, 'name': 'Lupe Howe'}], 'greeting': 'Hello, Hebert Estes! You have 4 unread messages.', 'favoriteFruit': 'strawberry'}, {'_id': '54e23c3ef5cc0d250968c212', 'index': 1, 'guid': '905f849d-49bf-4a57-b4f3-5d6e4bf1b04c', 'isActive': False, 'balance': '$3,654.02', 'picture': 'http://placehold.it/32x32', 'age': 30, 'eyeColor': 'green', 'name': 'Allison Wynn', 'gender': 'male', 'company': 'PHARMACON', 'email': 'allisonwynn@pharmacon.com', 'phone': '+1 (926) 525-3131', 'address': '724 Brevoort Place, Lodoga, Indiana, 3880', 'about': 'Esse quis cillum sunt occaecat ad et eu incididunt aliquip dolor. Adipisicing labore magna anim cillum nisi. Elit mollit consequat velit nulla cillum excepteur elit ullamco deserunt. Anim aliquip Lorem excepteur ad veniam et labore in qui ullamco. Occaecat sit do incididunt voluptate id magna ea amet.\\r\\n', 'registered': '2014-06-10T13:41:26 +05:00', 'latitude': 55.737207, 'longitude': -167.177561, 'tags': ['enim', 'officia', 'laboris', 'irure', 'veniam', 'occaecat', 'pariatur'], 'friends': [{'id': 0, 'name': 'Curry Cox'}, {'id': 1, 'name': 'Alma Dale'}, {'id': 2, 'name': 'Barbara Mayo'}], 'greeting': 'Hello, Allison Wynn! You have 19 unread messages.', 'favoriteFruit': 'apple'}, {'_id': '54e23c3e09cc6875638cd36b', 'index': 2, 'guid': '1b042d48-9cfa-4db5-8b60-4104165591c3', 'isActive': True, 'balance': '$1,536.02', 'picture': 'http://placehold.it/32x32', 'age': 31, 'eyeColor': 'brown', 'name': 'Jacobs Floyd', 'gender': 'male', 'company': 'QUONK', 'email': 'jacobsfloyd@quonk.com', 'phone': '+1 (853) 537-3315', 'address': '941 Cox Place, Bluffview, Georgia, 5882', 'about': 'Deserunt adipisicing proident exercitation cillum anim consectetur labore exercitation. Commodo reprehenderit laborum enim exercitation. Ullamco nulla culpa aliqua nisi fugiat consectetur deserunt nostrud in eu.\\r\\n', 'registered': '2014-07-30T03:17:32 +05:00', 'latitude': 30.215667, 'longitude': 68.831905, 'tags': ['est', 'aute', 'laborum', 'sint', 'anim', 'sit', 'consectetur'], 'friends': [{'id': 0, 'name': 'Robles Chan'}, {'id': 1, 'name': 'Whitfield Strickland'}, {'id': 2, 'name': 'Lina Melton'}], 'greeting': 'Hello, Jacobs Floyd! You have 5 unread messages.', 'favoriteFruit': 'banana'}, {'_id': '54e23c3e54e4094147a3b1da', 'index': 3, 'guid': '69eb3454-8acc-46f1-a636-c6df00dfb542', 'isActive': False, 'balance': '$3,919.64', 'picture': 'http://placehold.it/32x32', 'age': 20, 'eyeColor': 'green', 'name': 'Fay Hammond', 'gender': 'female', 'company': 'INRT', 'email': 'fayhammond@inrt.com', 'phone': '+1 (922) 429-2592', 'address': '518 Randolph Street, Whitestone, Arizona, 8189', 'about': 'Aliqua sunt exercitation quis cupidatat fugiat nulla laboris occaecat ut reprehenderit qui incididunt. Amet excepteur qui amet mollit sint enim velit est dolor eu. Velit labore ea aute ipsum consequat culpa cupidatat excepteur aliqua. Sit commodo id est deserunt commodo. Labore sit deserunt enim in dolore incididunt. Officia qui est veniam cillum consequat minim duis Lorem esse magna culpa cupidatat cupidatat enim. Amet eiusmod elit qui reprehenderit commodo quis.\\r\\n', 'registered': '2015-01-30T08:05:38 +06:00', 'latitude': 33.825844, 'longitude': -65.969538, 'tags': ['aliqua', 'esse', 'sint', 'pariatur', 'commodo', 'do', 'anim'], 'friends': [{'id': 0, 'name': 'Dudley Booker'}, {'id': 1, 'name': 'Esmeralda Tyler'}, {'id': 2, 'name': 'Rosa Hampton'}], 'greeting': 'Hello, Fay Hammond! You have 10 unread messages.', 'favoriteFruit': 'banana'}, {'_id': '54e23c3e177caf5567ba87ac', 'index': 4, 'guid': '97962c85-7700-4ffa-a01e-2fcbc147fd81', 'isActive': False, 'balance': '$3,681.39', 'picture': 'http://placehold.it/32x32', 'age': 39, 'eyeColor': 'green', 'name': 'Chasity Marsh', 'gender': 'female', 'company': 'WAZZU', 'email': 'chasitymarsh@wazzu.com', 'phone': '+1 (976) 425-2362', 'address': '604 Just Court, Eastvale, Federated States Of Micronesia, 8644', 'about': 'Irure excepteur consequat esse qui tempor deserunt nulla fugiat. Ut excepteur do veniam dolore dolor proident sunt voluptate ad ipsum nisi. Lorem proident deserunt Lorem cupidatat dolor nulla qui id aliqua. Et nulla laborum deserunt tempor ad culpa. Ullamco occaecat adipisicing dolore laborum laborum duis aliqua nisi irure ex. Incididunt tempor Lorem quis dolore.\\r\\n', 'registered': '2014-07-31T06:03:19 +05:00', 'latitude': -31.660978, 'longitude': 37.559095, 'tags': ['aliquip', 'duis', 'irure', 'amet', 'aliquip', 'dolore', 'esse'], 'friends': [{'id': 0, 'name': 'Kristina Glover'}, {'id': 1, 'name': 'Ora Christian'}, {'id': 2, 'name': 'Jacklyn Joseph'}], 'greeting': 'Hello, Chasity Marsh! You have 9 unread messages.', 'favoriteFruit': 'apple'}, {'_id': '54e23c3eaffbb506aa15ec1c', 'index': 5, 'guid': 'fc3e04d1-44c2-449e-891a-d4f8053d14a4', 'isActive': True, 'balance': '$1,694.42', 'picture': 'http://placehold.it/32x32', 'age': 30, 'eyeColor': 'brown', 'name': 'Camacho Cortez', 'gender': 'male', 'company': 'EARTHWAX', 'email': 'camachocortez@earthwax.com', 'phone': '+1 (869) 528-2019', 'address': '101 Haring Street, Nicut, Louisiana, 1473', 'about': 'Qui ad commodo elit voluptate cupidatat exercitation amet ea laborum sunt aliquip nisi irure. Veniam voluptate eiusmod sint aliquip ea. Voluptate voluptate Lorem nulla laborum eiusmod occaecat et nostrud sint in cillum reprehenderit magna nulla. Lorem id fugiat laborum qui mollit amet. Culpa officia ipsum nisi culpa in. Fugiat quis eu cupidatat non culpa in ea velit pariatur non in excepteur.\\r\\n', 'registered': '2014-03-17T12:04:00 +05:00', 'latitude': 74.434627, 'longitude': 69.527088, 'tags': ['et', 'sit', 'in', 'id', 'ullamco', 'elit', 'laborum'], 'friends': [{'id': 0, 'name': 'Sexton Tillman'}, {'id': 1, 'name': 'Boone Steele'}, {'id': 2, 'name': 'Elvia Ward'}], 'greeting': 'Hello, Camacho Cortez! You have 19 unread messages.', 'favoriteFruit': 'apple'}, {'_id': '54e23c3e0fd8074c2ca52667', 'index': 6, 'guid': 'af8d9a03-fde9-4039-b20c-c4708d4cfc3c', 'isActive': False, 'balance': '$1,214.10', 'picture': 'http://placehold.it/32x32', 'age': 35, 'eyeColor': 'green', 'name': 'Avery Flynn', 'gender': 'male', 'company': 'TERSANKI', 'email': 'averyflynn@tersanki.com', 'phone': '+1 (966) 404-2471', 'address': '569 Oakland Place, Beyerville, Puerto Rico, 2395', 'about': 'Minim consequat anim ad et tempor et pariatur cillum ut. Ea Lorem consectetur sunt aliquip ea minim minim id dolore incididunt qui magna. Magna velit labore dolore voluptate ut aliquip esse qui est ipsum cupidatat duis enim. Sunt esse eiusmod cupidatat duis quis sunt anim dolore adipisicing enim dolore aliqua mollit. Commodo sit ad eiusmod reprehenderit.\\r\\n', 'registered': '2014-04-13T10:25:03 +05:00', 'latitude': -89.879409, 'longitude': 143.441709, 'tags': ['quis', 'esse', 'Lorem', 'minim', 'nostrud', 'voluptate', 'laborum'], 'friends': [{'id': 0, 'name': 'Ball Henson'}, {'id': 1, 'name': 'Dalton Mccoy'}, {'id': 2, 'name': 'Carolina Sharp'}], 'greeting': 'Hello, Avery Flynn! You have 13 unread messages.', 'favoriteFruit': 'banana'}, {'_id': '54e23c3eb112d96e4204914d', 'index': 7, 'guid': '95f1c020-f9eb-4a29-b236-e766759d89d0', 'isActive': False, 'balance': '$2,930.31', 'picture': 'http://placehold.it/32x32', 'age': 23, 'eyeColor': 'blue', 'name': 'Michael Cash', 'gender': 'male', 'company': 'ORBIXTAR', 'email': 'michaelcash@orbixtar.com', 'phone': '+1 (996) 439-3660', 'address': '808 Duryea Court, Downsville, Northern Mariana Islands, 2154', 'about': 'Minim proident minim consectetur nostrud dolor reprehenderit. Ea est proident non do cillum eu est dolor Lorem id. Tempor enim incididunt consequat voluptate nulla ipsum voluptate id. Incididunt enim laboris nostrud in exercitation est culpa nulla velit.\\r\\n', 'registered': '2014-05-24T17:56:54 +05:00', 'latitude': -86.621367, 'longitude': -4.06197, 'tags': ['eu', 'sit', 'dolore', 'culpa', 'Lorem', 'in', 'esse'], 'friends': [{'id': 0, 'name': 'Rodgers Nolan'}, {'id': 1, 'name': 'Jewel Marks'}, {'id': 2, 'name': 'Sue Mejia'}], 'greeting': 'Hello, Michael Cash! You have 17 unread messages.', 'favoriteFruit': 'strawberry'}, {'_id': '54e23c3ef30f14d0e5afddf3', 'index': 8, 'guid': 'bde2d56f-2488-40d0-a7d2-21019ee8a18b', 'isActive': False, 'balance': '$1,944.15', 'picture': 'http://placehold.it/32x32', 'age': 25, 'eyeColor': 'green', 'name': 'Madeleine Bray', 'gender': 'female', 'company': 'KIDSTOCK', 'email': 'madeleinebray@kidstock.com', 'phone': '+1 (820) 541-2969', 'address': '684 Stratford Road, Rosine, District Of Columbia, 7177', 'about': 'Ullamco ea esse ullamco commodo quis amet ut ad. Sint eiusmod ullamco minim nostrud amet in ex adipisicing velit cillum Lorem enim nostrud. Deserunt esse incididunt eiusmod commodo ullamco id pariatur tempor duis laboris Lorem. Laboris magna Lorem quis laborum ullamco. Dolor minim magna ut occaecat in consequat consequat in commodo pariatur voluptate pariatur dolore. Quis exercitation cillum labore cillum laborum. Dolore est reprehenderit anim reprehenderit consectetur sit quis ea ut veniam.\\r\\n', 'registered': '2014-08-11T08:54:06 +05:00', 'latitude': 45.118798, 'longitude': -7.698707, 'tags': ['id', 'magna', 'excepteur', 'excepteur', 'excepteur', 'duis', 'excepteur'], 'friends': [{'id': 0, 'name': 'Herrera Doyle'}, {'id': 1, 'name': 'Berger Fisher'}, {'id': 2, 'name': 'Chang Coffey'}], 'greeting': 'Hello, Madeleine Bray! You have 2 unread messages.', 'favoriteFruit': 'strawberry'}, {'_id': '54e23c3ebd80e9c26b057fa3', 'index': 9, 'guid': '75991ca5-05ed-499e-bbb5-f057f86d05d7', 'isActive': True, 'balance': '$2,839.22', 'picture': 'http://placehold.it/32x32', 'age': 37, 'eyeColor': 'blue', 'name': 'Corine French', 'gender': 'female', 'company': 'INTRAWEAR', 'email': 'corinefrench@intrawear.com', 'phone': '+1 (987) 573-3164', 'address': '964 Clara Street, Snyderville, Oklahoma, 3627', 'about': 'Sint cillum laborum labore duis fugiat voluptate adipisicing. Ad culpa et et ea incididunt nulla excepteur officia. Cillum veniam amet ipsum reprehenderit do eiusmod aliqua aute nisi Lorem consectetur esse in incididunt.\\r\\n', 'registered': '2014-06-25T20:17:13 +05:00', 'latitude': -37.637422, 'longitude': 154.195523, 'tags': ['laboris', 'in', 'dolore', 'mollit', 'velit', 'laboris', 'excepteur'], 'friends': [{'id': 0, 'name': 'Greta Hill'}, {'id': 1, 'name': 'Cline Curry'}, {'id': 2, 'name': 'Branch Sawyer'}], 'greeting': 'Hello, Corine French! You have 18 unread messages.', 'favoriteFruit': 'banana'}, {'_id': '54e23c3e6d89c09f5507e7dd', 'index': 10, 'guid': '87cffc18-3acf-40c5-8708-1bb93f1b68de', 'isActive': True, 'balance': '$2,467.31', 'picture': 'http://placehold.it/32x32', 'age': 29, 'eyeColor': 'blue', 'name': 'Trudy Cummings', 'gender': 'female', 'company': 'SPLINX', 'email': 'trudycummings@splinx.com', 'phone': '+1 (925) 403-2797', 'address': '558 Charles Place, Tedrow, California, 9832', 'about': 'Non id adipisicing deserunt non magna ex adipisicing sint esse sint. Laborum ea nostrud Lorem voluptate quis proident eu nisi exercitation in. Consequat occaecat proident officia anim.\\r\\n', 'registered': '2014-03-13T17:54:31 +05:00', 'latitude': -36.185131, 'longitude': -37.774906, 'tags': ['aute', 'occaecat', 'ea', 'pariatur', 'consectetur', 'magna', 'ea'], 'friends': [{'id': 0, 'name': 'Amber Gates'}, {'id': 1, 'name': 'Barron Walsh'}, {'id': 2, 'name': 'Nell Bolton'}], 'greeting': 'Hello, Trudy Cummings! You have 2 unread messages.', 'favoriteFruit': 'strawberry'}, {'_id': '54e23c3e4192cf53edd67c99', 'index': 11, 'guid': '5a5496f1-a027-4c21-85da-c399234cd9a5', 'isActive': True, 'balance': '$3,304.99', 'picture': 'http://placehold.it/32x32', 'age': 21, 'eyeColor': 'brown', 'name': 'Peggy Mayer', 'gender': 'female', 'company': 'ACCUPRINT', 'email': 'peggymayer@accuprint.com', 'phone': '+1 (854) 428-2585', 'address': '830 Willmohr Street, Crenshaw, Missouri, 6032', 'about': 'Aliqua sit enim cillum aliquip ad proident excepteur in consectetur eiusmod. Ipsum sint cillum veniam eiusmod aute sunt et do est tempor. Lorem elit dolor dolore incididunt cillum. Enim occaecat minim sunt cillum est velit cillum deserunt tempor eu.\\r\\n', 'registered': '2014-09-14T07:06:49 +05:00', 'latitude': 48.323912, 'longitude': 22.184821, 'tags': ['commodo', 'esse', 'ad', 'ullamco', 'ea', 'sint', 'ipsum'], 'friends': [{'id': 0, 'name': 'Hopkins Mccall'}, {'id': 1, 'name': 'Nielsen Weeks'}, {'id': 2, 'name': 'Dale Knowles'}], 'greeting': 'Hello, Peggy Mayer! You have 13 unread messages.', 'favoriteFruit': 'strawberry'}, {'_id': '54e23c3eedcc65f0ec3a5496', 'index': 12, 'guid': '759a21c4-5f9c-4189-9c50-c9d8a9f31037', 'isActive': False, 'balance': '$3,844.42', 'picture': 'http://placehold.it/32x32', 'age': 40, 'eyeColor': 'brown', 'name': 'Chan Hurley', 'gender': 'male', 'company': 'ZEAM', 'email': 'chanhurley@zeam.com', 'phone': '+1 (917) 475-3705', 'address': '915 Channel Avenue, Clinton, North Dakota, 6244', 'about': 'Voluptate exercitation ut anim ex adipisicing ut do officia incididunt fugiat cupidatat aliqua. Cillum ullamco irure dolore est consectetur non consequat. Nulla ullamco eu irure qui dolor magna ipsum id in enim voluptate aute. Officia aliqua dolore ut reprehenderit Lorem cillum. Cillum reprehenderit eu cillum aliqua sint eiusmod cupidatat culpa elit in. Fugiat voluptate reprehenderit amet anim qui nisi velit aliqua proident anim.\\r\\n', 'registered': '2014-03-01T14:51:23 +06:00', 'latitude': 85.901051, 'longitude': -74.986179, 'tags': ['minim', 'veniam', 'sit', 'aute', 'irure', 'non', 'eiusmod'], 'friends': [{'id': 0, 'name': 'Reese Grant'}, {'id': 1, 'name': 'Jenna Kinney'}, {'id': 2, 'name': 'Rhea May'}], 'greeting': 'Hello, Chan Hurley! You have 7 unread messages.', 'favoriteFruit': 'apple'}, {'_id': '54e23c3eb813e66c6d33aa82', 'index': 13, 'guid': '6fd14a8e-3158-48eb-a7e1-93fe57b74746', 'isActive': True, 'balance': '$3,594.99', 'picture': 'http://placehold.it/32x32', 'age': 40, 'eyeColor': 'blue', 'name': 'Diaz Pena', 'gender': 'male', 'company': 'SUREPLEX', 'email': 'diazpena@sureplex.com', 'phone': '+1 (986) 511-3050', 'address': '184 Kingsway Place, Grantville, Michigan, 2421', 'about': 'Enim elit amet officia consectetur do Lorem reprehenderit cupidatat exercitation velit. Ex tempor esse consectetur dolore aute et. Cupidatat duis nulla in incididunt nulla ullamco non magna officia commodo anim. Labore quis ullamco est deserunt excepteur duis nostrud deserunt cillum proident. Non eiusmod consectetur pariatur deserunt irure quis exercitation ex incididunt quis dolore pariatur sunt irure. Eu do fugiat laboris tempor culpa.\\r\\n', 'registered': '2014-04-19T20:43:12 +05:00', 'latitude': 6.606991, 'longitude': 81.593748, 'tags': ['excepteur', 'elit', 'ullamco', 'excepteur', 'ad', 'quis', 'dolore'], 'friends': [{'id': 0, 'name': 'Mcmillan Knox'}, {'id': 1, 'name': 'Flossie Dixon'}, {'id': 2, 'name': 'Sears Carson'}], 'greeting': 'Hello, Diaz Pena! You have 13 unread messages.', 'favoriteFruit': 'strawberry'}, {'_id': '54e23c3e502a2f526b689c3e', 'index': 14, 'guid': '459cc82d-7878-42cb-b9c6-073506380036', 'isActive': True, 'balance': '$2,940.24', 'picture': 'http://placehold.it/32x32', 'age': 40, 'eyeColor': 'brown', 'name': 'Heath Castaneda', 'gender': 'male', 'company': 'NETPLODE', 'email': 'heathcastaneda@netplode.com', 'phone': '+1 (944) 478-3741', 'address': '278 Village Road, Sunnyside, Massachusetts, 7496', 'about': 'Consectetur mollit cupidatat ex consectetur eiusmod ut. Cupidatat anim cupidatat cupidatat minim ipsum et quis amet proident pariatur. Do consectetur fugiat quis nisi non. Ut eu consequat consequat in ullamco eiusmod quis cillum sunt dolore anim. Non irure aliqua aliqua enim elit labore consequat.\\r\\n', 'registered': '2014-07-30T21:38:43 +05:00', 'latitude': 69.928876, 'longitude': 33.649878, 'tags': ['elit', 'commodo', 'ut', 'ullamco', 'ullamco', 'velit', 'ullamco'], 'friends': [{'id': 0, 'name': 'Dora Mack'}, {'id': 1, 'name': 'Christensen Camacho'}, {'id': 2, 'name': 'Castro Kelly'}], 'greeting': 'Hello, Heath Castaneda! You have 12 unread messages.', 'favoriteFruit': 'strawberry'}, {'_id': '54e23c3e69d22e49c7fe62de', 'index': 15, 'guid': '33d2bbe5-d6f7-4844-88fc-b9f6af63b373', 'isActive': False, 'balance': '$3,062.41', 'picture': 'http://placehold.it/32x32', 'age': 38, 'eyeColor': 'brown', 'name': 'Greer Blankenship', 'gender': 'male', 'company': 'QUALITERN', 'email': 'greerblankenship@qualitern.com', 'phone': '+1 (957) 482-3874', 'address': '557 Ingraham Street, Brambleton, South Dakota, 8482', 'about': 'Non in excepteur nostrud consectetur. Qui non consectetur officia incididunt elit laboris exercitation exercitation est minim veniam ullamco dolore. Eu sit aute culpa ex sunt amet. Ut et amet Lorem sunt anim pariatur.\\r\\n', 'registered': '2014-03-30T21:39:41 +05:00', 'latitude': -71.093388, 'longitude': 65.740255, 'tags': ['enim', 'eiusmod', 'Lorem', 'reprehenderit', 'nisi', 'anim', 'sunt'], 'friends': [{'id': 0, 'name': 'Woods Norman'}, {'id': 1, 'name': 'Marilyn Haney'}, {'id': 2, 'name': 'Webster Nielsen'}], 'greeting': 'Hello, Greer Blankenship! You have 7 unread messages.', 'favoriteFruit': 'banana'}, {'_id': '54e23c3e42676228c442a669', 'index': 16, 'guid': 'e44604f0-c7a8-4b89-bda3-0f4710ebe28a', 'isActive': False, 'balance': '$3,067.82', 'picture': 'http://placehold.it/32x32', 'age': 32, 'eyeColor': 'green', 'name': 'Coffey Hayes', 'gender': 'male', 'company': 'INQUALA', 'email': 'coffeyhayes@inquala.com', 'phone': '+1 (880) 451-3490', 'address': '490 Durland Place, Craig, Tennessee, 5034', 'about': 'Est esse irure Lorem ullamco veniam fugiat laborum veniam excepteur. Ad enim pariatur nostrud excepteur et nostrud velit dolore ex enim cillum in aliquip fugiat. Nulla laborum exercitation irure magna elit laborum magna ad excepteur. Cillum pariatur Lorem eiusmod ad dolore eiusmod veniam do minim laborum in dolor. Reprehenderit elit ad id voluptate Lorem Lorem dolor cupidatat excepteur. Proident minim ea aute nulla.\\r\\n', 'registered': '2014-04-01T23:04:39 +05:00', 'latitude': -30.662644, 'longitude': 59.806684, 'tags': ['duis', 'est', 'in', 'officia', 'nostrud', 'occaecat', 'mollit'], 'friends': [{'id': 0, 'name': 'Suarez Perry'}, {'id': 1, 'name': 'Marlene Sheppard'}, {'id': 2, 'name': 'Cohen Yates'}], 'greeting': 'Hello, Coffey Hayes! You have 19 unread messages.', 'favoriteFruit': 'strawberry'}, {'_id': '54e23c3e4ac5969958013235', 'index': 17, 'guid': 'fa7e26df-d239-41e8-9aa9-be5e808b6f89', 'isActive': True, 'balance': '$2,646.76', 'picture': 'http://placehold.it/32x32', 'age': 24, 'eyeColor': 'brown', 'name': 'Leanne Hurst', 'gender': 'female', 'company': 'ACCIDENCY', 'email': 'leannehurst@accidency.com', 'phone': '+1 (820) 420-3317', 'address': '196 Columbus Place, Carbonville, New Jersey, 7513', 'about': 'Dolor occaecat dolore ut tempor. Veniam elit anim duis do pariatur. Qui excepteur nisi eiusmod mollit laboris fugiat commodo ipsum reprehenderit labore cillum. Aliquip laborum commodo nisi cupidatat labore nostrud exercitation adipisicing mollit eu magna proident ex Lorem. Nostrud magna sint sint consequat consectetur et sint.\\r\\n', 'registered': '2014-11-10T01:25:55 +06:00', 'latitude': 16.671695, 'longitude': 139.707959, 'tags': ['culpa', 'deserunt', 'tempor', 'quis', 'reprehenderit', 'incididunt', 'est'], 'friends': [{'id': 0, 'name': 'Farley Frank'}, {'id': 1, 'name': 'Pruitt Frye'}, {'id': 2, 'name': 'Simpson Cardenas'}], 'greeting': 'Hello, Leanne Hurst! You have 5 unread messages.', 'favoriteFruit': 'banana'}, {'_id': '54e23c3ed945981ba2580614', 'index': 18, 'guid': 'e608dc5c-fee4-4086-971b-3ebd37bfa137', 'isActive': True, 'balance': '$2,227.79', 'picture': 'http://placehold.it/32x32', 'age': 22, 'eyeColor': 'brown', 'name': 'Ewing Larson', 'gender': 'male', 'company': 'ESCENTA', 'email': 'ewinglarson@escenta.com', 'phone': '+1 (943) 439-3760', 'address': '136 Beard Street, Wattsville, New Hampshire, 2803', 'about': 'Veniam eiusmod exercitation culpa mollit reprehenderit ullamco voluptate voluptate irure qui duis anim et. Laborum dolor quis do voluptate. In pariatur dolor id mollit et enim. Qui ex qui in cillum irure enim non reprehenderit irure et excepteur aliquip eu eu.\\r\\n', 'registered': '2014-07-21T19:17:41 +05:00', 'latitude': 15.903555, 'longitude': -159.721203, 'tags': ['Lorem', 'magna', 'dolor', 'aliquip', 'reprehenderit', 'eu', 'voluptate'], 'friends': [{'id': 0, 'name': 'Suzette Huffman'}, {'id': 1, 'name': 'Paige Santiago'}, {'id': 2, 'name': 'Dollie Fernandez'}], 'greeting': 'Hello, Ewing Larson! You have 16 unread messages.', 'favoriteFruit': 'strawberry'}]\n"
     ]
    }
   ],
   "source": [
    "import json\n",
    "#this is parsing the file\n",
    "#AKA read\n",
    "with open('profiles.json') as json_file: #this OPENS the file\n",
    "    profiles = json.load(json_file) # This reads the file\n",
    "        \n",
    "print(profiles)#print out the file profiles.json"
   ]
  },
  {
   "cell_type": "code",
   "execution_count": 8,
   "metadata": {},
   "outputs": [
    {
     "data": {
      "text/html": [
       "<div>\n",
       "<style scoped>\n",
       "    .dataframe tbody tr th:only-of-type {\n",
       "        vertical-align: middle;\n",
       "    }\n",
       "\n",
       "    .dataframe tbody tr th {\n",
       "        vertical-align: top;\n",
       "    }\n",
       "\n",
       "    .dataframe thead th {\n",
       "        text-align: right;\n",
       "    }\n",
       "</style>\n",
       "<table border=\"1\" class=\"dataframe\">\n",
       "  <thead>\n",
       "    <tr style=\"text-align: right;\">\n",
       "      <th></th>\n",
       "      <th>_id</th>\n",
       "      <th>index</th>\n",
       "      <th>guid</th>\n",
       "      <th>isActive</th>\n",
       "      <th>balance</th>\n",
       "      <th>picture</th>\n",
       "      <th>age</th>\n",
       "      <th>eyeColor</th>\n",
       "      <th>name</th>\n",
       "      <th>gender</th>\n",
       "      <th>...</th>\n",
       "      <th>phone</th>\n",
       "      <th>address</th>\n",
       "      <th>about</th>\n",
       "      <th>registered</th>\n",
       "      <th>latitude</th>\n",
       "      <th>longitude</th>\n",
       "      <th>tags</th>\n",
       "      <th>friends</th>\n",
       "      <th>greeting</th>\n",
       "      <th>favoriteFruit</th>\n",
       "    </tr>\n",
       "  </thead>\n",
       "  <tbody>\n",
       "    <tr>\n",
       "      <th>0</th>\n",
       "      <td>54e23c3e46ab53a440b580e8</td>\n",
       "      <td>0</td>\n",
       "      <td>9962b468-ef3e-4993-b677-617469bc3008</td>\n",
       "      <td>False</td>\n",
       "      <td>$2,097.02</td>\n",
       "      <td>http://placehold.it/32x32</td>\n",
       "      <td>39</td>\n",
       "      <td>blue</td>\n",
       "      <td>Hebert Estes</td>\n",
       "      <td>male</td>\n",
       "      <td>...</td>\n",
       "      <td>+1 (866) 456-2268</td>\n",
       "      <td>121 Emmons Avenue, Klondike, Kentucky, 5975</td>\n",
       "      <td>Sit cillum deserunt irure laboris tempor fugia...</td>\n",
       "      <td>2014-11-10T01:44:03 +06:00</td>\n",
       "      <td>-80.157843</td>\n",
       "      <td>161.930160</td>\n",
       "      <td>[sit, occaecat, non, ea, sit, laboris, exercit...</td>\n",
       "      <td>[{'id': 0, 'name': 'Tanisha Leonard'}, {'id': ...</td>\n",
       "      <td>Hello, Hebert Estes! You have 4 unread messages.</td>\n",
       "      <td>strawberry</td>\n",
       "    </tr>\n",
       "    <tr>\n",
       "      <th>1</th>\n",
       "      <td>54e23c3ef5cc0d250968c212</td>\n",
       "      <td>1</td>\n",
       "      <td>905f849d-49bf-4a57-b4f3-5d6e4bf1b04c</td>\n",
       "      <td>False</td>\n",
       "      <td>$3,654.02</td>\n",
       "      <td>http://placehold.it/32x32</td>\n",
       "      <td>30</td>\n",
       "      <td>green</td>\n",
       "      <td>Allison Wynn</td>\n",
       "      <td>male</td>\n",
       "      <td>...</td>\n",
       "      <td>+1 (926) 525-3131</td>\n",
       "      <td>724 Brevoort Place, Lodoga, Indiana, 3880</td>\n",
       "      <td>Esse quis cillum sunt occaecat ad et eu incidi...</td>\n",
       "      <td>2014-06-10T13:41:26 +05:00</td>\n",
       "      <td>55.737207</td>\n",
       "      <td>-167.177561</td>\n",
       "      <td>[enim, officia, laboris, irure, veniam, occaec...</td>\n",
       "      <td>[{'id': 0, 'name': 'Curry Cox'}, {'id': 1, 'na...</td>\n",
       "      <td>Hello, Allison Wynn! You have 19 unread messages.</td>\n",
       "      <td>apple</td>\n",
       "    </tr>\n",
       "    <tr>\n",
       "      <th>2</th>\n",
       "      <td>54e23c3e09cc6875638cd36b</td>\n",
       "      <td>2</td>\n",
       "      <td>1b042d48-9cfa-4db5-8b60-4104165591c3</td>\n",
       "      <td>True</td>\n",
       "      <td>$1,536.02</td>\n",
       "      <td>http://placehold.it/32x32</td>\n",
       "      <td>31</td>\n",
       "      <td>brown</td>\n",
       "      <td>Jacobs Floyd</td>\n",
       "      <td>male</td>\n",
       "      <td>...</td>\n",
       "      <td>+1 (853) 537-3315</td>\n",
       "      <td>941 Cox Place, Bluffview, Georgia, 5882</td>\n",
       "      <td>Deserunt adipisicing proident exercitation cil...</td>\n",
       "      <td>2014-07-30T03:17:32 +05:00</td>\n",
       "      <td>30.215667</td>\n",
       "      <td>68.831905</td>\n",
       "      <td>[est, aute, laborum, sint, anim, sit, consecte...</td>\n",
       "      <td>[{'id': 0, 'name': 'Robles Chan'}, {'id': 1, '...</td>\n",
       "      <td>Hello, Jacobs Floyd! You have 5 unread messages.</td>\n",
       "      <td>banana</td>\n",
       "    </tr>\n",
       "    <tr>\n",
       "      <th>3</th>\n",
       "      <td>54e23c3e54e4094147a3b1da</td>\n",
       "      <td>3</td>\n",
       "      <td>69eb3454-8acc-46f1-a636-c6df00dfb542</td>\n",
       "      <td>False</td>\n",
       "      <td>$3,919.64</td>\n",
       "      <td>http://placehold.it/32x32</td>\n",
       "      <td>20</td>\n",
       "      <td>green</td>\n",
       "      <td>Fay Hammond</td>\n",
       "      <td>female</td>\n",
       "      <td>...</td>\n",
       "      <td>+1 (922) 429-2592</td>\n",
       "      <td>518 Randolph Street, Whitestone, Arizona, 8189</td>\n",
       "      <td>Aliqua sunt exercitation quis cupidatat fugiat...</td>\n",
       "      <td>2015-01-30T08:05:38 +06:00</td>\n",
       "      <td>33.825844</td>\n",
       "      <td>-65.969538</td>\n",
       "      <td>[aliqua, esse, sint, pariatur, commodo, do, anim]</td>\n",
       "      <td>[{'id': 0, 'name': 'Dudley Booker'}, {'id': 1,...</td>\n",
       "      <td>Hello, Fay Hammond! You have 10 unread messages.</td>\n",
       "      <td>banana</td>\n",
       "    </tr>\n",
       "    <tr>\n",
       "      <th>4</th>\n",
       "      <td>54e23c3e177caf5567ba87ac</td>\n",
       "      <td>4</td>\n",
       "      <td>97962c85-7700-4ffa-a01e-2fcbc147fd81</td>\n",
       "      <td>False</td>\n",
       "      <td>$3,681.39</td>\n",
       "      <td>http://placehold.it/32x32</td>\n",
       "      <td>39</td>\n",
       "      <td>green</td>\n",
       "      <td>Chasity Marsh</td>\n",
       "      <td>female</td>\n",
       "      <td>...</td>\n",
       "      <td>+1 (976) 425-2362</td>\n",
       "      <td>604 Just Court, Eastvale, Federated States Of ...</td>\n",
       "      <td>Irure excepteur consequat esse qui tempor dese...</td>\n",
       "      <td>2014-07-31T06:03:19 +05:00</td>\n",
       "      <td>-31.660978</td>\n",
       "      <td>37.559095</td>\n",
       "      <td>[aliquip, duis, irure, amet, aliquip, dolore, ...</td>\n",
       "      <td>[{'id': 0, 'name': 'Kristina Glover'}, {'id': ...</td>\n",
       "      <td>Hello, Chasity Marsh! You have 9 unread messages.</td>\n",
       "      <td>apple</td>\n",
       "    </tr>\n",
       "    <tr>\n",
       "      <th>5</th>\n",
       "      <td>54e23c3eaffbb506aa15ec1c</td>\n",
       "      <td>5</td>\n",
       "      <td>fc3e04d1-44c2-449e-891a-d4f8053d14a4</td>\n",
       "      <td>True</td>\n",
       "      <td>$1,694.42</td>\n",
       "      <td>http://placehold.it/32x32</td>\n",
       "      <td>30</td>\n",
       "      <td>brown</td>\n",
       "      <td>Camacho Cortez</td>\n",
       "      <td>male</td>\n",
       "      <td>...</td>\n",
       "      <td>+1 (869) 528-2019</td>\n",
       "      <td>101 Haring Street, Nicut, Louisiana, 1473</td>\n",
       "      <td>Qui ad commodo elit voluptate cupidatat exerci...</td>\n",
       "      <td>2014-03-17T12:04:00 +05:00</td>\n",
       "      <td>74.434627</td>\n",
       "      <td>69.527088</td>\n",
       "      <td>[et, sit, in, id, ullamco, elit, laborum]</td>\n",
       "      <td>[{'id': 0, 'name': 'Sexton Tillman'}, {'id': 1...</td>\n",
       "      <td>Hello, Camacho Cortez! You have 19 unread mess...</td>\n",
       "      <td>apple</td>\n",
       "    </tr>\n",
       "    <tr>\n",
       "      <th>6</th>\n",
       "      <td>54e23c3e0fd8074c2ca52667</td>\n",
       "      <td>6</td>\n",
       "      <td>af8d9a03-fde9-4039-b20c-c4708d4cfc3c</td>\n",
       "      <td>False</td>\n",
       "      <td>$1,214.10</td>\n",
       "      <td>http://placehold.it/32x32</td>\n",
       "      <td>35</td>\n",
       "      <td>green</td>\n",
       "      <td>Avery Flynn</td>\n",
       "      <td>male</td>\n",
       "      <td>...</td>\n",
       "      <td>+1 (966) 404-2471</td>\n",
       "      <td>569 Oakland Place, Beyerville, Puerto Rico, 2395</td>\n",
       "      <td>Minim consequat anim ad et tempor et pariatur ...</td>\n",
       "      <td>2014-04-13T10:25:03 +05:00</td>\n",
       "      <td>-89.879409</td>\n",
       "      <td>143.441709</td>\n",
       "      <td>[quis, esse, Lorem, minim, nostrud, voluptate,...</td>\n",
       "      <td>[{'id': 0, 'name': 'Ball Henson'}, {'id': 1, '...</td>\n",
       "      <td>Hello, Avery Flynn! You have 13 unread messages.</td>\n",
       "      <td>banana</td>\n",
       "    </tr>\n",
       "    <tr>\n",
       "      <th>7</th>\n",
       "      <td>54e23c3eb112d96e4204914d</td>\n",
       "      <td>7</td>\n",
       "      <td>95f1c020-f9eb-4a29-b236-e766759d89d0</td>\n",
       "      <td>False</td>\n",
       "      <td>$2,930.31</td>\n",
       "      <td>http://placehold.it/32x32</td>\n",
       "      <td>23</td>\n",
       "      <td>blue</td>\n",
       "      <td>Michael Cash</td>\n",
       "      <td>male</td>\n",
       "      <td>...</td>\n",
       "      <td>+1 (996) 439-3660</td>\n",
       "      <td>808 Duryea Court, Downsville, Northern Mariana...</td>\n",
       "      <td>Minim proident minim consectetur nostrud dolor...</td>\n",
       "      <td>2014-05-24T17:56:54 +05:00</td>\n",
       "      <td>-86.621367</td>\n",
       "      <td>-4.061970</td>\n",
       "      <td>[eu, sit, dolore, culpa, Lorem, in, esse]</td>\n",
       "      <td>[{'id': 0, 'name': 'Rodgers Nolan'}, {'id': 1,...</td>\n",
       "      <td>Hello, Michael Cash! You have 17 unread messages.</td>\n",
       "      <td>strawberry</td>\n",
       "    </tr>\n",
       "    <tr>\n",
       "      <th>8</th>\n",
       "      <td>54e23c3ef30f14d0e5afddf3</td>\n",
       "      <td>8</td>\n",
       "      <td>bde2d56f-2488-40d0-a7d2-21019ee8a18b</td>\n",
       "      <td>False</td>\n",
       "      <td>$1,944.15</td>\n",
       "      <td>http://placehold.it/32x32</td>\n",
       "      <td>25</td>\n",
       "      <td>green</td>\n",
       "      <td>Madeleine Bray</td>\n",
       "      <td>female</td>\n",
       "      <td>...</td>\n",
       "      <td>+1 (820) 541-2969</td>\n",
       "      <td>684 Stratford Road, Rosine, District Of Columb...</td>\n",
       "      <td>Ullamco ea esse ullamco commodo quis amet ut a...</td>\n",
       "      <td>2014-08-11T08:54:06 +05:00</td>\n",
       "      <td>45.118798</td>\n",
       "      <td>-7.698707</td>\n",
       "      <td>[id, magna, excepteur, excepteur, excepteur, d...</td>\n",
       "      <td>[{'id': 0, 'name': 'Herrera Doyle'}, {'id': 1,...</td>\n",
       "      <td>Hello, Madeleine Bray! You have 2 unread messa...</td>\n",
       "      <td>strawberry</td>\n",
       "    </tr>\n",
       "    <tr>\n",
       "      <th>9</th>\n",
       "      <td>54e23c3ebd80e9c26b057fa3</td>\n",
       "      <td>9</td>\n",
       "      <td>75991ca5-05ed-499e-bbb5-f057f86d05d7</td>\n",
       "      <td>True</td>\n",
       "      <td>$2,839.22</td>\n",
       "      <td>http://placehold.it/32x32</td>\n",
       "      <td>37</td>\n",
       "      <td>blue</td>\n",
       "      <td>Corine French</td>\n",
       "      <td>female</td>\n",
       "      <td>...</td>\n",
       "      <td>+1 (987) 573-3164</td>\n",
       "      <td>964 Clara Street, Snyderville, Oklahoma, 3627</td>\n",
       "      <td>Sint cillum laborum labore duis fugiat volupta...</td>\n",
       "      <td>2014-06-25T20:17:13 +05:00</td>\n",
       "      <td>-37.637422</td>\n",
       "      <td>154.195523</td>\n",
       "      <td>[laboris, in, dolore, mollit, velit, laboris, ...</td>\n",
       "      <td>[{'id': 0, 'name': 'Greta Hill'}, {'id': 1, 'n...</td>\n",
       "      <td>Hello, Corine French! You have 18 unread messa...</td>\n",
       "      <td>banana</td>\n",
       "    </tr>\n",
       "    <tr>\n",
       "      <th>10</th>\n",
       "      <td>54e23c3e6d89c09f5507e7dd</td>\n",
       "      <td>10</td>\n",
       "      <td>87cffc18-3acf-40c5-8708-1bb93f1b68de</td>\n",
       "      <td>True</td>\n",
       "      <td>$2,467.31</td>\n",
       "      <td>http://placehold.it/32x32</td>\n",
       "      <td>29</td>\n",
       "      <td>blue</td>\n",
       "      <td>Trudy Cummings</td>\n",
       "      <td>female</td>\n",
       "      <td>...</td>\n",
       "      <td>+1 (925) 403-2797</td>\n",
       "      <td>558 Charles Place, Tedrow, California, 9832</td>\n",
       "      <td>Non id adipisicing deserunt non magna ex adipi...</td>\n",
       "      <td>2014-03-13T17:54:31 +05:00</td>\n",
       "      <td>-36.185131</td>\n",
       "      <td>-37.774906</td>\n",
       "      <td>[aute, occaecat, ea, pariatur, consectetur, ma...</td>\n",
       "      <td>[{'id': 0, 'name': 'Amber Gates'}, {'id': 1, '...</td>\n",
       "      <td>Hello, Trudy Cummings! You have 2 unread messa...</td>\n",
       "      <td>strawberry</td>\n",
       "    </tr>\n",
       "    <tr>\n",
       "      <th>11</th>\n",
       "      <td>54e23c3e4192cf53edd67c99</td>\n",
       "      <td>11</td>\n",
       "      <td>5a5496f1-a027-4c21-85da-c399234cd9a5</td>\n",
       "      <td>True</td>\n",
       "      <td>$3,304.99</td>\n",
       "      <td>http://placehold.it/32x32</td>\n",
       "      <td>21</td>\n",
       "      <td>brown</td>\n",
       "      <td>Peggy Mayer</td>\n",
       "      <td>female</td>\n",
       "      <td>...</td>\n",
       "      <td>+1 (854) 428-2585</td>\n",
       "      <td>830 Willmohr Street, Crenshaw, Missouri, 6032</td>\n",
       "      <td>Aliqua sit enim cillum aliquip ad proident exc...</td>\n",
       "      <td>2014-09-14T07:06:49 +05:00</td>\n",
       "      <td>48.323912</td>\n",
       "      <td>22.184821</td>\n",
       "      <td>[commodo, esse, ad, ullamco, ea, sint, ipsum]</td>\n",
       "      <td>[{'id': 0, 'name': 'Hopkins Mccall'}, {'id': 1...</td>\n",
       "      <td>Hello, Peggy Mayer! You have 13 unread messages.</td>\n",
       "      <td>strawberry</td>\n",
       "    </tr>\n",
       "    <tr>\n",
       "      <th>12</th>\n",
       "      <td>54e23c3eedcc65f0ec3a5496</td>\n",
       "      <td>12</td>\n",
       "      <td>759a21c4-5f9c-4189-9c50-c9d8a9f31037</td>\n",
       "      <td>False</td>\n",
       "      <td>$3,844.42</td>\n",
       "      <td>http://placehold.it/32x32</td>\n",
       "      <td>40</td>\n",
       "      <td>brown</td>\n",
       "      <td>Chan Hurley</td>\n",
       "      <td>male</td>\n",
       "      <td>...</td>\n",
       "      <td>+1 (917) 475-3705</td>\n",
       "      <td>915 Channel Avenue, Clinton, North Dakota, 6244</td>\n",
       "      <td>Voluptate exercitation ut anim ex adipisicing ...</td>\n",
       "      <td>2014-03-01T14:51:23 +06:00</td>\n",
       "      <td>85.901051</td>\n",
       "      <td>-74.986179</td>\n",
       "      <td>[minim, veniam, sit, aute, irure, non, eiusmod]</td>\n",
       "      <td>[{'id': 0, 'name': 'Reese Grant'}, {'id': 1, '...</td>\n",
       "      <td>Hello, Chan Hurley! You have 7 unread messages.</td>\n",
       "      <td>apple</td>\n",
       "    </tr>\n",
       "    <tr>\n",
       "      <th>13</th>\n",
       "      <td>54e23c3eb813e66c6d33aa82</td>\n",
       "      <td>13</td>\n",
       "      <td>6fd14a8e-3158-48eb-a7e1-93fe57b74746</td>\n",
       "      <td>True</td>\n",
       "      <td>$3,594.99</td>\n",
       "      <td>http://placehold.it/32x32</td>\n",
       "      <td>40</td>\n",
       "      <td>blue</td>\n",
       "      <td>Diaz Pena</td>\n",
       "      <td>male</td>\n",
       "      <td>...</td>\n",
       "      <td>+1 (986) 511-3050</td>\n",
       "      <td>184 Kingsway Place, Grantville, Michigan, 2421</td>\n",
       "      <td>Enim elit amet officia consectetur do Lorem re...</td>\n",
       "      <td>2014-04-19T20:43:12 +05:00</td>\n",
       "      <td>6.606991</td>\n",
       "      <td>81.593748</td>\n",
       "      <td>[excepteur, elit, ullamco, excepteur, ad, quis...</td>\n",
       "      <td>[{'id': 0, 'name': 'Mcmillan Knox'}, {'id': 1,...</td>\n",
       "      <td>Hello, Diaz Pena! You have 13 unread messages.</td>\n",
       "      <td>strawberry</td>\n",
       "    </tr>\n",
       "    <tr>\n",
       "      <th>14</th>\n",
       "      <td>54e23c3e502a2f526b689c3e</td>\n",
       "      <td>14</td>\n",
       "      <td>459cc82d-7878-42cb-b9c6-073506380036</td>\n",
       "      <td>True</td>\n",
       "      <td>$2,940.24</td>\n",
       "      <td>http://placehold.it/32x32</td>\n",
       "      <td>40</td>\n",
       "      <td>brown</td>\n",
       "      <td>Heath Castaneda</td>\n",
       "      <td>male</td>\n",
       "      <td>...</td>\n",
       "      <td>+1 (944) 478-3741</td>\n",
       "      <td>278 Village Road, Sunnyside, Massachusetts, 7496</td>\n",
       "      <td>Consectetur mollit cupidatat ex consectetur ei...</td>\n",
       "      <td>2014-07-30T21:38:43 +05:00</td>\n",
       "      <td>69.928876</td>\n",
       "      <td>33.649878</td>\n",
       "      <td>[elit, commodo, ut, ullamco, ullamco, velit, u...</td>\n",
       "      <td>[{'id': 0, 'name': 'Dora Mack'}, {'id': 1, 'na...</td>\n",
       "      <td>Hello, Heath Castaneda! You have 12 unread mes...</td>\n",
       "      <td>strawberry</td>\n",
       "    </tr>\n",
       "    <tr>\n",
       "      <th>15</th>\n",
       "      <td>54e23c3e69d22e49c7fe62de</td>\n",
       "      <td>15</td>\n",
       "      <td>33d2bbe5-d6f7-4844-88fc-b9f6af63b373</td>\n",
       "      <td>False</td>\n",
       "      <td>$3,062.41</td>\n",
       "      <td>http://placehold.it/32x32</td>\n",
       "      <td>38</td>\n",
       "      <td>brown</td>\n",
       "      <td>Greer Blankenship</td>\n",
       "      <td>male</td>\n",
       "      <td>...</td>\n",
       "      <td>+1 (957) 482-3874</td>\n",
       "      <td>557 Ingraham Street, Brambleton, South Dakota,...</td>\n",
       "      <td>Non in excepteur nostrud consectetur. Qui non ...</td>\n",
       "      <td>2014-03-30T21:39:41 +05:00</td>\n",
       "      <td>-71.093388</td>\n",
       "      <td>65.740255</td>\n",
       "      <td>[enim, eiusmod, Lorem, reprehenderit, nisi, an...</td>\n",
       "      <td>[{'id': 0, 'name': 'Woods Norman'}, {'id': 1, ...</td>\n",
       "      <td>Hello, Greer Blankenship! You have 7 unread me...</td>\n",
       "      <td>banana</td>\n",
       "    </tr>\n",
       "    <tr>\n",
       "      <th>16</th>\n",
       "      <td>54e23c3e42676228c442a669</td>\n",
       "      <td>16</td>\n",
       "      <td>e44604f0-c7a8-4b89-bda3-0f4710ebe28a</td>\n",
       "      <td>False</td>\n",
       "      <td>$3,067.82</td>\n",
       "      <td>http://placehold.it/32x32</td>\n",
       "      <td>32</td>\n",
       "      <td>green</td>\n",
       "      <td>Coffey Hayes</td>\n",
       "      <td>male</td>\n",
       "      <td>...</td>\n",
       "      <td>+1 (880) 451-3490</td>\n",
       "      <td>490 Durland Place, Craig, Tennessee, 5034</td>\n",
       "      <td>Est esse irure Lorem ullamco veniam fugiat lab...</td>\n",
       "      <td>2014-04-01T23:04:39 +05:00</td>\n",
       "      <td>-30.662644</td>\n",
       "      <td>59.806684</td>\n",
       "      <td>[duis, est, in, officia, nostrud, occaecat, mo...</td>\n",
       "      <td>[{'id': 0, 'name': 'Suarez Perry'}, {'id': 1, ...</td>\n",
       "      <td>Hello, Coffey Hayes! You have 19 unread messages.</td>\n",
       "      <td>strawberry</td>\n",
       "    </tr>\n",
       "    <tr>\n",
       "      <th>17</th>\n",
       "      <td>54e23c3e4ac5969958013235</td>\n",
       "      <td>17</td>\n",
       "      <td>fa7e26df-d239-41e8-9aa9-be5e808b6f89</td>\n",
       "      <td>True</td>\n",
       "      <td>$2,646.76</td>\n",
       "      <td>http://placehold.it/32x32</td>\n",
       "      <td>24</td>\n",
       "      <td>brown</td>\n",
       "      <td>Leanne Hurst</td>\n",
       "      <td>female</td>\n",
       "      <td>...</td>\n",
       "      <td>+1 (820) 420-3317</td>\n",
       "      <td>196 Columbus Place, Carbonville, New Jersey, 7513</td>\n",
       "      <td>Dolor occaecat dolore ut tempor. Veniam elit a...</td>\n",
       "      <td>2014-11-10T01:25:55 +06:00</td>\n",
       "      <td>16.671695</td>\n",
       "      <td>139.707959</td>\n",
       "      <td>[culpa, deserunt, tempor, quis, reprehenderit,...</td>\n",
       "      <td>[{'id': 0, 'name': 'Farley Frank'}, {'id': 1, ...</td>\n",
       "      <td>Hello, Leanne Hurst! You have 5 unread messages.</td>\n",
       "      <td>banana</td>\n",
       "    </tr>\n",
       "    <tr>\n",
       "      <th>18</th>\n",
       "      <td>54e23c3ed945981ba2580614</td>\n",
       "      <td>18</td>\n",
       "      <td>e608dc5c-fee4-4086-971b-3ebd37bfa137</td>\n",
       "      <td>True</td>\n",
       "      <td>$2,227.79</td>\n",
       "      <td>http://placehold.it/32x32</td>\n",
       "      <td>22</td>\n",
       "      <td>brown</td>\n",
       "      <td>Ewing Larson</td>\n",
       "      <td>male</td>\n",
       "      <td>...</td>\n",
       "      <td>+1 (943) 439-3760</td>\n",
       "      <td>136 Beard Street, Wattsville, New Hampshire, 2803</td>\n",
       "      <td>Veniam eiusmod exercitation culpa mollit repre...</td>\n",
       "      <td>2014-07-21T19:17:41 +05:00</td>\n",
       "      <td>15.903555</td>\n",
       "      <td>-159.721203</td>\n",
       "      <td>[Lorem, magna, dolor, aliquip, reprehenderit, ...</td>\n",
       "      <td>[{'id': 0, 'name': 'Suzette Huffman'}, {'id': ...</td>\n",
       "      <td>Hello, Ewing Larson! You have 16 unread messages.</td>\n",
       "      <td>strawberry</td>\n",
       "    </tr>\n",
       "  </tbody>\n",
       "</table>\n",
       "<p>19 rows × 22 columns</p>\n",
       "</div>"
      ],
      "text/plain": [
       "                         _id  index                                  guid  \\\n",
       "0   54e23c3e46ab53a440b580e8      0  9962b468-ef3e-4993-b677-617469bc3008   \n",
       "1   54e23c3ef5cc0d250968c212      1  905f849d-49bf-4a57-b4f3-5d6e4bf1b04c   \n",
       "2   54e23c3e09cc6875638cd36b      2  1b042d48-9cfa-4db5-8b60-4104165591c3   \n",
       "3   54e23c3e54e4094147a3b1da      3  69eb3454-8acc-46f1-a636-c6df00dfb542   \n",
       "4   54e23c3e177caf5567ba87ac      4  97962c85-7700-4ffa-a01e-2fcbc147fd81   \n",
       "5   54e23c3eaffbb506aa15ec1c      5  fc3e04d1-44c2-449e-891a-d4f8053d14a4   \n",
       "6   54e23c3e0fd8074c2ca52667      6  af8d9a03-fde9-4039-b20c-c4708d4cfc3c   \n",
       "7   54e23c3eb112d96e4204914d      7  95f1c020-f9eb-4a29-b236-e766759d89d0   \n",
       "8   54e23c3ef30f14d0e5afddf3      8  bde2d56f-2488-40d0-a7d2-21019ee8a18b   \n",
       "9   54e23c3ebd80e9c26b057fa3      9  75991ca5-05ed-499e-bbb5-f057f86d05d7   \n",
       "10  54e23c3e6d89c09f5507e7dd     10  87cffc18-3acf-40c5-8708-1bb93f1b68de   \n",
       "11  54e23c3e4192cf53edd67c99     11  5a5496f1-a027-4c21-85da-c399234cd9a5   \n",
       "12  54e23c3eedcc65f0ec3a5496     12  759a21c4-5f9c-4189-9c50-c9d8a9f31037   \n",
       "13  54e23c3eb813e66c6d33aa82     13  6fd14a8e-3158-48eb-a7e1-93fe57b74746   \n",
       "14  54e23c3e502a2f526b689c3e     14  459cc82d-7878-42cb-b9c6-073506380036   \n",
       "15  54e23c3e69d22e49c7fe62de     15  33d2bbe5-d6f7-4844-88fc-b9f6af63b373   \n",
       "16  54e23c3e42676228c442a669     16  e44604f0-c7a8-4b89-bda3-0f4710ebe28a   \n",
       "17  54e23c3e4ac5969958013235     17  fa7e26df-d239-41e8-9aa9-be5e808b6f89   \n",
       "18  54e23c3ed945981ba2580614     18  e608dc5c-fee4-4086-971b-3ebd37bfa137   \n",
       "\n",
       "    isActive    balance                    picture  age eyeColor  \\\n",
       "0      False  $2,097.02  http://placehold.it/32x32   39     blue   \n",
       "1      False  $3,654.02  http://placehold.it/32x32   30    green   \n",
       "2       True  $1,536.02  http://placehold.it/32x32   31    brown   \n",
       "3      False  $3,919.64  http://placehold.it/32x32   20    green   \n",
       "4      False  $3,681.39  http://placehold.it/32x32   39    green   \n",
       "5       True  $1,694.42  http://placehold.it/32x32   30    brown   \n",
       "6      False  $1,214.10  http://placehold.it/32x32   35    green   \n",
       "7      False  $2,930.31  http://placehold.it/32x32   23     blue   \n",
       "8      False  $1,944.15  http://placehold.it/32x32   25    green   \n",
       "9       True  $2,839.22  http://placehold.it/32x32   37     blue   \n",
       "10      True  $2,467.31  http://placehold.it/32x32   29     blue   \n",
       "11      True  $3,304.99  http://placehold.it/32x32   21    brown   \n",
       "12     False  $3,844.42  http://placehold.it/32x32   40    brown   \n",
       "13      True  $3,594.99  http://placehold.it/32x32   40     blue   \n",
       "14      True  $2,940.24  http://placehold.it/32x32   40    brown   \n",
       "15     False  $3,062.41  http://placehold.it/32x32   38    brown   \n",
       "16     False  $3,067.82  http://placehold.it/32x32   32    green   \n",
       "17      True  $2,646.76  http://placehold.it/32x32   24    brown   \n",
       "18      True  $2,227.79  http://placehold.it/32x32   22    brown   \n",
       "\n",
       "                 name  gender  ...              phone  \\\n",
       "0        Hebert Estes    male  ...  +1 (866) 456-2268   \n",
       "1        Allison Wynn    male  ...  +1 (926) 525-3131   \n",
       "2        Jacobs Floyd    male  ...  +1 (853) 537-3315   \n",
       "3         Fay Hammond  female  ...  +1 (922) 429-2592   \n",
       "4       Chasity Marsh  female  ...  +1 (976) 425-2362   \n",
       "5      Camacho Cortez    male  ...  +1 (869) 528-2019   \n",
       "6         Avery Flynn    male  ...  +1 (966) 404-2471   \n",
       "7        Michael Cash    male  ...  +1 (996) 439-3660   \n",
       "8      Madeleine Bray  female  ...  +1 (820) 541-2969   \n",
       "9       Corine French  female  ...  +1 (987) 573-3164   \n",
       "10     Trudy Cummings  female  ...  +1 (925) 403-2797   \n",
       "11        Peggy Mayer  female  ...  +1 (854) 428-2585   \n",
       "12        Chan Hurley    male  ...  +1 (917) 475-3705   \n",
       "13          Diaz Pena    male  ...  +1 (986) 511-3050   \n",
       "14    Heath Castaneda    male  ...  +1 (944) 478-3741   \n",
       "15  Greer Blankenship    male  ...  +1 (957) 482-3874   \n",
       "16       Coffey Hayes    male  ...  +1 (880) 451-3490   \n",
       "17       Leanne Hurst  female  ...  +1 (820) 420-3317   \n",
       "18       Ewing Larson    male  ...  +1 (943) 439-3760   \n",
       "\n",
       "                                              address  \\\n",
       "0         121 Emmons Avenue, Klondike, Kentucky, 5975   \n",
       "1           724 Brevoort Place, Lodoga, Indiana, 3880   \n",
       "2             941 Cox Place, Bluffview, Georgia, 5882   \n",
       "3      518 Randolph Street, Whitestone, Arizona, 8189   \n",
       "4   604 Just Court, Eastvale, Federated States Of ...   \n",
       "5           101 Haring Street, Nicut, Louisiana, 1473   \n",
       "6    569 Oakland Place, Beyerville, Puerto Rico, 2395   \n",
       "7   808 Duryea Court, Downsville, Northern Mariana...   \n",
       "8   684 Stratford Road, Rosine, District Of Columb...   \n",
       "9       964 Clara Street, Snyderville, Oklahoma, 3627   \n",
       "10        558 Charles Place, Tedrow, California, 9832   \n",
       "11      830 Willmohr Street, Crenshaw, Missouri, 6032   \n",
       "12    915 Channel Avenue, Clinton, North Dakota, 6244   \n",
       "13     184 Kingsway Place, Grantville, Michigan, 2421   \n",
       "14   278 Village Road, Sunnyside, Massachusetts, 7496   \n",
       "15  557 Ingraham Street, Brambleton, South Dakota,...   \n",
       "16          490 Durland Place, Craig, Tennessee, 5034   \n",
       "17  196 Columbus Place, Carbonville, New Jersey, 7513   \n",
       "18  136 Beard Street, Wattsville, New Hampshire, 2803   \n",
       "\n",
       "                                                about  \\\n",
       "0   Sit cillum deserunt irure laboris tempor fugia...   \n",
       "1   Esse quis cillum sunt occaecat ad et eu incidi...   \n",
       "2   Deserunt adipisicing proident exercitation cil...   \n",
       "3   Aliqua sunt exercitation quis cupidatat fugiat...   \n",
       "4   Irure excepteur consequat esse qui tempor dese...   \n",
       "5   Qui ad commodo elit voluptate cupidatat exerci...   \n",
       "6   Minim consequat anim ad et tempor et pariatur ...   \n",
       "7   Minim proident minim consectetur nostrud dolor...   \n",
       "8   Ullamco ea esse ullamco commodo quis amet ut a...   \n",
       "9   Sint cillum laborum labore duis fugiat volupta...   \n",
       "10  Non id adipisicing deserunt non magna ex adipi...   \n",
       "11  Aliqua sit enim cillum aliquip ad proident exc...   \n",
       "12  Voluptate exercitation ut anim ex adipisicing ...   \n",
       "13  Enim elit amet officia consectetur do Lorem re...   \n",
       "14  Consectetur mollit cupidatat ex consectetur ei...   \n",
       "15  Non in excepteur nostrud consectetur. Qui non ...   \n",
       "16  Est esse irure Lorem ullamco veniam fugiat lab...   \n",
       "17  Dolor occaecat dolore ut tempor. Veniam elit a...   \n",
       "18  Veniam eiusmod exercitation culpa mollit repre...   \n",
       "\n",
       "                    registered   latitude   longitude  \\\n",
       "0   2014-11-10T01:44:03 +06:00 -80.157843  161.930160   \n",
       "1   2014-06-10T13:41:26 +05:00  55.737207 -167.177561   \n",
       "2   2014-07-30T03:17:32 +05:00  30.215667   68.831905   \n",
       "3   2015-01-30T08:05:38 +06:00  33.825844  -65.969538   \n",
       "4   2014-07-31T06:03:19 +05:00 -31.660978   37.559095   \n",
       "5   2014-03-17T12:04:00 +05:00  74.434627   69.527088   \n",
       "6   2014-04-13T10:25:03 +05:00 -89.879409  143.441709   \n",
       "7   2014-05-24T17:56:54 +05:00 -86.621367   -4.061970   \n",
       "8   2014-08-11T08:54:06 +05:00  45.118798   -7.698707   \n",
       "9   2014-06-25T20:17:13 +05:00 -37.637422  154.195523   \n",
       "10  2014-03-13T17:54:31 +05:00 -36.185131  -37.774906   \n",
       "11  2014-09-14T07:06:49 +05:00  48.323912   22.184821   \n",
       "12  2014-03-01T14:51:23 +06:00  85.901051  -74.986179   \n",
       "13  2014-04-19T20:43:12 +05:00   6.606991   81.593748   \n",
       "14  2014-07-30T21:38:43 +05:00  69.928876   33.649878   \n",
       "15  2014-03-30T21:39:41 +05:00 -71.093388   65.740255   \n",
       "16  2014-04-01T23:04:39 +05:00 -30.662644   59.806684   \n",
       "17  2014-11-10T01:25:55 +06:00  16.671695  139.707959   \n",
       "18  2014-07-21T19:17:41 +05:00  15.903555 -159.721203   \n",
       "\n",
       "                                                 tags  \\\n",
       "0   [sit, occaecat, non, ea, sit, laboris, exercit...   \n",
       "1   [enim, officia, laboris, irure, veniam, occaec...   \n",
       "2   [est, aute, laborum, sint, anim, sit, consecte...   \n",
       "3   [aliqua, esse, sint, pariatur, commodo, do, anim]   \n",
       "4   [aliquip, duis, irure, amet, aliquip, dolore, ...   \n",
       "5           [et, sit, in, id, ullamco, elit, laborum]   \n",
       "6   [quis, esse, Lorem, minim, nostrud, voluptate,...   \n",
       "7           [eu, sit, dolore, culpa, Lorem, in, esse]   \n",
       "8   [id, magna, excepteur, excepteur, excepteur, d...   \n",
       "9   [laboris, in, dolore, mollit, velit, laboris, ...   \n",
       "10  [aute, occaecat, ea, pariatur, consectetur, ma...   \n",
       "11      [commodo, esse, ad, ullamco, ea, sint, ipsum]   \n",
       "12    [minim, veniam, sit, aute, irure, non, eiusmod]   \n",
       "13  [excepteur, elit, ullamco, excepteur, ad, quis...   \n",
       "14  [elit, commodo, ut, ullamco, ullamco, velit, u...   \n",
       "15  [enim, eiusmod, Lorem, reprehenderit, nisi, an...   \n",
       "16  [duis, est, in, officia, nostrud, occaecat, mo...   \n",
       "17  [culpa, deserunt, tempor, quis, reprehenderit,...   \n",
       "18  [Lorem, magna, dolor, aliquip, reprehenderit, ...   \n",
       "\n",
       "                                              friends  \\\n",
       "0   [{'id': 0, 'name': 'Tanisha Leonard'}, {'id': ...   \n",
       "1   [{'id': 0, 'name': 'Curry Cox'}, {'id': 1, 'na...   \n",
       "2   [{'id': 0, 'name': 'Robles Chan'}, {'id': 1, '...   \n",
       "3   [{'id': 0, 'name': 'Dudley Booker'}, {'id': 1,...   \n",
       "4   [{'id': 0, 'name': 'Kristina Glover'}, {'id': ...   \n",
       "5   [{'id': 0, 'name': 'Sexton Tillman'}, {'id': 1...   \n",
       "6   [{'id': 0, 'name': 'Ball Henson'}, {'id': 1, '...   \n",
       "7   [{'id': 0, 'name': 'Rodgers Nolan'}, {'id': 1,...   \n",
       "8   [{'id': 0, 'name': 'Herrera Doyle'}, {'id': 1,...   \n",
       "9   [{'id': 0, 'name': 'Greta Hill'}, {'id': 1, 'n...   \n",
       "10  [{'id': 0, 'name': 'Amber Gates'}, {'id': 1, '...   \n",
       "11  [{'id': 0, 'name': 'Hopkins Mccall'}, {'id': 1...   \n",
       "12  [{'id': 0, 'name': 'Reese Grant'}, {'id': 1, '...   \n",
       "13  [{'id': 0, 'name': 'Mcmillan Knox'}, {'id': 1,...   \n",
       "14  [{'id': 0, 'name': 'Dora Mack'}, {'id': 1, 'na...   \n",
       "15  [{'id': 0, 'name': 'Woods Norman'}, {'id': 1, ...   \n",
       "16  [{'id': 0, 'name': 'Suarez Perry'}, {'id': 1, ...   \n",
       "17  [{'id': 0, 'name': 'Farley Frank'}, {'id': 1, ...   \n",
       "18  [{'id': 0, 'name': 'Suzette Huffman'}, {'id': ...   \n",
       "\n",
       "                                             greeting favoriteFruit  \n",
       "0    Hello, Hebert Estes! You have 4 unread messages.    strawberry  \n",
       "1   Hello, Allison Wynn! You have 19 unread messages.         apple  \n",
       "2    Hello, Jacobs Floyd! You have 5 unread messages.        banana  \n",
       "3    Hello, Fay Hammond! You have 10 unread messages.        banana  \n",
       "4   Hello, Chasity Marsh! You have 9 unread messages.         apple  \n",
       "5   Hello, Camacho Cortez! You have 19 unread mess...         apple  \n",
       "6    Hello, Avery Flynn! You have 13 unread messages.        banana  \n",
       "7   Hello, Michael Cash! You have 17 unread messages.    strawberry  \n",
       "8   Hello, Madeleine Bray! You have 2 unread messa...    strawberry  \n",
       "9   Hello, Corine French! You have 18 unread messa...        banana  \n",
       "10  Hello, Trudy Cummings! You have 2 unread messa...    strawberry  \n",
       "11   Hello, Peggy Mayer! You have 13 unread messages.    strawberry  \n",
       "12    Hello, Chan Hurley! You have 7 unread messages.         apple  \n",
       "13     Hello, Diaz Pena! You have 13 unread messages.    strawberry  \n",
       "14  Hello, Heath Castaneda! You have 12 unread mes...    strawberry  \n",
       "15  Hello, Greer Blankenship! You have 7 unread me...        banana  \n",
       "16  Hello, Coffey Hayes! You have 19 unread messages.    strawberry  \n",
       "17   Hello, Leanne Hurst! You have 5 unread messages.        banana  \n",
       "18  Hello, Ewing Larson! You have 16 unread messages.    strawberry  \n",
       "\n",
       "[19 rows x 22 columns]"
      ]
     },
     "execution_count": 8,
     "metadata": {},
     "output_type": "execute_result"
    }
   ],
   "source": [
    "import pandas as pd\n",
    "#read JSON as a datafrom with Pandas\n",
    "df = pd.read_json('profiles.json')\n",
    "\n",
    "df"
   ]
  },
  {
   "cell_type": "code",
   "execution_count": 9,
   "metadata": {},
   "outputs": [
    {
     "data": {
      "text/plain": [
       "{'_id': '54e23c3e46ab53a440b580e8',\n",
       " 'index': 0,\n",
       " 'guid': '9962b468-ef3e-4993-b677-617469bc3008',\n",
       " 'isActive': False,\n",
       " 'balance': '$2,097.02',\n",
       " 'picture': 'http://placehold.it/32x32',\n",
       " 'age': 39,\n",
       " 'eyeColor': 'blue',\n",
       " 'name': 'Hebert Estes',\n",
       " 'gender': 'male',\n",
       " 'company': 'ANDRYX',\n",
       " 'email': 'hebertestes@andryx.com',\n",
       " 'phone': '+1 (866) 456-2268',\n",
       " 'address': '121 Emmons Avenue, Klondike, Kentucky, 5975',\n",
       " 'about': 'Sit cillum deserunt irure laboris tempor fugiat laboris. Amet commodo amet est incididunt. Dolore qui fugiat cillum pariatur dolore excepteur elit ipsum.\\r\\n',\n",
       " 'registered': '2014-11-10T01:44:03 +06:00',\n",
       " 'latitude': -80.157843,\n",
       " 'longitude': 161.93016,\n",
       " 'tags': ['sit', 'occaecat', 'non', 'ea', 'sit', 'laboris', 'exercitation'],\n",
       " 'friends': [{'id': 0, 'name': 'Tanisha Leonard'},\n",
       "  {'id': 1, 'name': 'Dennis Wilson'},\n",
       "  {'id': 2, 'name': 'Lupe Howe'}],\n",
       " 'greeting': 'Hello, Hebert Estes! You have 4 unread messages.',\n",
       " 'favoriteFruit': 'strawberry'}"
      ]
     },
     "execution_count": 9,
     "metadata": {},
     "output_type": "execute_result"
    }
   ],
   "source": [
    "#This is a view of the first dictionary in the list[profiles]\n",
    "profiles[0]"
   ]
  },
  {
   "cell_type": "markdown",
   "metadata": {},
   "source": [
    "### Total number of users"
   ]
  },
  {
   "cell_type": "code",
   "execution_count": 10,
   "metadata": {},
   "outputs": [
    {
     "name": "stdout",
     "output_type": "stream",
     "text": [
      "The total number of users is 19\n"
     ]
    }
   ],
   "source": [
    "#counts the number of dictionaries\n",
    "len(profiles)\n",
    "print(f\"The total number of users is {len(profiles)}\")"
   ]
  },
  {
   "cell_type": "code",
   "execution_count": 106,
   "metadata": {},
   "outputs": [
    {
     "name": "stdout",
     "output_type": "stream",
     "text": [
      "19\n"
     ]
    }
   ],
   "source": [
    "def num_users(p):\n",
    "    len(profiles)\n",
    "    print(len(profiles))\n",
    "\n",
    "num_users(profiles)"
   ]
  },
  {
   "cell_type": "markdown",
   "metadata": {},
   "source": [
    "### Number of active users"
   ]
  },
  {
   "cell_type": "code",
   "execution_count": 11,
   "metadata": {},
   "outputs": [
    {
     "name": "stdout",
     "output_type": "stream",
     "text": [
      "[True, True, True, True, True, True, True, True, True]\n",
      "9\n",
      "The total number of ACTIVE users is 9\n"
     ]
    }
   ],
   "source": [
    "isA = []\n",
    "for indiv in range(len(profiles)):\n",
    "    if profiles[indiv]['isActive'] == True:\n",
    "        isA.append(True)\n",
    "    \n",
    "print(isA)\n",
    "print(sum(isA))\n",
    "print(f\"The total number of ACTIVE users is {sum(isA)}\")"
   ]
  },
  {
   "cell_type": "code",
   "execution_count": 107,
   "metadata": {},
   "outputs": [
    {
     "name": "stdout",
     "output_type": "stream",
     "text": [
      "9\n"
     ]
    }
   ],
   "source": [
    "def active_users(p):\n",
    "    isA = []\n",
    "    for indiv in range(len(profiles)):\n",
    "        if profiles[indiv]['isActive'] == True:\n",
    "            isA.append(True)\n",
    "    print(sum(isA))\n",
    "\n",
    "active_users(profiles)"
   ]
  },
  {
   "cell_type": "markdown",
   "metadata": {},
   "source": [
    "### Number of inactive users"
   ]
  },
  {
   "cell_type": "code",
   "execution_count": 12,
   "metadata": {},
   "outputs": [
    {
     "name": "stdout",
     "output_type": "stream",
     "text": [
      "[1, 1, 1, 1, 1, 1, 1, 1, 1, 1]\n",
      "10\n",
      "The total number of INACTIVE users is 10\n"
     ]
    }
   ],
   "source": [
    "isInA = []\n",
    "for indiv in range(len(profiles)):\n",
    "    if profiles[indiv]['isActive'] == False:\n",
    "        isInA.append(int(1))\n",
    "    \n",
    "print(isInA)\n",
    "print(sum(isInA))\n",
    "print(f\"The total number of INACTIVE users is {sum(isInA)}\")"
   ]
  },
  {
   "cell_type": "code",
   "execution_count": 108,
   "metadata": {},
   "outputs": [
    {
     "name": "stdout",
     "output_type": "stream",
     "text": [
      "10\n"
     ]
    }
   ],
   "source": [
    "def inactive_users(p):\n",
    "    isInA = []\n",
    "    for indiv in range(len(profiles)):\n",
    "        if profiles[indiv]['isActive'] == False:\n",
    "            isInA.append(int(1))\n",
    "    print(sum(isInA))\n",
    "    \n",
    "inactive_users(profiles)"
   ]
  },
  {
   "cell_type": "code",
   "execution_count": 20,
   "metadata": {},
   "outputs": [
    {
     "data": {
      "text/plain": [
       "list"
      ]
     },
     "execution_count": 20,
     "metadata": {},
     "output_type": "execute_result"
    }
   ],
   "source": [
    "type(profiles)"
   ]
  },
  {
   "cell_type": "code",
   "execution_count": 21,
   "metadata": {},
   "outputs": [
    {
     "data": {
      "text/plain": [
       "dict"
      ]
     },
     "execution_count": 21,
     "metadata": {},
     "output_type": "execute_result"
    }
   ],
   "source": [
    "type(profiles[0])"
   ]
  },
  {
   "cell_type": "markdown",
   "metadata": {},
   "source": [
    "### Grand total of balances for all users"
   ]
  },
  {
   "cell_type": "code",
   "execution_count": 48,
   "metadata": {},
   "outputs": [
    {
     "name": "stdout",
     "output_type": "stream",
     "text": [
      "['$2,097.02', '$3,654.02', '$1,536.02', '$3,919.64', '$3,681.39', '$1,694.42', '$1,214.10', '$2,930.31', '$1,944.15', '$2,839.22', '$2,467.31', '$3,304.99', '$3,844.42', '$3,594.99', '$2,940.24', '$3,062.41', '$3,067.82', '$2,646.76', '$2,227.79']\n"
     ]
    }
   ],
   "source": [
    "bal = [sub['balance'] for sub in profiles]\n",
    "\n",
    "bal = list(bal)\n",
    "\n",
    "print(bal)"
   ]
  },
  {
   "cell_type": "code",
   "execution_count": 52,
   "metadata": {},
   "outputs": [
    {
     "name": "stdout",
     "output_type": "stream",
     "text": [
      "['2097.02', '3654.02', '1536.02', '3919.64', '3681.39', '1694.42', '1214.10', '2930.31', '1944.15', '2839.22', '2467.31', '3304.99', '3844.42', '3594.99', '2940.24', '3062.41', '3067.82', '2646.76', '2227.79']\n"
     ]
    }
   ],
   "source": [
    "n_bal = [c.replace(\"$\", \"\").replace(\",\", \"\") for c in bal]\n",
    "\n",
    "\n",
    "print(n_bal)"
   ]
  },
  {
   "cell_type": "code",
   "execution_count": 53,
   "metadata": {},
   "outputs": [
    {
     "data": {
      "text/plain": [
       "list"
      ]
     },
     "execution_count": 53,
     "metadata": {},
     "output_type": "execute_result"
    }
   ],
   "source": [
    "type(n_bal)"
   ]
  },
  {
   "cell_type": "code",
   "execution_count": 257,
   "metadata": {},
   "outputs": [
    {
     "data": {
      "text/plain": [
       "[2097.02,\n",
       " 3654.02,\n",
       " 1536.02,\n",
       " 3919.64,\n",
       " 3681.39,\n",
       " 1694.42,\n",
       " 1214.1,\n",
       " 2930.31,\n",
       " 1944.15,\n",
       " 2839.22,\n",
       " 2467.31,\n",
       " 3304.99,\n",
       " 3844.42,\n",
       " 3594.99,\n",
       " 2940.24,\n",
       " 3062.41,\n",
       " 3067.82,\n",
       " 2646.76,\n",
       " 2227.79]"
      ]
     },
     "execution_count": 257,
     "metadata": {},
     "output_type": "execute_result"
    }
   ],
   "source": [
    "bals = []\n",
    "\n",
    "for item in n_bal:\n",
    "    bals.append(float(item))\n",
    "\n",
    "bals"
   ]
  },
  {
   "cell_type": "code",
   "execution_count": 57,
   "metadata": {},
   "outputs": [
    {
     "name": "stdout",
     "output_type": "stream",
     "text": [
      "<function total_balances at 0x7ff2d33a4310>\n",
      "The grand total of balances for all users is $52667.02\n"
     ]
    }
   ],
   "source": [
    "#print(sum(bals))\n",
    "#print(f\"The grand total of balances for all users is ${sum(bals)}\")"
   ]
  },
  {
   "cell_type": "code",
   "execution_count": 109,
   "metadata": {},
   "outputs": [
    {
     "name": "stdout",
     "output_type": "stream",
     "text": [
      "52667.02\n"
     ]
    }
   ],
   "source": [
    "def total_bal(b):\n",
    "    bals = []\n",
    "    \n",
    "    for item in n_bal:\n",
    "        bals.append(float(item))\n",
    "    print(sum(bals))\n",
    "    \n",
    "total_bal(bals)    "
   ]
  },
  {
   "cell_type": "markdown",
   "metadata": {},
   "source": [
    "### Average balance per user"
   ]
  },
  {
   "cell_type": "code",
   "execution_count": 260,
   "metadata": {},
   "outputs": [
    {
     "data": {
      "text/plain": [
       "2771.9484210526316"
      ]
     },
     "execution_count": 260,
     "metadata": {},
     "output_type": "execute_result"
    }
   ],
   "source": [
    "avg_bal = sum(bals) / len(profiles)\n",
    "\n",
    "(avg_bal)"
   ]
  },
  {
   "cell_type": "code",
   "execution_count": 81,
   "metadata": {},
   "outputs": [
    {
     "data": {
      "text/plain": [
       "float"
      ]
     },
     "execution_count": 81,
     "metadata": {},
     "output_type": "execute_result"
    }
   ],
   "source": [
    "type(avg_bal)"
   ]
  },
  {
   "cell_type": "code",
   "execution_count": 116,
   "metadata": {},
   "outputs": [
    {
     "name": "stdout",
     "output_type": "stream",
     "text": [
      "2771.95\n"
     ]
    }
   ],
   "source": [
    "def avg_user_bal(p):\n",
    "    avg = sum(bals) / len(profiles)\n",
    "    print(round(avg, 2))\n",
    "    \n",
    "avg_user_bal(profiles)"
   ]
  },
  {
   "cell_type": "markdown",
   "metadata": {},
   "source": [
    "### User with the lowest balance"
   ]
  },
  {
   "cell_type": "code",
   "execution_count": 90,
   "metadata": {},
   "outputs": [
    {
     "data": {
      "text/html": [
       "<div>\n",
       "<style scoped>\n",
       "    .dataframe tbody tr th:only-of-type {\n",
       "        vertical-align: middle;\n",
       "    }\n",
       "\n",
       "    .dataframe tbody tr th {\n",
       "        vertical-align: top;\n",
       "    }\n",
       "\n",
       "    .dataframe thead th {\n",
       "        text-align: right;\n",
       "    }\n",
       "</style>\n",
       "<table border=\"1\" class=\"dataframe\">\n",
       "  <thead>\n",
       "    <tr style=\"text-align: right;\">\n",
       "      <th></th>\n",
       "      <th>name</th>\n",
       "      <th>balance</th>\n",
       "    </tr>\n",
       "  </thead>\n",
       "  <tbody>\n",
       "    <tr>\n",
       "      <th>0</th>\n",
       "      <td>Hebert Estes</td>\n",
       "      <td>$2,097.02</td>\n",
       "    </tr>\n",
       "    <tr>\n",
       "      <th>1</th>\n",
       "      <td>Allison Wynn</td>\n",
       "      <td>$3,654.02</td>\n",
       "    </tr>\n",
       "    <tr>\n",
       "      <th>2</th>\n",
       "      <td>Jacobs Floyd</td>\n",
       "      <td>$1,536.02</td>\n",
       "    </tr>\n",
       "    <tr>\n",
       "      <th>3</th>\n",
       "      <td>Fay Hammond</td>\n",
       "      <td>$3,919.64</td>\n",
       "    </tr>\n",
       "    <tr>\n",
       "      <th>4</th>\n",
       "      <td>Chasity Marsh</td>\n",
       "      <td>$3,681.39</td>\n",
       "    </tr>\n",
       "    <tr>\n",
       "      <th>5</th>\n",
       "      <td>Camacho Cortez</td>\n",
       "      <td>$1,694.42</td>\n",
       "    </tr>\n",
       "    <tr>\n",
       "      <th>6</th>\n",
       "      <td>Avery Flynn</td>\n",
       "      <td>$1,214.10</td>\n",
       "    </tr>\n",
       "    <tr>\n",
       "      <th>7</th>\n",
       "      <td>Michael Cash</td>\n",
       "      <td>$2,930.31</td>\n",
       "    </tr>\n",
       "    <tr>\n",
       "      <th>8</th>\n",
       "      <td>Madeleine Bray</td>\n",
       "      <td>$1,944.15</td>\n",
       "    </tr>\n",
       "    <tr>\n",
       "      <th>9</th>\n",
       "      <td>Corine French</td>\n",
       "      <td>$2,839.22</td>\n",
       "    </tr>\n",
       "    <tr>\n",
       "      <th>10</th>\n",
       "      <td>Trudy Cummings</td>\n",
       "      <td>$2,467.31</td>\n",
       "    </tr>\n",
       "    <tr>\n",
       "      <th>11</th>\n",
       "      <td>Peggy Mayer</td>\n",
       "      <td>$3,304.99</td>\n",
       "    </tr>\n",
       "    <tr>\n",
       "      <th>12</th>\n",
       "      <td>Chan Hurley</td>\n",
       "      <td>$3,844.42</td>\n",
       "    </tr>\n",
       "    <tr>\n",
       "      <th>13</th>\n",
       "      <td>Diaz Pena</td>\n",
       "      <td>$3,594.99</td>\n",
       "    </tr>\n",
       "    <tr>\n",
       "      <th>14</th>\n",
       "      <td>Heath Castaneda</td>\n",
       "      <td>$2,940.24</td>\n",
       "    </tr>\n",
       "    <tr>\n",
       "      <th>15</th>\n",
       "      <td>Greer Blankenship</td>\n",
       "      <td>$3,062.41</td>\n",
       "    </tr>\n",
       "    <tr>\n",
       "      <th>16</th>\n",
       "      <td>Coffey Hayes</td>\n",
       "      <td>$3,067.82</td>\n",
       "    </tr>\n",
       "    <tr>\n",
       "      <th>17</th>\n",
       "      <td>Leanne Hurst</td>\n",
       "      <td>$2,646.76</td>\n",
       "    </tr>\n",
       "    <tr>\n",
       "      <th>18</th>\n",
       "      <td>Ewing Larson</td>\n",
       "      <td>$2,227.79</td>\n",
       "    </tr>\n",
       "  </tbody>\n",
       "</table>\n",
       "</div>"
      ],
      "text/plain": [
       "                 name    balance\n",
       "0        Hebert Estes  $2,097.02\n",
       "1        Allison Wynn  $3,654.02\n",
       "2        Jacobs Floyd  $1,536.02\n",
       "3         Fay Hammond  $3,919.64\n",
       "4       Chasity Marsh  $3,681.39\n",
       "5      Camacho Cortez  $1,694.42\n",
       "6         Avery Flynn  $1,214.10\n",
       "7        Michael Cash  $2,930.31\n",
       "8      Madeleine Bray  $1,944.15\n",
       "9       Corine French  $2,839.22\n",
       "10     Trudy Cummings  $2,467.31\n",
       "11        Peggy Mayer  $3,304.99\n",
       "12        Chan Hurley  $3,844.42\n",
       "13          Diaz Pena  $3,594.99\n",
       "14    Heath Castaneda  $2,940.24\n",
       "15  Greer Blankenship  $3,062.41\n",
       "16       Coffey Hayes  $3,067.82\n",
       "17       Leanne Hurst  $2,646.76\n",
       "18       Ewing Larson  $2,227.79"
      ]
     },
     "execution_count": 90,
     "metadata": {},
     "output_type": "execute_result"
    }
   ],
   "source": [
    "# used pandas to view the two columns i need for the \n",
    "# next 2 questions\n",
    "#0: is starting at the first diction and running through them all\n",
    "df.loc[0:, ['name', 'balance']]"
   ]
  },
  {
   "cell_type": "code",
   "execution_count": 101,
   "metadata": {},
   "outputs": [
    {
     "name": "stdout",
     "output_type": "stream",
     "text": [
      "_id : 54e23c3e46ab53a440b580e8\n",
      "index : 0\n",
      "guid : 9962b468-ef3e-4993-b677-617469bc3008\n",
      "isActive : False\n",
      "balance : $2,097.02\n",
      "picture : http://placehold.it/32x32\n",
      "age : 39\n",
      "eyeColor : blue\n",
      "name : Hebert Estes\n",
      "gender : male\n",
      "company : ANDRYX\n",
      "email : hebertestes@andryx.com\n",
      "phone : +1 (866) 456-2268\n",
      "address : 121 Emmons Avenue, Klondike, Kentucky, 5975\n",
      "about : Sit cillum deserunt irure laboris tempor fugiat laboris. Amet commodo amet est incididunt. Dolore qui fugiat cillum pariatur dolore excepteur elit ipsum.\r\n",
      "\n",
      "registered : 2014-11-10T01:44:03 +06:00\n",
      "latitude : -80.157843\n",
      "longitude : 161.93016\n",
      "tags : ['sit', 'occaecat', 'non', 'ea', 'sit', 'laboris', 'exercitation']\n",
      "friends : [{'id': 0, 'name': 'Tanisha Leonard'}, {'id': 1, 'name': 'Dennis Wilson'}, {'id': 2, 'name': 'Lupe Howe'}]\n",
      "greeting : Hello, Hebert Estes! You have 4 unread messages.\n",
      "favoriteFruit : strawberry\n",
      "_id : 54e23c3ef5cc0d250968c212\n",
      "index : 1\n",
      "guid : 905f849d-49bf-4a57-b4f3-5d6e4bf1b04c\n",
      "isActive : False\n",
      "balance : $3,654.02\n",
      "picture : http://placehold.it/32x32\n",
      "age : 30\n",
      "eyeColor : green\n",
      "name : Allison Wynn\n",
      "gender : male\n",
      "company : PHARMACON\n",
      "email : allisonwynn@pharmacon.com\n",
      "phone : +1 (926) 525-3131\n",
      "address : 724 Brevoort Place, Lodoga, Indiana, 3880\n",
      "about : Esse quis cillum sunt occaecat ad et eu incididunt aliquip dolor. Adipisicing labore magna anim cillum nisi. Elit mollit consequat velit nulla cillum excepteur elit ullamco deserunt. Anim aliquip Lorem excepteur ad veniam et labore in qui ullamco. Occaecat sit do incididunt voluptate id magna ea amet.\r\n",
      "\n",
      "registered : 2014-06-10T13:41:26 +05:00\n",
      "latitude : 55.737207\n",
      "longitude : -167.177561\n",
      "tags : ['enim', 'officia', 'laboris', 'irure', 'veniam', 'occaecat', 'pariatur']\n",
      "friends : [{'id': 0, 'name': 'Curry Cox'}, {'id': 1, 'name': 'Alma Dale'}, {'id': 2, 'name': 'Barbara Mayo'}]\n",
      "greeting : Hello, Allison Wynn! You have 19 unread messages.\n",
      "favoriteFruit : apple\n",
      "_id : 54e23c3e09cc6875638cd36b\n",
      "index : 2\n",
      "guid : 1b042d48-9cfa-4db5-8b60-4104165591c3\n",
      "isActive : True\n",
      "balance : $1,536.02\n",
      "picture : http://placehold.it/32x32\n",
      "age : 31\n",
      "eyeColor : brown\n",
      "name : Jacobs Floyd\n",
      "gender : male\n",
      "company : QUONK\n",
      "email : jacobsfloyd@quonk.com\n",
      "phone : +1 (853) 537-3315\n",
      "address : 941 Cox Place, Bluffview, Georgia, 5882\n",
      "about : Deserunt adipisicing proident exercitation cillum anim consectetur labore exercitation. Commodo reprehenderit laborum enim exercitation. Ullamco nulla culpa aliqua nisi fugiat consectetur deserunt nostrud in eu.\r\n",
      "\n",
      "registered : 2014-07-30T03:17:32 +05:00\n",
      "latitude : 30.215667\n",
      "longitude : 68.831905\n",
      "tags : ['est', 'aute', 'laborum', 'sint', 'anim', 'sit', 'consectetur']\n",
      "friends : [{'id': 0, 'name': 'Robles Chan'}, {'id': 1, 'name': 'Whitfield Strickland'}, {'id': 2, 'name': 'Lina Melton'}]\n",
      "greeting : Hello, Jacobs Floyd! You have 5 unread messages.\n",
      "favoriteFruit : banana\n",
      "_id : 54e23c3e54e4094147a3b1da\n",
      "index : 3\n",
      "guid : 69eb3454-8acc-46f1-a636-c6df00dfb542\n",
      "isActive : False\n",
      "balance : $3,919.64\n",
      "picture : http://placehold.it/32x32\n",
      "age : 20\n",
      "eyeColor : green\n",
      "name : Fay Hammond\n",
      "gender : female\n",
      "company : INRT\n",
      "email : fayhammond@inrt.com\n",
      "phone : +1 (922) 429-2592\n",
      "address : 518 Randolph Street, Whitestone, Arizona, 8189\n",
      "about : Aliqua sunt exercitation quis cupidatat fugiat nulla laboris occaecat ut reprehenderit qui incididunt. Amet excepteur qui amet mollit sint enim velit est dolor eu. Velit labore ea aute ipsum consequat culpa cupidatat excepteur aliqua. Sit commodo id est deserunt commodo. Labore sit deserunt enim in dolore incididunt. Officia qui est veniam cillum consequat minim duis Lorem esse magna culpa cupidatat cupidatat enim. Amet eiusmod elit qui reprehenderit commodo quis.\r\n",
      "\n",
      "registered : 2015-01-30T08:05:38 +06:00\n",
      "latitude : 33.825844\n",
      "longitude : -65.969538\n",
      "tags : ['aliqua', 'esse', 'sint', 'pariatur', 'commodo', 'do', 'anim']\n",
      "friends : [{'id': 0, 'name': 'Dudley Booker'}, {'id': 1, 'name': 'Esmeralda Tyler'}, {'id': 2, 'name': 'Rosa Hampton'}]\n",
      "greeting : Hello, Fay Hammond! You have 10 unread messages.\n",
      "favoriteFruit : banana\n",
      "_id : 54e23c3e177caf5567ba87ac\n",
      "index : 4\n",
      "guid : 97962c85-7700-4ffa-a01e-2fcbc147fd81\n",
      "isActive : False\n",
      "balance : $3,681.39\n",
      "picture : http://placehold.it/32x32\n",
      "age : 39\n",
      "eyeColor : green\n",
      "name : Chasity Marsh\n",
      "gender : female\n",
      "company : WAZZU\n",
      "email : chasitymarsh@wazzu.com\n",
      "phone : +1 (976) 425-2362\n",
      "address : 604 Just Court, Eastvale, Federated States Of Micronesia, 8644\n",
      "about : Irure excepteur consequat esse qui tempor deserunt nulla fugiat. Ut excepteur do veniam dolore dolor proident sunt voluptate ad ipsum nisi. Lorem proident deserunt Lorem cupidatat dolor nulla qui id aliqua. Et nulla laborum deserunt tempor ad culpa. Ullamco occaecat adipisicing dolore laborum laborum duis aliqua nisi irure ex. Incididunt tempor Lorem quis dolore.\r\n",
      "\n",
      "registered : 2014-07-31T06:03:19 +05:00\n",
      "latitude : -31.660978\n",
      "longitude : 37.559095\n",
      "tags : ['aliquip', 'duis', 'irure', 'amet', 'aliquip', 'dolore', 'esse']\n",
      "friends : [{'id': 0, 'name': 'Kristina Glover'}, {'id': 1, 'name': 'Ora Christian'}, {'id': 2, 'name': 'Jacklyn Joseph'}]\n",
      "greeting : Hello, Chasity Marsh! You have 9 unread messages.\n",
      "favoriteFruit : apple\n",
      "_id : 54e23c3eaffbb506aa15ec1c\n",
      "index : 5\n",
      "guid : fc3e04d1-44c2-449e-891a-d4f8053d14a4\n",
      "isActive : True\n",
      "balance : $1,694.42\n",
      "picture : http://placehold.it/32x32\n",
      "age : 30\n",
      "eyeColor : brown\n",
      "name : Camacho Cortez\n",
      "gender : male\n",
      "company : EARTHWAX\n",
      "email : camachocortez@earthwax.com\n",
      "phone : +1 (869) 528-2019\n",
      "address : 101 Haring Street, Nicut, Louisiana, 1473\n",
      "about : Qui ad commodo elit voluptate cupidatat exercitation amet ea laborum sunt aliquip nisi irure. Veniam voluptate eiusmod sint aliquip ea. Voluptate voluptate Lorem nulla laborum eiusmod occaecat et nostrud sint in cillum reprehenderit magna nulla. Lorem id fugiat laborum qui mollit amet. Culpa officia ipsum nisi culpa in. Fugiat quis eu cupidatat non culpa in ea velit pariatur non in excepteur.\r\n",
      "\n",
      "registered : 2014-03-17T12:04:00 +05:00\n",
      "latitude : 74.434627\n",
      "longitude : 69.527088\n",
      "tags : ['et', 'sit', 'in', 'id', 'ullamco', 'elit', 'laborum']\n",
      "friends : [{'id': 0, 'name': 'Sexton Tillman'}, {'id': 1, 'name': 'Boone Steele'}, {'id': 2, 'name': 'Elvia Ward'}]\n",
      "greeting : Hello, Camacho Cortez! You have 19 unread messages.\n",
      "favoriteFruit : apple\n",
      "_id : 54e23c3e0fd8074c2ca52667\n",
      "index : 6\n",
      "guid : af8d9a03-fde9-4039-b20c-c4708d4cfc3c\n",
      "isActive : False\n",
      "balance : $1,214.10\n",
      "picture : http://placehold.it/32x32\n",
      "age : 35\n",
      "eyeColor : green\n",
      "name : Avery Flynn\n",
      "gender : male\n",
      "company : TERSANKI\n",
      "email : averyflynn@tersanki.com\n",
      "phone : +1 (966) 404-2471\n",
      "address : 569 Oakland Place, Beyerville, Puerto Rico, 2395\n",
      "about : Minim consequat anim ad et tempor et pariatur cillum ut. Ea Lorem consectetur sunt aliquip ea minim minim id dolore incididunt qui magna. Magna velit labore dolore voluptate ut aliquip esse qui est ipsum cupidatat duis enim. Sunt esse eiusmod cupidatat duis quis sunt anim dolore adipisicing enim dolore aliqua mollit. Commodo sit ad eiusmod reprehenderit.\r\n",
      "\n",
      "registered : 2014-04-13T10:25:03 +05:00\n",
      "latitude : -89.879409\n",
      "longitude : 143.441709\n",
      "tags : ['quis', 'esse', 'Lorem', 'minim', 'nostrud', 'voluptate', 'laborum']\n",
      "friends : [{'id': 0, 'name': 'Ball Henson'}, {'id': 1, 'name': 'Dalton Mccoy'}, {'id': 2, 'name': 'Carolina Sharp'}]\n",
      "greeting : Hello, Avery Flynn! You have 13 unread messages.\n",
      "favoriteFruit : banana\n",
      "_id : 54e23c3eb112d96e4204914d\n",
      "index : 7\n",
      "guid : 95f1c020-f9eb-4a29-b236-e766759d89d0\n",
      "isActive : False\n",
      "balance : $2,930.31\n",
      "picture : http://placehold.it/32x32\n",
      "age : 23\n",
      "eyeColor : blue\n",
      "name : Michael Cash\n",
      "gender : male\n",
      "company : ORBIXTAR\n",
      "email : michaelcash@orbixtar.com\n",
      "phone : +1 (996) 439-3660\n",
      "address : 808 Duryea Court, Downsville, Northern Mariana Islands, 2154\n",
      "about : Minim proident minim consectetur nostrud dolor reprehenderit. Ea est proident non do cillum eu est dolor Lorem id. Tempor enim incididunt consequat voluptate nulla ipsum voluptate id. Incididunt enim laboris nostrud in exercitation est culpa nulla velit.\r\n",
      "\n",
      "registered : 2014-05-24T17:56:54 +05:00\n",
      "latitude : -86.621367\n",
      "longitude : -4.06197\n",
      "tags : ['eu', 'sit', 'dolore', 'culpa', 'Lorem', 'in', 'esse']\n",
      "friends : [{'id': 0, 'name': 'Rodgers Nolan'}, {'id': 1, 'name': 'Jewel Marks'}, {'id': 2, 'name': 'Sue Mejia'}]\n",
      "greeting : Hello, Michael Cash! You have 17 unread messages.\n",
      "favoriteFruit : strawberry\n",
      "_id : 54e23c3ef30f14d0e5afddf3\n",
      "index : 8\n",
      "guid : bde2d56f-2488-40d0-a7d2-21019ee8a18b\n",
      "isActive : False\n",
      "balance : $1,944.15\n",
      "picture : http://placehold.it/32x32\n",
      "age : 25\n",
      "eyeColor : green\n",
      "name : Madeleine Bray\n",
      "gender : female\n",
      "company : KIDSTOCK\n",
      "email : madeleinebray@kidstock.com\n",
      "phone : +1 (820) 541-2969\n",
      "address : 684 Stratford Road, Rosine, District Of Columbia, 7177\n",
      "about : Ullamco ea esse ullamco commodo quis amet ut ad. Sint eiusmod ullamco minim nostrud amet in ex adipisicing velit cillum Lorem enim nostrud. Deserunt esse incididunt eiusmod commodo ullamco id pariatur tempor duis laboris Lorem. Laboris magna Lorem quis laborum ullamco. Dolor minim magna ut occaecat in consequat consequat in commodo pariatur voluptate pariatur dolore. Quis exercitation cillum labore cillum laborum. Dolore est reprehenderit anim reprehenderit consectetur sit quis ea ut veniam.\r\n",
      "\n",
      "registered : 2014-08-11T08:54:06 +05:00\n",
      "latitude : 45.118798\n",
      "longitude : -7.698707\n",
      "tags : ['id', 'magna', 'excepteur', 'excepteur', 'excepteur', 'duis', 'excepteur']\n",
      "friends : [{'id': 0, 'name': 'Herrera Doyle'}, {'id': 1, 'name': 'Berger Fisher'}, {'id': 2, 'name': 'Chang Coffey'}]\n",
      "greeting : Hello, Madeleine Bray! You have 2 unread messages.\n",
      "favoriteFruit : strawberry\n",
      "_id : 54e23c3ebd80e9c26b057fa3\n",
      "index : 9\n",
      "guid : 75991ca5-05ed-499e-bbb5-f057f86d05d7\n",
      "isActive : True\n",
      "balance : $2,839.22\n",
      "picture : http://placehold.it/32x32\n",
      "age : 37\n",
      "eyeColor : blue\n",
      "name : Corine French\n",
      "gender : female\n",
      "company : INTRAWEAR\n",
      "email : corinefrench@intrawear.com\n",
      "phone : +1 (987) 573-3164\n",
      "address : 964 Clara Street, Snyderville, Oklahoma, 3627\n",
      "about : Sint cillum laborum labore duis fugiat voluptate adipisicing. Ad culpa et et ea incididunt nulla excepteur officia. Cillum veniam amet ipsum reprehenderit do eiusmod aliqua aute nisi Lorem consectetur esse in incididunt.\r\n",
      "\n",
      "registered : 2014-06-25T20:17:13 +05:00\n",
      "latitude : -37.637422\n",
      "longitude : 154.195523\n",
      "tags : ['laboris', 'in', 'dolore', 'mollit', 'velit', 'laboris', 'excepteur']\n",
      "friends : [{'id': 0, 'name': 'Greta Hill'}, {'id': 1, 'name': 'Cline Curry'}, {'id': 2, 'name': 'Branch Sawyer'}]\n",
      "greeting : Hello, Corine French! You have 18 unread messages.\n",
      "favoriteFruit : banana\n",
      "_id : 54e23c3e6d89c09f5507e7dd\n",
      "index : 10\n",
      "guid : 87cffc18-3acf-40c5-8708-1bb93f1b68de\n",
      "isActive : True\n",
      "balance : $2,467.31\n",
      "picture : http://placehold.it/32x32\n",
      "age : 29\n",
      "eyeColor : blue\n",
      "name : Trudy Cummings\n",
      "gender : female\n",
      "company : SPLINX\n",
      "email : trudycummings@splinx.com\n",
      "phone : +1 (925) 403-2797\n",
      "address : 558 Charles Place, Tedrow, California, 9832\n",
      "about : Non id adipisicing deserunt non magna ex adipisicing sint esse sint. Laborum ea nostrud Lorem voluptate quis proident eu nisi exercitation in. Consequat occaecat proident officia anim.\r\n",
      "\n",
      "registered : 2014-03-13T17:54:31 +05:00\n",
      "latitude : -36.185131\n",
      "longitude : -37.774906\n",
      "tags : ['aute', 'occaecat', 'ea', 'pariatur', 'consectetur', 'magna', 'ea']\n",
      "friends : [{'id': 0, 'name': 'Amber Gates'}, {'id': 1, 'name': 'Barron Walsh'}, {'id': 2, 'name': 'Nell Bolton'}]\n",
      "greeting : Hello, Trudy Cummings! You have 2 unread messages.\n",
      "favoriteFruit : strawberry\n",
      "_id : 54e23c3e4192cf53edd67c99\n",
      "index : 11\n",
      "guid : 5a5496f1-a027-4c21-85da-c399234cd9a5\n",
      "isActive : True\n",
      "balance : $3,304.99\n",
      "picture : http://placehold.it/32x32\n",
      "age : 21\n",
      "eyeColor : brown\n",
      "name : Peggy Mayer\n",
      "gender : female\n",
      "company : ACCUPRINT\n",
      "email : peggymayer@accuprint.com\n",
      "phone : +1 (854) 428-2585\n",
      "address : 830 Willmohr Street, Crenshaw, Missouri, 6032\n",
      "about : Aliqua sit enim cillum aliquip ad proident excepteur in consectetur eiusmod. Ipsum sint cillum veniam eiusmod aute sunt et do est tempor. Lorem elit dolor dolore incididunt cillum. Enim occaecat minim sunt cillum est velit cillum deserunt tempor eu.\r\n",
      "\n",
      "registered : 2014-09-14T07:06:49 +05:00\n",
      "latitude : 48.323912\n",
      "longitude : 22.184821\n",
      "tags : ['commodo', 'esse', 'ad', 'ullamco', 'ea', 'sint', 'ipsum']\n",
      "friends : [{'id': 0, 'name': 'Hopkins Mccall'}, {'id': 1, 'name': 'Nielsen Weeks'}, {'id': 2, 'name': 'Dale Knowles'}]\n",
      "greeting : Hello, Peggy Mayer! You have 13 unread messages.\n",
      "favoriteFruit : strawberry\n",
      "_id : 54e23c3eedcc65f0ec3a5496\n",
      "index : 12\n",
      "guid : 759a21c4-5f9c-4189-9c50-c9d8a9f31037\n",
      "isActive : False\n",
      "balance : $3,844.42\n",
      "picture : http://placehold.it/32x32\n",
      "age : 40\n",
      "eyeColor : brown\n",
      "name : Chan Hurley\n",
      "gender : male\n",
      "company : ZEAM\n",
      "email : chanhurley@zeam.com\n",
      "phone : +1 (917) 475-3705\n",
      "address : 915 Channel Avenue, Clinton, North Dakota, 6244\n",
      "about : Voluptate exercitation ut anim ex adipisicing ut do officia incididunt fugiat cupidatat aliqua. Cillum ullamco irure dolore est consectetur non consequat. Nulla ullamco eu irure qui dolor magna ipsum id in enim voluptate aute. Officia aliqua dolore ut reprehenderit Lorem cillum. Cillum reprehenderit eu cillum aliqua sint eiusmod cupidatat culpa elit in. Fugiat voluptate reprehenderit amet anim qui nisi velit aliqua proident anim.\r\n",
      "\n",
      "registered : 2014-03-01T14:51:23 +06:00\n",
      "latitude : 85.901051\n",
      "longitude : -74.986179\n",
      "tags : ['minim', 'veniam', 'sit', 'aute', 'irure', 'non', 'eiusmod']\n",
      "friends : [{'id': 0, 'name': 'Reese Grant'}, {'id': 1, 'name': 'Jenna Kinney'}, {'id': 2, 'name': 'Rhea May'}]\n",
      "greeting : Hello, Chan Hurley! You have 7 unread messages.\n",
      "favoriteFruit : apple\n",
      "_id : 54e23c3eb813e66c6d33aa82\n",
      "index : 13\n",
      "guid : 6fd14a8e-3158-48eb-a7e1-93fe57b74746\n",
      "isActive : True\n",
      "balance : $3,594.99\n",
      "picture : http://placehold.it/32x32\n",
      "age : 40\n",
      "eyeColor : blue\n",
      "name : Diaz Pena\n",
      "gender : male\n",
      "company : SUREPLEX\n",
      "email : diazpena@sureplex.com\n",
      "phone : +1 (986) 511-3050\n",
      "address : 184 Kingsway Place, Grantville, Michigan, 2421\n",
      "about : Enim elit amet officia consectetur do Lorem reprehenderit cupidatat exercitation velit. Ex tempor esse consectetur dolore aute et. Cupidatat duis nulla in incididunt nulla ullamco non magna officia commodo anim. Labore quis ullamco est deserunt excepteur duis nostrud deserunt cillum proident. Non eiusmod consectetur pariatur deserunt irure quis exercitation ex incididunt quis dolore pariatur sunt irure. Eu do fugiat laboris tempor culpa.\r\n",
      "\n",
      "registered : 2014-04-19T20:43:12 +05:00\n",
      "latitude : 6.606991\n",
      "longitude : 81.593748\n",
      "tags : ['excepteur', 'elit', 'ullamco', 'excepteur', 'ad', 'quis', 'dolore']\n",
      "friends : [{'id': 0, 'name': 'Mcmillan Knox'}, {'id': 1, 'name': 'Flossie Dixon'}, {'id': 2, 'name': 'Sears Carson'}]\n",
      "greeting : Hello, Diaz Pena! You have 13 unread messages.\n",
      "favoriteFruit : strawberry\n",
      "_id : 54e23c3e502a2f526b689c3e\n",
      "index : 14\n",
      "guid : 459cc82d-7878-42cb-b9c6-073506380036\n",
      "isActive : True\n",
      "balance : $2,940.24\n",
      "picture : http://placehold.it/32x32\n",
      "age : 40\n",
      "eyeColor : brown\n",
      "name : Heath Castaneda\n",
      "gender : male\n",
      "company : NETPLODE\n",
      "email : heathcastaneda@netplode.com\n",
      "phone : +1 (944) 478-3741\n",
      "address : 278 Village Road, Sunnyside, Massachusetts, 7496\n",
      "about : Consectetur mollit cupidatat ex consectetur eiusmod ut. Cupidatat anim cupidatat cupidatat minim ipsum et quis amet proident pariatur. Do consectetur fugiat quis nisi non. Ut eu consequat consequat in ullamco eiusmod quis cillum sunt dolore anim. Non irure aliqua aliqua enim elit labore consequat.\r\n",
      "\n",
      "registered : 2014-07-30T21:38:43 +05:00\n",
      "latitude : 69.928876\n",
      "longitude : 33.649878\n",
      "tags : ['elit', 'commodo', 'ut', 'ullamco', 'ullamco', 'velit', 'ullamco']\n",
      "friends : [{'id': 0, 'name': 'Dora Mack'}, {'id': 1, 'name': 'Christensen Camacho'}, {'id': 2, 'name': 'Castro Kelly'}]\n",
      "greeting : Hello, Heath Castaneda! You have 12 unread messages.\n",
      "favoriteFruit : strawberry\n",
      "_id : 54e23c3e69d22e49c7fe62de\n",
      "index : 15\n",
      "guid : 33d2bbe5-d6f7-4844-88fc-b9f6af63b373\n",
      "isActive : False\n",
      "balance : $3,062.41\n",
      "picture : http://placehold.it/32x32\n",
      "age : 38\n",
      "eyeColor : brown\n",
      "name : Greer Blankenship\n",
      "gender : male\n",
      "company : QUALITERN\n",
      "email : greerblankenship@qualitern.com\n",
      "phone : +1 (957) 482-3874\n",
      "address : 557 Ingraham Street, Brambleton, South Dakota, 8482\n",
      "about : Non in excepteur nostrud consectetur. Qui non consectetur officia incididunt elit laboris exercitation exercitation est minim veniam ullamco dolore. Eu sit aute culpa ex sunt amet. Ut et amet Lorem sunt anim pariatur.\r\n",
      "\n",
      "registered : 2014-03-30T21:39:41 +05:00\n",
      "latitude : -71.093388\n",
      "longitude : 65.740255\n",
      "tags : ['enim', 'eiusmod', 'Lorem', 'reprehenderit', 'nisi', 'anim', 'sunt']\n",
      "friends : [{'id': 0, 'name': 'Woods Norman'}, {'id': 1, 'name': 'Marilyn Haney'}, {'id': 2, 'name': 'Webster Nielsen'}]\n",
      "greeting : Hello, Greer Blankenship! You have 7 unread messages.\n",
      "favoriteFruit : banana\n",
      "_id : 54e23c3e42676228c442a669\n",
      "index : 16\n",
      "guid : e44604f0-c7a8-4b89-bda3-0f4710ebe28a\n",
      "isActive : False\n",
      "balance : $3,067.82\n",
      "picture : http://placehold.it/32x32\n",
      "age : 32\n",
      "eyeColor : green\n",
      "name : Coffey Hayes\n",
      "gender : male\n",
      "company : INQUALA\n",
      "email : coffeyhayes@inquala.com\n",
      "phone : +1 (880) 451-3490\n",
      "address : 490 Durland Place, Craig, Tennessee, 5034\n",
      "about : Est esse irure Lorem ullamco veniam fugiat laborum veniam excepteur. Ad enim pariatur nostrud excepteur et nostrud velit dolore ex enim cillum in aliquip fugiat. Nulla laborum exercitation irure magna elit laborum magna ad excepteur. Cillum pariatur Lorem eiusmod ad dolore eiusmod veniam do minim laborum in dolor. Reprehenderit elit ad id voluptate Lorem Lorem dolor cupidatat excepteur. Proident minim ea aute nulla.\r\n",
      "\n",
      "registered : 2014-04-01T23:04:39 +05:00\n",
      "latitude : -30.662644\n",
      "longitude : 59.806684\n",
      "tags : ['duis', 'est', 'in', 'officia', 'nostrud', 'occaecat', 'mollit']\n",
      "friends : [{'id': 0, 'name': 'Suarez Perry'}, {'id': 1, 'name': 'Marlene Sheppard'}, {'id': 2, 'name': 'Cohen Yates'}]\n",
      "greeting : Hello, Coffey Hayes! You have 19 unread messages.\n",
      "favoriteFruit : strawberry\n",
      "_id : 54e23c3e4ac5969958013235\n",
      "index : 17\n",
      "guid : fa7e26df-d239-41e8-9aa9-be5e808b6f89\n",
      "isActive : True\n",
      "balance : $2,646.76\n",
      "picture : http://placehold.it/32x32\n",
      "age : 24\n",
      "eyeColor : brown\n",
      "name : Leanne Hurst\n",
      "gender : female\n",
      "company : ACCIDENCY\n",
      "email : leannehurst@accidency.com\n",
      "phone : +1 (820) 420-3317\n",
      "address : 196 Columbus Place, Carbonville, New Jersey, 7513\n",
      "about : Dolor occaecat dolore ut tempor. Veniam elit anim duis do pariatur. Qui excepteur nisi eiusmod mollit laboris fugiat commodo ipsum reprehenderit labore cillum. Aliquip laborum commodo nisi cupidatat labore nostrud exercitation adipisicing mollit eu magna proident ex Lorem. Nostrud magna sint sint consequat consectetur et sint.\r\n",
      "\n",
      "registered : 2014-11-10T01:25:55 +06:00\n",
      "latitude : 16.671695\n",
      "longitude : 139.707959\n",
      "tags : ['culpa', 'deserunt', 'tempor', 'quis', 'reprehenderit', 'incididunt', 'est']\n",
      "friends : [{'id': 0, 'name': 'Farley Frank'}, {'id': 1, 'name': 'Pruitt Frye'}, {'id': 2, 'name': 'Simpson Cardenas'}]\n",
      "greeting : Hello, Leanne Hurst! You have 5 unread messages.\n",
      "favoriteFruit : banana\n",
      "_id : 54e23c3ed945981ba2580614\n",
      "index : 18\n",
      "guid : e608dc5c-fee4-4086-971b-3ebd37bfa137\n",
      "isActive : True\n",
      "balance : $2,227.79\n",
      "picture : http://placehold.it/32x32\n",
      "age : 22\n",
      "eyeColor : brown\n",
      "name : Ewing Larson\n",
      "gender : male\n",
      "company : ESCENTA\n",
      "email : ewinglarson@escenta.com\n",
      "phone : +1 (943) 439-3760\n",
      "address : 136 Beard Street, Wattsville, New Hampshire, 2803\n",
      "about : Veniam eiusmod exercitation culpa mollit reprehenderit ullamco voluptate voluptate irure qui duis anim et. Laborum dolor quis do voluptate. In pariatur dolor id mollit et enim. Qui ex qui in cillum irure enim non reprehenderit irure et excepteur aliquip eu eu.\r\n",
      "\n",
      "registered : 2014-07-21T19:17:41 +05:00\n",
      "latitude : 15.903555\n",
      "longitude : -159.721203\n",
      "tags : ['Lorem', 'magna', 'dolor', 'aliquip', 'reprehenderit', 'eu', 'voluptate']\n",
      "friends : [{'id': 0, 'name': 'Suzette Huffman'}, {'id': 1, 'name': 'Paige Santiago'}, {'id': 2, 'name': 'Dollie Fernandez'}]\n",
      "greeting : Hello, Ewing Larson! You have 16 unread messages.\n",
      "favoriteFruit : strawberry\n"
     ]
    }
   ],
   "source": [
    "#for dictionary in profiles:\n",
    "#    for key in dictionary:\n",
    "#        print(key, \":\", dictionary[key])"
   ]
  },
  {
   "cell_type": "code",
   "execution_count": 261,
   "metadata": {},
   "outputs": [],
   "source": [
    "#for key in profiles:\n",
    "#    print(profiles[key])"
   ]
  },
  {
   "cell_type": "code",
   "execution_count": 263,
   "metadata": {},
   "outputs": [
    {
     "data": {
      "text/plain": [
       "['Hebert Estes',\n",
       " 'Allison Wynn',\n",
       " 'Jacobs Floyd',\n",
       " 'Fay Hammond',\n",
       " 'Chasity Marsh',\n",
       " 'Camacho Cortez',\n",
       " 'Avery Flynn',\n",
       " 'Michael Cash',\n",
       " 'Madeleine Bray',\n",
       " 'Corine French',\n",
       " 'Trudy Cummings',\n",
       " 'Peggy Mayer',\n",
       " 'Chan Hurley',\n",
       " 'Diaz Pena',\n",
       " 'Heath Castaneda',\n",
       " 'Greer Blankenship',\n",
       " 'Coffey Hayes',\n",
       " 'Leanne Hurst',\n",
       " 'Ewing Larson']"
      ]
     },
     "execution_count": 263,
     "metadata": {},
     "output_type": "execute_result"
    }
   ],
   "source": [
    "# created a list of all names\n",
    "users = [sub['name'] for sub in profiles]\n",
    "\n",
    "users = list(users)\n",
    "\n",
    "users"
   ]
  },
  {
   "cell_type": "code",
   "execution_count": 262,
   "metadata": {},
   "outputs": [
    {
     "data": {
      "text/plain": [
       "[2097.02,\n",
       " 3654.02,\n",
       " 1536.02,\n",
       " 3919.64,\n",
       " 3681.39,\n",
       " 1694.42,\n",
       " 1214.1,\n",
       " 2930.31,\n",
       " 1944.15,\n",
       " 2839.22,\n",
       " 2467.31,\n",
       " 3304.99,\n",
       " 3844.42,\n",
       " 3594.99,\n",
       " 2940.24,\n",
       " 3062.41,\n",
       " 3067.82,\n",
       " 2646.76,\n",
       " 2227.79]"
      ]
     },
     "execution_count": 262,
     "metadata": {},
     "output_type": "execute_result"
    }
   ],
   "source": [
    "bals"
   ]
  },
  {
   "cell_type": "code",
   "execution_count": 121,
   "metadata": {},
   "outputs": [
    {
     "name": "stdout",
     "output_type": "stream",
     "text": [
      "['Hebert Estes', 'Allison Wynn', 'Jacobs Floyd', 'Fay Hammond', 'Chasity Marsh', 'Camacho Cortez', 'Avery Flynn', 'Michael Cash', 'Madeleine Bray', 'Corine French', 'Trudy Cummings', 'Peggy Mayer', 'Chan Hurley', 'Diaz Pena', 'Heath Castaneda', 'Greer Blankenship', 'Coffey Hayes', 'Leanne Hurst', 'Ewing Larson']\n"
     ]
    }
   ],
   "source": [
    "print(users)"
   ]
  },
  {
   "cell_type": "code",
   "execution_count": 264,
   "metadata": {},
   "outputs": [
    {
     "data": {
      "text/plain": [
       "{2097.02: 'Hebert Estes',\n",
       " 3654.02: 'Allison Wynn',\n",
       " 1536.02: 'Jacobs Floyd',\n",
       " 3919.64: 'Fay Hammond',\n",
       " 3681.39: 'Chasity Marsh',\n",
       " 1694.42: 'Camacho Cortez',\n",
       " 1214.1: 'Avery Flynn',\n",
       " 2930.31: 'Michael Cash',\n",
       " 1944.15: 'Madeleine Bray',\n",
       " 2839.22: 'Corine French',\n",
       " 2467.31: 'Trudy Cummings',\n",
       " 3304.99: 'Peggy Mayer',\n",
       " 3844.42: 'Chan Hurley',\n",
       " 3594.99: 'Diaz Pena',\n",
       " 2940.24: 'Heath Castaneda',\n",
       " 3062.41: 'Greer Blankenship',\n",
       " 3067.82: 'Coffey Hayes',\n",
       " 2646.76: 'Leanne Hurst',\n",
       " 2227.79: 'Ewing Larson'}"
      ]
     },
     "execution_count": 264,
     "metadata": {},
     "output_type": "execute_result"
    }
   ],
   "source": [
    "#merged the two lists together\n",
    "#with balances as the key(1st), and users as the value(2nd)\n",
    "zipbObj = zip(bals, users)\n",
    "\n",
    "dictOfNamesAndBals = dict(zipbObj)\n",
    "\n",
    "dictOfNamesAndBals"
   ]
  },
  {
   "cell_type": "code",
   "execution_count": 130,
   "metadata": {},
   "outputs": [
    {
     "data": {
      "text/plain": [
       "dict_values(['Hebert Estes', 'Allison Wynn', 'Jacobs Floyd', 'Fay Hammond', 'Chasity Marsh', 'Camacho Cortez', 'Avery Flynn', 'Michael Cash', 'Madeleine Bray', 'Corine French', 'Trudy Cummings', 'Peggy Mayer', 'Chan Hurley', 'Diaz Pena', 'Heath Castaneda', 'Greer Blankenship', 'Coffey Hayes', 'Leanne Hurst', 'Ewing Larson'])"
      ]
     },
     "execution_count": 130,
     "metadata": {},
     "output_type": "execute_result"
    }
   ],
   "source": [
    "#returns all of the values in the dict I created\n",
    "#since I listed users 2nd, they are the values\n",
    "dictOfNamesAndBals.values()"
   ]
  },
  {
   "cell_type": "code",
   "execution_count": 131,
   "metadata": {},
   "outputs": [
    {
     "data": {
      "text/plain": [
       "[(1214.1, 'Avery Flynn'),\n",
       " (1536.02, 'Jacobs Floyd'),\n",
       " (1694.42, 'Camacho Cortez'),\n",
       " (1944.15, 'Madeleine Bray'),\n",
       " (2097.02, 'Hebert Estes'),\n",
       " (2227.79, 'Ewing Larson'),\n",
       " (2467.31, 'Trudy Cummings'),\n",
       " (2646.76, 'Leanne Hurst'),\n",
       " (2839.22, 'Corine French'),\n",
       " (2930.31, 'Michael Cash'),\n",
       " (2940.24, 'Heath Castaneda'),\n",
       " (3062.41, 'Greer Blankenship'),\n",
       " (3067.82, 'Coffey Hayes'),\n",
       " (3304.99, 'Peggy Mayer'),\n",
       " (3594.99, 'Diaz Pena'),\n",
       " (3654.02, 'Allison Wynn'),\n",
       " (3681.39, 'Chasity Marsh'),\n",
       " (3844.42, 'Chan Hurley'),\n",
       " (3919.64, 'Fay Hammond')]"
      ]
     },
     "execution_count": 131,
     "metadata": {},
     "output_type": "execute_result"
    }
   ],
   "source": [
    "#sorted() changed my dict of keys and values into a list() of tuples\n",
    "# Sorted my dict in ASC order of keys\n",
    "sorted(dictOfNamesAndBals.items())"
   ]
  },
  {
   "cell_type": "code",
   "execution_count": 133,
   "metadata": {},
   "outputs": [
    {
     "data": {
      "text/plain": [
       "(1214.1, 'Avery Flynn')"
      ]
     },
     "execution_count": 133,
     "metadata": {},
     "output_type": "execute_result"
    }
   ],
   "source": [
    "#selected the 1st in my list with the lowest balance\n",
    "sorted(dictOfNamesAndBals.items())[0]"
   ]
  },
  {
   "cell_type": "code",
   "execution_count": 134,
   "metadata": {},
   "outputs": [
    {
     "data": {
      "text/plain": [
       "list"
      ]
     },
     "execution_count": 134,
     "metadata": {},
     "output_type": "execute_result"
    }
   ],
   "source": [
    "type(sorted(dictOfNamesAndBals.items()))"
   ]
  },
  {
   "cell_type": "markdown",
   "metadata": {},
   "source": [
    "### User with the highest balance"
   ]
  },
  {
   "cell_type": "code",
   "execution_count": 136,
   "metadata": {},
   "outputs": [
    {
     "data": {
      "text/plain": [
       "[(3919.64, 'Fay Hammond'),\n",
       " (3844.42, 'Chan Hurley'),\n",
       " (3681.39, 'Chasity Marsh'),\n",
       " (3654.02, 'Allison Wynn'),\n",
       " (3594.99, 'Diaz Pena'),\n",
       " (3304.99, 'Peggy Mayer'),\n",
       " (3067.82, 'Coffey Hayes'),\n",
       " (3062.41, 'Greer Blankenship'),\n",
       " (2940.24, 'Heath Castaneda'),\n",
       " (2930.31, 'Michael Cash'),\n",
       " (2839.22, 'Corine French'),\n",
       " (2646.76, 'Leanne Hurst'),\n",
       " (2467.31, 'Trudy Cummings'),\n",
       " (2227.79, 'Ewing Larson'),\n",
       " (2097.02, 'Hebert Estes'),\n",
       " (1944.15, 'Madeleine Bray'),\n",
       " (1694.42, 'Camacho Cortez'),\n",
       " (1536.02, 'Jacobs Floyd'),\n",
       " (1214.1, 'Avery Flynn')]"
      ]
     },
     "execution_count": 136,
     "metadata": {},
     "output_type": "execute_result"
    }
   ],
   "source": [
    "#reversed my list to DESC order\n",
    "sorted(dictOfNamesAndBals.items(), reverse = True)"
   ]
  },
  {
   "cell_type": "code",
   "execution_count": 137,
   "metadata": {},
   "outputs": [
    {
     "data": {
      "text/plain": [
       "(3919.64, 'Fay Hammond')"
      ]
     },
     "execution_count": 137,
     "metadata": {},
     "output_type": "execute_result"
    }
   ],
   "source": [
    "#selected the 1st in my list with the highest balance\n",
    "sorted(dictOfNamesAndBals.items(), reverse = True)[0]"
   ]
  },
  {
   "cell_type": "markdown",
   "metadata": {},
   "source": [
    "### Most common favorite fruit"
   ]
  },
  {
   "cell_type": "code",
   "execution_count": 209,
   "metadata": {},
   "outputs": [
    {
     "data": {
      "text/plain": [
       "['strawberry',\n",
       " 'apple',\n",
       " 'banana',\n",
       " 'banana',\n",
       " 'apple',\n",
       " 'apple',\n",
       " 'banana',\n",
       " 'strawberry',\n",
       " 'strawberry',\n",
       " 'banana',\n",
       " 'strawberry',\n",
       " 'strawberry',\n",
       " 'apple',\n",
       " 'strawberry',\n",
       " 'strawberry',\n",
       " 'banana',\n",
       " 'strawberry',\n",
       " 'banana',\n",
       " 'strawberry']"
      ]
     },
     "execution_count": 209,
     "metadata": {},
     "output_type": "execute_result"
    }
   ],
   "source": [
    "#created a list of fav fruit from dicts in profiles list\n",
    "fruit = [sub['favoriteFruit'] for sub in profiles]\n",
    "\n",
    "fruit = list(fruit)\n",
    "\n",
    "fruit"
   ]
  },
  {
   "cell_type": "code",
   "execution_count": 210,
   "metadata": {},
   "outputs": [
    {
     "data": {
      "text/plain": [
       "Counter({'strawberry': 9, 'apple': 4, 'banana': 6})"
      ]
     },
     "execution_count": 210,
     "metadata": {},
     "output_type": "execute_result"
    }
   ],
   "source": [
    "#tallied up the diff fruits\n",
    "# https://docs.python.org/3/library/collections.html#collections.Counter.most_common\n",
    "from collections import Counter\n",
    "\n",
    "Counter(fruit)"
   ]
  },
  {
   "cell_type": "code",
   "execution_count": 212,
   "metadata": {},
   "outputs": [
    {
     "data": {
      "text/plain": [
       "'strawberry'"
      ]
     },
     "execution_count": 212,
     "metadata": {},
     "output_type": "execute_result"
    }
   ],
   "source": [
    "#identified my key/values from the dict I created above\n",
    "#and returned the most common fruit\n",
    "\n",
    "v = list(Counter(fruit).values())\n",
    "k = list(Counter(fruit).keys())\n",
    "\n",
    "max_fruit = k[v.index(max(v))]\n",
    "\n",
    "max_fruit"
   ]
  },
  {
   "cell_type": "code",
   "execution_count": 215,
   "metadata": {},
   "outputs": [
    {
     "name": "stdout",
     "output_type": "stream",
     "text": [
      "strawberry :  9\n"
     ]
    }
   ],
   "source": [
    "#printed both key and value\n",
    "print(k[v.index(max(v))], ': ', v[v.index(max(v))])"
   ]
  },
  {
   "cell_type": "markdown",
   "metadata": {},
   "source": [
    "### Least most common favorite fruit"
   ]
  },
  {
   "cell_type": "code",
   "execution_count": 216,
   "metadata": {},
   "outputs": [],
   "source": [
    "#fruit = [sub['favoriteFruit'] for sub in profiles]\n",
    "#\n",
    "#fruit = list(fruit)\n",
    "#\n",
    "#fruit"
   ]
  },
  {
   "cell_type": "code",
   "execution_count": 217,
   "metadata": {},
   "outputs": [],
   "source": [
    "#from collections import Counter\n",
    "#\n",
    "#Counter(fruit)"
   ]
  },
  {
   "cell_type": "code",
   "execution_count": 206,
   "metadata": {},
   "outputs": [
    {
     "data": {
      "text/plain": [
       "4"
      ]
     },
     "execution_count": 206,
     "metadata": {},
     "output_type": "execute_result"
    }
   ],
   "source": [
    "#min_fruit = min(Counter(fruit), key = lambda k: Counter(fruit)[k])\n",
    "#\n",
    "#Counter(fruit)[min_fruit]"
   ]
  },
  {
   "cell_type": "code",
   "execution_count": 208,
   "metadata": {},
   "outputs": [
    {
     "data": {
      "text/plain": [
       "'apple'"
      ]
     },
     "execution_count": 208,
     "metadata": {},
     "output_type": "execute_result"
    }
   ],
   "source": [
    "# https://blog.finxter.com/how-to-get-the-key-with-the-maximum-value-in-a-dictionary/\n",
    "#min(dict_name, key = dict_name.get)\n",
    "#min function reviews all keys and returns the on with the min VALUE\n",
    "#.get returns the value of the KEY\n",
    "min_fruit = min(Counter(fruit), key = Counter(fruit).get)\n",
    "\n",
    "min_fruit"
   ]
  },
  {
   "cell_type": "markdown",
   "metadata": {},
   "source": [
    "### Total number of unread messages for all users"
   ]
  },
  {
   "cell_type": "code",
   "execution_count": 192,
   "metadata": {},
   "outputs": [
    {
     "data": {
      "text/plain": [
       "['Hello, Hebert Estes! You have 4 unread messages.',\n",
       " 'Hello, Allison Wynn! You have 19 unread messages.',\n",
       " 'Hello, Jacobs Floyd! You have 5 unread messages.',\n",
       " 'Hello, Fay Hammond! You have 10 unread messages.',\n",
       " 'Hello, Chasity Marsh! You have 9 unread messages.',\n",
       " 'Hello, Camacho Cortez! You have 19 unread messages.',\n",
       " 'Hello, Avery Flynn! You have 13 unread messages.',\n",
       " 'Hello, Michael Cash! You have 17 unread messages.',\n",
       " 'Hello, Madeleine Bray! You have 2 unread messages.',\n",
       " 'Hello, Corine French! You have 18 unread messages.',\n",
       " 'Hello, Trudy Cummings! You have 2 unread messages.',\n",
       " 'Hello, Peggy Mayer! You have 13 unread messages.',\n",
       " 'Hello, Chan Hurley! You have 7 unread messages.',\n",
       " 'Hello, Diaz Pena! You have 13 unread messages.',\n",
       " 'Hello, Heath Castaneda! You have 12 unread messages.',\n",
       " 'Hello, Greer Blankenship! You have 7 unread messages.',\n",
       " 'Hello, Coffey Hayes! You have 19 unread messages.',\n",
       " 'Hello, Leanne Hurst! You have 5 unread messages.',\n",
       " 'Hello, Ewing Larson! You have 16 unread messages.']"
      ]
     },
     "execution_count": 192,
     "metadata": {},
     "output_type": "execute_result"
    }
   ],
   "source": [
    "#create a list of strings\n",
    "#pulled from the 'greetings' key of the dict.s in [profiles]\n",
    "greetings = [sub['greeting'] for sub in profiles]\n",
    "\n",
    "greetings = list(greetings)\n",
    "\n",
    "greetings"
   ]
  },
  {
   "cell_type": "code",
   "execution_count": 142,
   "metadata": {},
   "outputs": [
    {
     "data": {
      "text/plain": [
       "list"
      ]
     },
     "execution_count": 142,
     "metadata": {},
     "output_type": "execute_result"
    }
   ],
   "source": [
    "type(greetings)"
   ]
  },
  {
   "cell_type": "code",
   "execution_count": 143,
   "metadata": {},
   "outputs": [
    {
     "data": {
      "text/plain": [
       "'Hello, Hebert Estes! You have 4 unread messages.'"
      ]
     },
     "execution_count": 143,
     "metadata": {},
     "output_type": "execute_result"
    }
   ],
   "source": [
    "greetings[0]"
   ]
  },
  {
   "cell_type": "code",
   "execution_count": 144,
   "metadata": {},
   "outputs": [
    {
     "data": {
      "text/plain": [
       "[4]"
      ]
     },
     "execution_count": 144,
     "metadata": {},
     "output_type": "execute_result"
    }
   ],
   "source": [
    "[int(i) for i in greetings[0].split() if i.isdigit()]"
   ]
  },
  {
   "cell_type": "code",
   "execution_count": 218,
   "metadata": {},
   "outputs": [],
   "source": [
    "#[int(i) for i in greetings[0:20].split() if i.isdigit()]"
   ]
  },
  {
   "cell_type": "code",
   "execution_count": 153,
   "metadata": {},
   "outputs": [
    {
     "name": "stdout",
     "output_type": "stream",
     "text": [
      "[[4]]\n",
      "[[19]]\n",
      "[[5]]\n",
      "[[10]]\n",
      "[[9]]\n",
      "[[19]]\n",
      "[[13]]\n",
      "[[17]]\n",
      "[[2]]\n",
      "[[18]]\n",
      "[[2]]\n",
      "[[13]]\n",
      "[[7]]\n",
      "[[13]]\n",
      "[[12]]\n",
      "[[7]]\n",
      "[[19]]\n",
      "[[5]]\n",
      "[[16]]\n"
     ]
    }
   ],
   "source": [
    "#for numbers in range(0, 19):\n",
    "#    numberOfMessages = []\n",
    "#    \n",
    "#    numberOfMessages.append([int(i) for i in greetings[numbers].split() if i.isdigit()])\n",
    "#    \n",
    "#    print(numberOfMessages)"
   ]
  },
  {
   "cell_type": "code",
   "execution_count": 167,
   "metadata": {},
   "outputs": [
    {
     "name": "stdout",
     "output_type": "stream",
     "text": [
      "[4]\n",
      "[19]\n",
      "[5]\n",
      "[10]\n",
      "[9]\n",
      "[19]\n",
      "[13]\n",
      "[17]\n",
      "[2]\n",
      "[18]\n",
      "[2]\n",
      "[13]\n",
      "[7]\n",
      "[13]\n",
      "[12]\n",
      "[7]\n",
      "[19]\n",
      "[5]\n",
      "[16]\n"
     ]
    },
    {
     "ename": "IndexError",
     "evalue": "list index out of range",
     "output_type": "error",
     "traceback": [
      "\u001b[0;31m---------------------------------------------------------------------------\u001b[0m",
      "\u001b[0;31mIndexError\u001b[0m                                Traceback (most recent call last)",
      "\u001b[0;32m<ipython-input-167-256eb8415f8f>\u001b[0m in \u001b[0;36m<module>\u001b[0;34m\u001b[0m\n\u001b[1;32m      1\u001b[0m \u001b[0;32mfor\u001b[0m \u001b[0mnumbers\u001b[0m \u001b[0;32min\u001b[0m \u001b[0mrange\u001b[0m\u001b[0;34m(\u001b[0m\u001b[0;36m0\u001b[0m\u001b[0;34m,\u001b[0m \u001b[0;36m20\u001b[0m\u001b[0;34m)\u001b[0m\u001b[0;34m:\u001b[0m\u001b[0;34m\u001b[0m\u001b[0;34m\u001b[0m\u001b[0m\n\u001b[0;32m----> 2\u001b[0;31m     \u001b[0mnumberOfMess\u001b[0m \u001b[0;34m=\u001b[0m \u001b[0;34m[\u001b[0m\u001b[0mint\u001b[0m\u001b[0;34m(\u001b[0m\u001b[0mi\u001b[0m\u001b[0;34m)\u001b[0m \u001b[0;32mfor\u001b[0m \u001b[0mi\u001b[0m \u001b[0;32min\u001b[0m \u001b[0mgreetings\u001b[0m\u001b[0;34m[\u001b[0m\u001b[0mnumbers\u001b[0m\u001b[0;34m]\u001b[0m\u001b[0;34m.\u001b[0m\u001b[0msplit\u001b[0m\u001b[0;34m(\u001b[0m\u001b[0;34m)\u001b[0m \u001b[0;32mif\u001b[0m \u001b[0mi\u001b[0m\u001b[0;34m.\u001b[0m\u001b[0misdigit\u001b[0m\u001b[0;34m(\u001b[0m\u001b[0;34m)\u001b[0m\u001b[0;34m]\u001b[0m\u001b[0;34m\u001b[0m\u001b[0;34m\u001b[0m\u001b[0m\n\u001b[0m\u001b[1;32m      3\u001b[0m \u001b[0;34m\u001b[0m\u001b[0m\n\u001b[1;32m      4\u001b[0m \u001b[0;34m\u001b[0m\u001b[0m\n\u001b[1;32m      5\u001b[0m     \u001b[0mprint\u001b[0m\u001b[0;34m(\u001b[0m\u001b[0mnumberOfMess\u001b[0m\u001b[0;34m)\u001b[0m\u001b[0;34m\u001b[0m\u001b[0;34m\u001b[0m\u001b[0m\n",
      "\u001b[0;31mIndexError\u001b[0m: list index out of range"
     ]
    }
   ],
   "source": [
    "#for numbers in range(0, 20):\n",
    "#    numberOfMess = [int(i) for i in greetings[numbers].split() if i.isdigit()]\n",
    "#\n",
    "#    \n",
    "#    print(numberOfMess)"
   ]
  },
  {
   "cell_type": "code",
   "execution_count": 168,
   "metadata": {},
   "outputs": [
    {
     "name": "stdout",
     "output_type": "stream",
     "text": [
      "['4', '19', '5', '10', '9', '19', '13', '17', '2', '18', '2', '13', '7', '13', '12', '7', '19', '5', '16']\n"
     ]
    }
   ],
   "source": [
    "#messagesTotal = []\n",
    "#for n in range(0, 19):\n",
    "#    for i in greetings[n].split():\n",
    "#        if (i.isdigit()):\n",
    "#            messagesTotal.append(i)\n",
    "#            \n",
    "#print(messagesTotal)"
   ]
  },
  {
   "cell_type": "code",
   "execution_count": 183,
   "metadata": {},
   "outputs": [
    {
     "data": {
      "text/plain": [
       "['4',\n",
       " '19',\n",
       " '5',\n",
       " '10',\n",
       " '9',\n",
       " '19',\n",
       " '13',\n",
       " '17',\n",
       " '2',\n",
       " '18',\n",
       " '2',\n",
       " '13',\n",
       " '7',\n",
       " '13',\n",
       " '12',\n",
       " '7',\n",
       " '19',\n",
       " '5',\n",
       " '16']"
      ]
     },
     "execution_count": 183,
     "metadata": {},
     "output_type": "execute_result"
    }
   ],
   "source": [
    "#created an empty list\n",
    "messagesTotal = []\n",
    "#for loop for the len of the list(greetings)\n",
    "for n in range(len(greetings)):\n",
    "    #split every character in each string \n",
    "    for i in greetings[n].split():\n",
    "        #and checked if it was a digit, if so, appended to the empty list\n",
    "        if (i.isdigit()):\n",
    "            messagesTotal.append(i)\n",
    "            \n",
    "messagesTotal"
   ]
  },
  {
   "cell_type": "code",
   "execution_count": 187,
   "metadata": {},
   "outputs": [
    {
     "data": {
      "text/plain": [
       "210"
      ]
     },
     "execution_count": 187,
     "metadata": {},
     "output_type": "execute_result"
    }
   ],
   "source": [
    "messagesTotal = []\n",
    "for n in range(len(greetings)):\n",
    "    for i in greetings[n].split():\n",
    "        if (i.isdigit()):\n",
    "            messagesTotal.append(i)\n",
    "            \n",
    "#converted the appended list of strings to int, and summed it\n",
    "sum([int(i) for i in messagesTotal])"
   ]
  },
  {
   "cell_type": "code",
   "execution_count": 180,
   "metadata": {},
   "outputs": [
    {
     "data": {
      "text/plain": [
       "[4, 19, 5, 10, 9, 19, 13, 17, 2, 18, 2, 13, 7, 13, 12, 7, 19, 5, 16]"
      ]
     },
     "execution_count": 180,
     "metadata": {},
     "output_type": "execute_result"
    }
   ],
   "source": [
    "#checking difference between range(0, 19) & len(greetings)\n",
    "#messagesTotal = []\n",
    "#for n in range(0, 19):\n",
    "#    for i in greetings[n].split():\n",
    "#        if (i.isdigit()):\n",
    "#            messagesTotal.append(i)\n",
    "#            \n",
    "#messagesTotal = [int(i) for i in messagesTotal]\n",
    "#\n",
    "#messagesTotal"
   ]
  },
  {
   "cell_type": "code",
   "execution_count": 174,
   "metadata": {},
   "outputs": [
    {
     "data": {
      "text/plain": [
       "210"
      ]
     },
     "execution_count": 174,
     "metadata": {},
     "output_type": "execute_result"
    }
   ],
   "source": [
    "#checking if sum function works\n",
    "#messagesTotal = []\n",
    "#for n in range(0, 19):\n",
    "#    for i in greetings[n].split():\n",
    "#        if (i.isdigit()):\n",
    "#            messagesTotal.append(i)\n",
    "#\n",
    "#sum([int(i) for i in messagesTotal])"
   ]
  }
 ],
 "metadata": {
  "kernelspec": {
   "display_name": "Python 3",
   "language": "python",
   "name": "python3"
  },
  "language_info": {
   "codemirror_mode": {
    "name": "ipython",
    "version": 3
   },
   "file_extension": ".py",
   "mimetype": "text/x-python",
   "name": "python",
   "nbconvert_exporter": "python",
   "pygments_lexer": "ipython3",
   "version": "3.8.5"
  }
 },
 "nbformat": 4,
 "nbformat_minor": 4
}
