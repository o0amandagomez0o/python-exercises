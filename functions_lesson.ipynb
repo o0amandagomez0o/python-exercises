{
 "cells": [
  {
   "cell_type": "markdown",
   "metadata": {},
   "source": [
    "# Python Functions\n",
    "\n",
    "- Context: what are functions? why are they helpful?\n",
    "    - reusable pieces of code\n",
    "    - accepts inputs and produce outputs\n",
    "    - abstraction"
   ]
  },
  {
   "cell_type": "markdown",
   "metadata": {},
   "source": [
    "## Using Functions"
   ]
  },
  {
   "cell_type": "markdown",
   "metadata": {},
   "source": [
    "<div style=\"padding: 1em 3em; border: 1px solid black;\">\n",
    "    <div style=\"font-weight: bold; font-size: 1.2em; border-bottom: 1px dashed black; padding-bottom: .5em;\">\n",
    "        Vocab\n",
    "    </div>\n",
    "    <ul>\n",
    "        <li>Run/invoke/call</li>\n",
    "        <li>Argument</li>\n",
    "        <li>Return Value</li>\n",
    "    </ul>\n",
    "</div>"
   ]
  },
  {
   "cell_type": "code",
   "execution_count": 1,
   "metadata": {},
   "outputs": [
    {
     "data": {
      "text/plain": [
       "2"
      ]
     },
     "execution_count": 1,
     "metadata": {},
     "output_type": "execute_result"
    }
   ],
   "source": [
    "1 + 1"
   ]
  },
  {
   "cell_type": "code",
   "execution_count": 2,
   "metadata": {},
   "outputs": [
    {
     "data": {
      "text/plain": [
       "123"
      ]
     },
     "execution_count": 2,
     "metadata": {},
     "output_type": "execute_result"
    }
   ],
   "source": [
    "int(\"123\")"
   ]
  },
  {
   "cell_type": "markdown",
   "metadata": {},
   "source": [
    "We've already used built-in functions"
   ]
  },
  {
   "cell_type": "markdown",
   "metadata": {},
   "source": [
    "<div style=\"background-color: rgba(0, 100, 200, .1); padding: 1em 3em; border-radius: 5px; border: 1px solid black\">\n",
    "    <div style=\"font-weight: bold; font-size: 1.2em; border-bottom: 1px dashed black; padding-bottom: .5em;\">\n",
    "        Mini Exercise -- Using Functions\n",
    "    </div>\n",
    "    <ol>\n",
    "        <li>\n",
    "            <p>Take a look at this code snippet:</p>\n",
    "            <pre><code>max([1, 2, 3])</code></pre>\n",
    "            <p>What is the function name?</p>\n",
    "            <p>Where is the function invocation?</p>\n",
    "            <p>What is the return value?</p>\n",
    "        </li>\n",
    "        <li>\n",
    "            <p>Take a look at this code snippet:</p>\n",
    "            <pre><code>type(max([1, 2, 3]))</code></pre>\n",
    "            <p>What will the output be? Why?</p>\n",
    "        </li>\n",
    "        <li>\n",
    "            <p>Take a look at this code snippet:</p>\n",
    "            <pre><code>type(max)</code></pre>\n",
    "            <p>What will the output be? Why?</p>\n",
    "        </li>\n",
    "        <li>\n",
    "            <p>What is the difference between the two code blocks below?</p>\n",
    "            <pre><code>print</code></pre>\n",
    "            <pre><code>print()</code></pre>\n",
    "        </li>\n",
    "        <li>What other built in functions do you know?</li>\n",
    "    </ol>\n",
    "</div>"
   ]
  },
  {
   "cell_type": "markdown",
   "metadata": {},
   "source": [
    "### \n",
    "1. \n",
    " - function name: max\n",
    " - funct invocation is `max([1, 2, 3])`\n",
    " - return value: integer value 3\n",
    "\n",
    "2. the output would be int b'c the max of the list is a number\n",
    "\n",
    "3. the output would be function(?) b'c that's what it is.\n",
    "    - `builtin_function_or_method`\n",
    "    \n",
    "4. The difference between `print` and `print()` is:\n",
    "    - `print`: is referring to the function\n",
    "    - `print()`: is calling/running/invoking the function\n",
    "\n",
    "5. Other built in functions:\n",
    "    - `min`\n",
    "    - `avg`\n",
    "    - `"
   ]
  },
  {
   "cell_type": "code",
   "execution_count": 6,
   "metadata": {},
   "outputs": [
    {
     "data": {
      "text/plain": [
       "builtin_function_or_method"
      ]
     },
     "execution_count": 6,
     "metadata": {},
     "output_type": "execute_result"
    }
   ],
   "source": [
    "type(max)"
   ]
  },
  {
   "cell_type": "markdown",
   "metadata": {},
   "source": [
    "### Function Signature:\n",
    "The type and quantity of the function arguments plus the function's return type.\n",
    "\n",
    "e.g.\n",
    "```python\n",
    "# not executable python code\n",
    "max(l: list[int]) -> int\n",
    "```\n",
    "\n",
    "What are the signatures of the `print` funtion and the `range` function?\n",
    "\n",
    "```python\n",
    "print(x) -> None\n",
    "```\n",
    "\n",
    "```python\n",
    "range(start: int, end: int) -> list[int]\n",
    "```\n",
    "\n",
    "```python\n",
    "range(start: int, end: int[, step: int]) -> list[int]\n",
    "```"
   ]
  },
  {
   "cell_type": "code",
   "execution_count": 7,
   "metadata": {},
   "outputs": [
    {
     "name": "stdout",
     "output_type": "stream",
     "text": [
      "hey there!\n"
     ]
    }
   ],
   "source": [
    "return_value = print('hey there!')"
   ]
  },
  {
   "cell_type": "code",
   "execution_count": 9,
   "metadata": {},
   "outputs": [
    {
     "data": {
      "text/plain": [
       "NoneType"
      ]
     },
     "execution_count": 9,
     "metadata": {},
     "output_type": "execute_result"
    }
   ],
   "source": [
    "type(return_value)"
   ]
  },
  {
   "cell_type": "markdown",
   "metadata": {},
   "source": [
    "## Defining Functions"
   ]
  },
  {
   "cell_type": "markdown",
   "metadata": {},
   "source": [
    "<div style=\"padding: 1em 3em; border: 1px solid black;\">\n",
    "    <div style=\"font-weight: bold; font-size: 1.2em; border-bottom: 1px dashed black; padding-bottom: .5em;\">\n",
    "        Vocab\n",
    "    </div>\n",
    "    <ul>\n",
    "        <li>Function Definition</li>\n",
    "        <li>Function Name: usually verb</li>\n",
    "        <li>Argument</li>\n",
    "        <li>Parameter</li>\n",
    "        <li>Function Body</li>\n",
    "    </ul>\n",
    "</div>"
   ]
  },
  {
   "cell_type": "code",
   "execution_count": 10,
   "metadata": {},
   "outputs": [
    {
     "data": {
      "text/plain": [
       "3"
      ]
     },
     "execution_count": 10,
     "metadata": {},
     "output_type": "execute_result"
    }
   ],
   "source": [
    "# n is the parameter\n",
    "def increment(n):\n",
    "    return n + 1 # body: everything indented\n",
    "\n",
    "increment(2) \n",
    "# 2 is the argument to the icocation of the increment function"
   ]
  },
  {
   "cell_type": "markdown",
   "metadata": {},
   "source": [
    "<div style=\"background-color: rgba(0, 100, 200, .1); padding: 1em 3em; border-radius: 5px; border: 1px solid black\">\n",
    "    <div style=\"font-weight: bold; font-size: 1.2em; border-bottom: 1px dashed black; padding-bottom: .5em;\">\n",
    "        Mini Exercise -- Defining Functions\n",
    "    </div>\n",
    "    <ol>\n",
    "        <li>What is the difference between calling and defining a function?</li>\n",
    "        <li>\n",
    "            <p>What is the difference between the two code blocks below?</p>\n",
    "            <pre><code>def increment(n):\n",
    "    return n + 1</code></pre>\n",
    "            <pre><code>def increment(n):\n",
    "    print(n + 1)</code></pre>\n",
    "        </li>\n",
    "        <li>Create a function named <code>nonzero</code>. It should accept a number and return true if the number is anythong other than zero, false otherwise.</li>\n",
    "        <li>Use your <code>nonzero</code> function in combination with the built-in <code>input</code> function and an <code>if</code> statement to prompt the user for a number and print a message displaying whether or not the number is zero.</li>\n",
    "        <li>Transfer the work you have done into a function named <code>explain_nonzero</code>. Calling this function whould prompt the user and display the message as before.</li>\n",
    "    </ol>\n",
    "</div>"
   ]
  },
  {
   "cell_type": "markdown",
   "metadata": {},
   "source": [
    "```python\n",
    "increment(n: int) -> int\n",
    "```"
   ]
  },
  {
   "cell_type": "markdown",
   "metadata": {},
   "source": [
    "1. Defining a function is like creating the rule to follow, whereas calling a definition runs it.\n",
    "\n",
    "2. \n",
    "```python\n",
    "def increment(n):\n",
    "    return n + 1\n",
    "```\n",
    "`return` will...\n",
    "\n",
    "\n",
    "```python\n",
    "def increment(n):\n",
    "    print(n + 1)\n",
    "```\n",
    "`print` is an action occurring.\n",
    "\n",
    "3. \n",
    "```python\n",
    "nonzero(x: int) -> bool\n",
    "```"
   ]
  },
  {
   "cell_type": "code",
   "execution_count": 24,
   "metadata": {},
   "outputs": [
    {
     "data": {
      "text/plain": [
       "True"
      ]
     },
     "execution_count": 24,
     "metadata": {},
     "output_type": "execute_result"
    }
   ],
   "source": [
    "def nonzero(n):\n",
    "    return n != 0\n",
    "\n",
    "nonzero(123)"
   ]
  },
  {
   "cell_type": "markdown",
   "metadata": {},
   "source": [
    "4."
   ]
  },
  {
   "cell_type": "code",
   "execution_count": 25,
   "metadata": {},
   "outputs": [
    {
     "name": "stdout",
     "output_type": "stream",
     "text": [
      "please enter a number: 5\n",
      "That is not zero!\n"
     ]
    }
   ],
   "source": [
    "user_input = int(input(\"Please enter a number: \"))\n",
    "\n",
    "if nonzero(user_input):\n",
    "    print(\"That is not zero!\")\n",
    "else:\n",
    "    print(\"That is zero!\")"
   ]
  },
  {
   "cell_type": "markdown",
   "metadata": {},
   "source": [
    "5. "
   ]
  },
  {
   "cell_type": "code",
   "execution_count": 26,
   "metadata": {},
   "outputs": [],
   "source": [
    "#nothing will happen as an output b'c we are JUST defining the funct here\n",
    "def explain_nonzero():\n",
    "    user_input = int(input(\"Please enter a number: \"))\n",
    "    \n",
    "    if nonzero(user_input):\n",
    "        print(\"That is not zero!\")\n",
    "    else:\n",
    "        print(\"That is zero!\")"
   ]
  },
  {
   "cell_type": "code",
   "execution_count": 27,
   "metadata": {},
   "outputs": [
    {
     "name": "stdout",
     "output_type": "stream",
     "text": [
      "Please enter a number: 0\n",
      "That is zero!\n"
     ]
    }
   ],
   "source": [
    "#calling the funct will result in an output\n",
    "explain_nonzero()"
   ]
  },
  {
   "cell_type": "markdown",
   "metadata": {},
   "source": [
    "- What happens if we omit the `return` keyword?\n",
    "\n",
    "    the function doesn't return a value\n",
    "    \n",
    "    the function call expression evaluates to `None`\n",
    "    \n",
    "    \n",
    "- When is this useful?\n",
    "\n",
    "    For side effects.\n",
    "    \n",
    "    - `square_and_double()`: produces a value\n",
    "    \n",
    "    - `insert_book_into_database(book)`: has a side effect\n",
    "    \n",
    "    - `fill_nulls_with_zero(colum)`: produces a value -- a new column with nulls filled in\n",
    "    \n",
    "    - `launch_the_missles()`: has a side effect \n",
    "    \n",
    "\n"
   ]
  },
  {
   "cell_type": "code",
   "execution_count": 29,
   "metadata": {},
   "outputs": [
    {
     "name": "stdout",
     "output_type": "stream",
     "text": [
      "4\n"
     ]
    },
    {
     "ename": "AssertionError",
     "evalue": "",
     "output_type": "error",
     "traceback": [
      "\u001b[0;31m---------------------------------------------------------------------------\u001b[0m",
      "\u001b[0;31mAssertionError\u001b[0m                            Traceback (most recent call last)",
      "\u001b[0;32m<ipython-input-29-ebf170cc8646>\u001b[0m in \u001b[0;36m<module>\u001b[0;34m\u001b[0m\n\u001b[1;32m      2\u001b[0m     \u001b[0mprint\u001b[0m\u001b[0;34m(\u001b[0m\u001b[0mn\u001b[0m \u001b[0;34m+\u001b[0m \u001b[0;36m1\u001b[0m\u001b[0;34m)\u001b[0m\u001b[0;34m\u001b[0m\u001b[0;34m\u001b[0m\u001b[0m\n\u001b[1;32m      3\u001b[0m \u001b[0;34m\u001b[0m\u001b[0m\n\u001b[0;32m----> 4\u001b[0;31m \u001b[0;32massert\u001b[0m \u001b[0mincrement\u001b[0m\u001b[0;34m(\u001b[0m\u001b[0;36m3\u001b[0m\u001b[0;34m)\u001b[0m \u001b[0;34m==\u001b[0m \u001b[0;36m4\u001b[0m\u001b[0;34m\u001b[0m\u001b[0;34m\u001b[0m\u001b[0m\n\u001b[0m\u001b[1;32m      5\u001b[0m \u001b[0;32massert\u001b[0m \u001b[0mincrement\u001b[0m\u001b[0;34m(\u001b[0m\u001b[0;36m1000\u001b[0m\u001b[0;34m)\u001b[0m \u001b[0;34m==\u001b[0m \u001b[0;36m1001\u001b[0m\u001b[0;34m\u001b[0m\u001b[0;34m\u001b[0m\u001b[0m\n",
      "\u001b[0;31mAssertionError\u001b[0m: "
     ]
    }
   ],
   "source": [
    "def increment(n):\n",
    "    print(n + 1)\n",
    "    \n",
    "assert increment(3) == 4\n",
    "assert increment(1000) == 1001"
   ]
  },
  {
   "cell_type": "markdown",
   "metadata": {},
   "source": [
    "### Default Parameter Values and Keyword Arguments"
   ]
  },
  {
   "cell_type": "code",
   "execution_count": 31,
   "metadata": {},
   "outputs": [],
   "source": [
    "#sayhello(name: str) -> str\n",
    "\n",
    "def sayhello(name=\"Easley\"):\n",
    "    return f\"Hello, {name}!\"\n",
    "\n",
    "#the name parameter has a default value of easley"
   ]
  },
  {
   "cell_type": "code",
   "execution_count": 32,
   "metadata": {},
   "outputs": [
    {
     "data": {
      "text/plain": [
       "'Hello, Easley!'"
      ]
     },
     "execution_count": 32,
     "metadata": {},
     "output_type": "execute_result"
    }
   ],
   "source": [
    "#passing an argument for `name` is optional\n",
    "sayhello()"
   ]
  },
  {
   "cell_type": "code",
   "execution_count": null,
   "metadata": {},
   "outputs": [],
   "source": [
    "def sayhello(name=\"Easley\", greeting=\"Hello\"):\n",
    "    return f\"{greeting}, {name}!\""
   ]
  },
  {
   "cell_type": "code",
   "execution_count": 33,
   "metadata": {},
   "outputs": [
    {
     "data": {
      "text/plain": [
       "'Hello, Easley!'"
      ]
     },
     "execution_count": 33,
     "metadata": {},
     "output_type": "execute_result"
    }
   ],
   "source": [
    "sayhello()"
   ]
  },
  {
   "cell_type": "code",
   "execution_count": 38,
   "metadata": {},
   "outputs": [
    {
     "data": {
      "text/plain": [
       "'Good afternoon, class!'"
      ]
     },
     "execution_count": 38,
     "metadata": {},
     "output_type": "execute_result"
    }
   ],
   "source": [
    "def sayhello(name=\"Easley\", greeting=\"Hello\"):\n",
    "    return f\"{greeting}, {name}!\"\n",
    "\n",
    "sayhello(\"class\", \"Good afternoon\")"
   ]
  },
  {
   "cell_type": "markdown",
   "metadata": {},
   "source": [
    "## positional arguments: paramenter defined by position, or order\n",
    "\n",
    "## keyword arguments: paramenter defined by keyword\n",
    "\n"
   ]
  },
  {
   "cell_type": "code",
   "execution_count": 39,
   "metadata": {},
   "outputs": [
    {
     "data": {
      "text/plain": [
       "'Salutations, Easley!'"
      ]
     },
     "execution_count": 39,
     "metadata": {},
     "output_type": "execute_result"
    }
   ],
   "source": [
    "sayhello(greeting='Salutations')"
   ]
  },
  {
   "cell_type": "markdown",
   "metadata": {},
   "source": [
    "## Function Scope\n",
    "\n",
    "- defining variables inside/outside of functions\n",
    "- defines where a variable can be referenced"
   ]
  },
  {
   "cell_type": "markdown",
   "metadata": {},
   "source": [
    "<div style=\"padding: 1em 3em; border: 1px solid black;\">\n",
    "    <div style=\"font-weight: bold; font-size: 1.2em; border-bottom: 1px dashed black; padding-bottom: .5em;\">\n",
    "        Vocab\n",
    "    </div>\n",
    "    <ul>\n",
    "        <li>Scope</li>\n",
    "        <li>Global</li>\n",
    "        <li>Local</li>\n",
    "    </ul>\n",
    "</div>"
   ]
  },
  {
   "cell_type": "code",
   "execution_count": 40,
   "metadata": {},
   "outputs": [
    {
     "ename": "NameError",
     "evalue": "name 'x' is not defined",
     "output_type": "error",
     "traceback": [
      "\u001b[0;31m---------------------------------------------------------------------------\u001b[0m",
      "\u001b[0;31mNameError\u001b[0m                                 Traceback (most recent call last)",
      "\u001b[0;32m<ipython-input-40-5adf6d27d296>\u001b[0m in \u001b[0;36m<module>\u001b[0;34m\u001b[0m\n\u001b[1;32m      5\u001b[0m \u001b[0;34m\u001b[0m\u001b[0m\n\u001b[1;32m      6\u001b[0m \u001b[0mf\u001b[0m\u001b[0;34m(\u001b[0m\u001b[0;34m)\u001b[0m\u001b[0;34m\u001b[0m\u001b[0;34m\u001b[0m\u001b[0m\n\u001b[0;32m----> 7\u001b[0;31m \u001b[0mprint\u001b[0m\u001b[0;34m(\u001b[0m\u001b[0mx\u001b[0m\u001b[0;34m)\u001b[0m\u001b[0;34m\u001b[0m\u001b[0;34m\u001b[0m\u001b[0m\n\u001b[0m",
      "\u001b[0;31mNameError\u001b[0m: name 'x' is not defined"
     ]
    }
   ],
   "source": [
    "# NB. function names and variables are very generic here because the concept is very generic\n",
    "def f():\n",
    "    x = 123\n",
    "    # local scope: b'c it's inside of the funct\n",
    "    #only exists inside of the function\n",
    "    #doesn't exist outside of the funct\n",
    "\n",
    "f()    \n",
    "print(x)"
   ]
  },
  {
   "cell_type": "code",
   "execution_count": 41,
   "metadata": {},
   "outputs": [
    {
     "name": "stdout",
     "output_type": "stream",
     "text": [
      "123\n"
     ]
    }
   ],
   "source": [
    "x = 123\n",
    "# globally scoped b'c it's outside of the funct\n",
    "\n",
    "def f():\n",
    "    print(x)\n",
    "    #we can access a variable defined outside the function, \n",
    "    #but not the other way around\n",
    "\n",
    "f()    "
   ]
  },
  {
   "cell_type": "markdown",
   "metadata": {},
   "source": [
    "### Prefer local scope, use global sparingly when a variable NEEDS to be referenced from within multiple functions.\n",
    "\n",
    "#### Harder to \"mess up\" by accidentally deleting data that is unneccessary for on function, but needed for another.\n",
    "\n",
    "    - avoid re-assigning global variables"
   ]
  },
  {
   "cell_type": "code",
   "execution_count": 43,
   "metadata": {},
   "outputs": [
    {
     "name": "stdout",
     "output_type": "stream",
     "text": [
      "13\n",
      "123\n",
      "124\n"
     ]
    }
   ],
   "source": [
    "#global var x\n",
    "x = 123\n",
    "\n",
    "#local var. x\n",
    "def f(x):\n",
    "    return x + 1\n",
    "\n",
    "#funtion f is invoked where x=12 this is the local var. x\n",
    "print(f(12))\n",
    "print(x)\n",
    "print(f(x))"
   ]
  },
  {
   "cell_type": "markdown",
   "metadata": {},
   "source": [
    "<div style=\"background-color: rgba(0, 100, 200, .1); padding: 1em 3em; border-radius: 5px; border: 1px solid black\">\n",
    "    <div style=\"font-weight: bold; font-size: 1.2em; border-bottom: 1px dashed black; padding-bottom: .5em;\">\n",
    "        Mini Exercise -- Function Scope\n",
    "    </div>\n",
    "    <ol>\n",
    "        <li>What is the difference between local and global scope? Which is preferred?</li>\n",
    "        <li>Take a look at the cell below this one. Before running it, think about what you would expect to happen. Explain step by step how the python code is executing.</li>\n",
    "    </ol>\n",
    "</div>"
   ]
  },
  {
   "cell_type": "code",
   "execution_count": null,
   "metadata": {},
   "outputs": [],
   "source": []
  },
  {
   "cell_type": "markdown",
   "metadata": {},
   "source": [
    "2. I predict: \n",
    "    \n",
    "    - 42\n",
    "    \n",
    "    - 43\n",
    "    \n",
    "    - 42\n",
    "    \n",
    "##### I was incorrect, `changeit(x)`  type is `NoneType`"
   ]
  },
  {
   "cell_type": "code",
   "execution_count": 49,
   "metadata": {},
   "outputs": [
    {
     "name": "stdout",
     "output_type": "stream",
     "text": [
      "42\n",
      "42\n"
     ]
    }
   ],
   "source": [
    "def changeit(x): #x is defined as a parameter\n",
    "    x = x + 1#local\n",
    "\n",
    "x = 42 #global\n",
    "print(x)\n",
    "changeit(x)\n",
    "print(x)"
   ]
  },
  {
   "cell_type": "code",
   "execution_count": 46,
   "metadata": {},
   "outputs": [
    {
     "data": {
      "text/plain": [
       "NoneType"
      ]
     },
     "execution_count": 46,
     "metadata": {},
     "output_type": "execute_result"
    }
   ],
   "source": [
    "type(changeit(x))"
   ]
  },
  {
   "cell_type": "code",
   "execution_count": 50,
   "metadata": {},
   "outputs": [
    {
     "name": "stdout",
     "output_type": "stream",
     "text": [
      "42\n"
     ]
    }
   ],
   "source": [
    "def changeit(x): #x is defined as a parameter\n",
    "    x = x + 1 #local\n",
    "\n",
    "    x = 42 #global\n",
    "print(x)\n",
    "changeit(x)\n",
    "print(x)"
   ]
  },
  {
   "cell_type": "markdown",
   "metadata": {},
   "source": [
    "### Function Scope Example\n",
    "\n",
    "```python\n",
    "def fill_nulls(df):\n",
    "    return df.fillna(0)\n",
    "    \n",
    "def drop_outliers(df):\n",
    "    outlier_cutoff = 3\n",
    "    return df[df.zscore().abs() < 3]\n",
    "    \n",
    "def prep_dataframe(df):\n",
    "    df = fill_nulls(df)\n",
    "    df = drop_outliers(df)\n",
    "    return df\n",
    "```"
   ]
  },
  {
   "cell_type": "markdown",
   "metadata": {},
   "source": [
    "[Data Prep example](https://github.com/CodeupClassroom/darden-nlp-exercises/blob/main/nlp_prepare.py). The specifics here aren't important right now, just pay attention to the overall shape of functions and how local scope is used."
   ]
  },
  {
   "cell_type": "markdown",
   "metadata": {},
   "source": [
    "## Lambda Functions\n",
    "\n",
    "- A function as an expression\n",
    "- used for \"throw away\", or one-off, functions"
   ]
  },
  {
   "cell_type": "code",
   "execution_count": null,
   "metadata": {},
   "outputs": [],
   "source": [
    "def increment(n):\n",
    "    return n + 1\n",
    "\n",
    "# same as\n",
    "\n",
    "increment = lambda n: n + 1 \n",
    "# lambda is limited to a single expression"
   ]
  },
  {
   "cell_type": "markdown",
   "metadata": {},
   "source": [
    "**Use case**: sorting (min, max too)\n",
    "\n",
    "Python doesn't know how to compare dictionaries, but it does know how to compare strings or numbers"
   ]
  },
  {
   "cell_type": "code",
   "execution_count": 53,
   "metadata": {},
   "outputs": [],
   "source": [
    "students = [\n",
    "    {\"name\": \"Ada Lovelace\", \"grade\": 87},\n",
    "    {\"name\": \"Thomas Bayes\", \"grade\": 89},\n",
    "    {\"name\": \"Christine Darden\", \"grade\": 99},\n",
    "    {\"name\": \"Annie Easley\", \"grade\": 94},\n",
    "    {\"name\": \"Marie Curie\", \"grade\": 97},\n",
    "]"
   ]
  },
  {
   "cell_type": "code",
   "execution_count": 51,
   "metadata": {},
   "outputs": [
    {
     "data": {
      "text/plain": [
       "[-4, 1, 3, 5, 100]"
      ]
     },
     "execution_count": 51,
     "metadata": {},
     "output_type": "execute_result"
    }
   ],
   "source": [
    "sorted([3, 1, 5, 100, -4])"
   ]
  },
  {
   "cell_type": "code",
   "execution_count": 54,
   "metadata": {},
   "outputs": [
    {
     "ename": "TypeError",
     "evalue": "'<' not supported between instances of 'dict' and 'dict'",
     "output_type": "error",
     "traceback": [
      "\u001b[0;31m---------------------------------------------------------------------------\u001b[0m",
      "\u001b[0;31mTypeError\u001b[0m                                 Traceback (most recent call last)",
      "\u001b[0;32m<ipython-input-54-e424d624d53b>\u001b[0m in \u001b[0;36m<module>\u001b[0;34m\u001b[0m\n\u001b[0;32m----> 1\u001b[0;31m \u001b[0msorted\u001b[0m\u001b[0;34m(\u001b[0m\u001b[0mstudents\u001b[0m\u001b[0;34m)\u001b[0m\u001b[0;34m\u001b[0m\u001b[0;34m\u001b[0m\u001b[0m\n\u001b[0m\u001b[1;32m      2\u001b[0m \u001b[0;31m#NameError: name 'students' is not defined\u001b[0m\u001b[0;34m\u001b[0m\u001b[0;34m\u001b[0m\u001b[0;34m\u001b[0m\u001b[0m\n",
      "\u001b[0;31mTypeError\u001b[0m: '<' not supported between instances of 'dict' and 'dict'"
     ]
    }
   ],
   "source": [
    "sorted(students)\n",
    "#TypeError: '<' not supported between instances of 'dict' and 'dict'\n",
    "#can't compare dictionaries, since has lots/variety of data in it"
   ]
  },
  {
   "cell_type": "code",
   "execution_count": 55,
   "metadata": {},
   "outputs": [
    {
     "data": {
      "text/plain": [
       "[{'name': 'Ada Lovelace', 'grade': 87},\n",
       " {'name': 'Annie Easley', 'grade': 94},\n",
       " {'name': 'Christine Darden', 'grade': 99},\n",
       " {'name': 'Marie Curie', 'grade': 97},\n",
       " {'name': 'Thomas Bayes', 'grade': 89}]"
      ]
     },
     "execution_count": 55,
     "metadata": {},
     "output_type": "execute_result"
    }
   ],
   "source": [
    "# sort by name\n",
    "sorted(students, key=lambda s: s[\"name\"])\n",
    "#key maps one element to a value that can be compared"
   ]
  },
  {
   "cell_type": "code",
   "execution_count": 56,
   "metadata": {},
   "outputs": [
    {
     "data": {
      "text/plain": [
       "[{'name': 'Ada Lovelace', 'grade': 87},\n",
       " {'name': 'Thomas Bayes', 'grade': 89},\n",
       " {'name': 'Annie Easley', 'grade': 94},\n",
       " {'name': 'Marie Curie', 'grade': 97},\n",
       " {'name': 'Christine Darden', 'grade': 99}]"
      ]
     },
     "execution_count": 56,
     "metadata": {},
     "output_type": "execute_result"
    }
   ],
   "source": [
    "# sort by grade\n",
    "sorted(students, key=lambda s: s[\"grade\"])"
   ]
  },
  {
   "cell_type": "markdown",
   "metadata": {},
   "source": [
    "<div style=\"background-color: rgba(0, 100, 200, .1); padding: 1em 3em; border-radius: 5px; border: 1px solid black\">\n",
    "    <div style=\"font-weight: bold; font-size: 1.2em; border-bottom: 1px dashed black; padding-bottom: .5em;\">\n",
    "        Mini Exercise -- Lambda Functions &amp; Sorting\n",
    "    </div>\n",
    "    <p>Write the code necessary to sort the list of student dictionaries by student <em>last</em> name.</p>\n",
    "    <p>Hints:</p>\n",
    "    <ul>\n",
    "        <li>You will need to write a function that takes in a student dictionary and returns just the last name.</li>\n",
    "        <li>You can use the <code>.split</code> string method to seperate the first name and the last name.</li>\n",
    "    </ul>\n",
    "</div>"
   ]
  },
  {
   "cell_type": "code",
   "execution_count": 66,
   "metadata": {},
   "outputs": [
    {
     "data": {
      "text/plain": [
       "'Lovelace'"
      ]
     },
     "execution_count": 66,
     "metadata": {},
     "output_type": "execute_result"
    }
   ],
   "source": [
    "student = {'name': 'Ada Lovelace', 'grade': 87}\n",
    "\n",
    "student['name'].split(' ')[-1]"
   ]
  },
  {
   "cell_type": "code",
   "execution_count": 67,
   "metadata": {},
   "outputs": [
    {
     "data": {
      "text/plain": [
       "[{'name': 'Thomas Bayes', 'grade': 89},\n",
       " {'name': 'Marie Curie', 'grade': 97},\n",
       " {'name': 'Christine Darden', 'grade': 99},\n",
       " {'name': 'Annie Easley', 'grade': 94},\n",
       " {'name': 'Ada Lovelace', 'grade': 87}]"
      ]
     },
     "execution_count": 67,
     "metadata": {},
     "output_type": "execute_result"
    }
   ],
   "source": [
    "sorted(students, key = lambda s: s['name'].split(\" \")[-1])"
   ]
  },
  {
   "cell_type": "code",
   "execution_count": null,
   "metadata": {},
   "outputs": [],
   "source": []
  }
 ],
 "metadata": {
  "kernelspec": {
   "display_name": "Python 3",
   "language": "python",
   "name": "python3"
  },
  "language_info": {
   "codemirror_mode": {
    "name": "ipython",
    "version": 3
   },
   "file_extension": ".py",
   "mimetype": "text/x-python",
   "name": "python",
   "nbconvert_exporter": "python",
   "pygments_lexer": "ipython3",
   "version": "3.8.5"
  }
 },
 "nbformat": 4,
 "nbformat_minor": 4
}
